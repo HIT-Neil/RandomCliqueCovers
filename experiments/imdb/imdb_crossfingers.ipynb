{
 "cells": [
  {
   "cell_type": "code",
   "execution_count": 1,
   "metadata": {},
   "outputs": [],
   "source": [
    "import numpy as np\n",
    "import networkx as nx\n",
    "from scipy.special import gammaln\n",
    "import matplotlib.pyplot as plt\n",
    "import pdb\n",
    "import importlib"
   ]
  },
  {
   "cell_type": "code",
   "execution_count": 2,
   "metadata": {},
   "outputs": [],
   "source": [
    "import optim\n",
    "import sparsedense as spd"
   ]
  },
  {
   "cell_type": "code",
   "execution_count": 3,
   "metadata": {},
   "outputs": [
    {
     "data": {
      "text/plain": [
       "<module 'sparsedense' from 'C:\\\\Github\\\\sparsedense3\\\\imdb\\\\sparsedense.py'>"
      ]
     },
     "execution_count": 3,
     "metadata": {},
     "output_type": "execute_result"
    }
   ],
   "source": [
    "importlib.reload(optim)\n",
    "importlib.reload(spd)"
   ]
  },
  {
   "cell_type": "code",
   "execution_count": 4,
   "metadata": {},
   "outputs": [],
   "source": [
    "links = np.genfromtxt('imdb.tsv', delimiter='\\t', dtype=int)\n",
    "g = nx.Graph()\n",
    "g.add_edges_from(links)\n",
    "net = nx.adjacency_matrix(g).toarray().astype(int)\n",
    "for i in range(net.shape[0]):\n",
    "    net[i, i] = 1"
   ]
  },
  {
   "cell_type": "code",
   "execution_count": 5,
   "metadata": {},
   "outputs": [],
   "source": [
    "alpha0 = 3.\n",
    "sigma0 = .95\n",
    "c0 = 25.\n",
    "lamb0 = 2000.\n",
    "\n",
    "model = spd.NetworkFull(net, links, alpha=alpha0, sigma=sigma0, c=c0, lamb=lamb0)"
   ]
  },
  {
   "cell_type": "code",
   "execution_count": 6,
   "metadata": {},
   "outputs": [],
   "source": [
    "model.clique_init()"
   ]
  },
  {
   "cell_type": "code",
   "execution_count": 7,
   "metadata": {},
   "outputs": [
    {
     "name": "stdout",
     "output_type": "stream",
     "text": [
      "(846, 2288)\n"
     ]
    },
    {
     "data": {
      "image/png": "[encoded data removed]",
      "text/plain": [
       "<Figure size 432x288 with 1 Axes>"
      ]
     },
     "metadata": {},
     "output_type": "display_data"
    }
   ],
   "source": [
    "Z = model.Z\n",
    "print(Z.shape)\n",
    "plt.imshow(Z, aspect = 'auto')\n",
    "plt.show()"
   ]
  },
  {
   "cell_type": "code",
   "execution_count": 8,
   "metadata": {},
   "outputs": [
    {
     "name": "stdout",
     "output_type": "stream",
     "text": [
      "iter      0: alpha:      3.000, sigma: 0.950, c:   25.000, ll:  -9570.491, grad:     20.580, -11732.083,     -0.841, step: 2.814749767106563e-05\n",
      "iter      1: alpha:      3.001, sigma: 0.620, c:   25.000, ll:  -9513.530, grad:    436.901,   3745.812,     19.670, step: 8.466767299456543e-05\n",
      "iter     52: alpha:      3.609, sigma: 0.806, c:   25.017, ll:  -8967.310, grad:    120.471,   -375.262,      3.274, step: 6.333645628340034e-05\n",
      "iter    103: alpha:      4.020, sigma: 0.763, c:   25.031, ll:  -8920.363, grad:    107.706,    328.681,      4.400, step: 7.40303706069687e-05\n",
      "iter    154: alpha:      4.326, sigma: 0.770, c:   25.044, ll:  -8894.477, grad:     59.029,   -214.782,      2.903, step: 6.922390160488346e-05\n",
      "iter    205: alpha:      4.564, sigma: 0.743, c:   25.057, ll:  -8880.298, grad:     62.367,    224.387,      3.616, step: 8.091186958328388e-05\n",
      "iter    256: alpha:      4.754, sigma: 0.751, c:   25.069, ll:  -8871.001, grad:     33.492,   -185.441,      2.343, step: 7.565861487357144e-05\n",
      "iter    307: alpha:      4.907, sigma: 0.733, c:   25.081, ll:  -8864.730, grad:     37.532,     90.605,      2.992, step: 8.843303884319742e-05\n",
      "iter    358: alpha:      5.035, sigma: 0.736, c:   25.092, ll:  -8860.844, grad:     23.102,   -104.353,      2.294, step: 8.269146742493937e-05\n",
      "iter    409: alpha:      5.141, sigma: 0.723, c:   25.103, ll:  -8858.093, grad:     26.792,     89.090,      2.646, step: 7.732267119095839e-05\n",
      "iter    460: alpha:      5.231, sigma: 0.726, c:   25.113, ll:  -8856.109, grad:     16.294,    -69.750,      1.969, step: 7.230244747479105e-05\n",
      "iter    511: alpha:      5.306, sigma: 0.717, c:   25.123, ll:  -8854.716, grad:     18.854,     59.563,      2.382, step: 8.451020622940214e-05\n",
      "iter    562: alpha:      5.371, sigma: 0.719, c:   25.132, ll:  -8853.675, grad:     12.177,    -40.268,      1.978, step: 7.902332721919201e-05\n",
      "iter    613: alpha:      5.426, sigma: 0.713, c:   25.142, ll:  -8852.932, grad:     13.333,     34.122,      2.146, step: 9.236585915789195e-05\n",
      "iter    664: alpha:      5.475, sigma: 0.714, c:   25.151, ll:  -8852.399, grad:      8.295,    -45.157,      1.875, step: 8.63689468737383e-05\n",
      "iter    715: alpha:      5.516, sigma: 0.709, c:   25.160, ll:  -8851.974, grad:     10.285,     35.188,      2.178, step: 8.07613879423463e-05\n",
      "iter    766: alpha:      5.552, sigma: 0.710, c:   25.169, ll:  -8851.653, grad:      6.400,    -28.648,      2.010, step: 7.55179033490958e-05\n",
      "iter    817: alpha:      5.582, sigma: 0.707, c:   25.178, ll:  -8851.410, grad:      7.555,     22.781,      1.952, step: 8.826856916938109e-05\n",
      "iter    868: alpha:      5.609, sigma: 0.708, c:   25.186, ll:  -8851.224, grad:      4.841,    -21.070,      1.921, step: 8.25376760495362e-05\n",
      "iter    919: alpha:      5.633, sigma: 0.705, c:   25.195, ll:  -8851.077, grad:      5.562,     13.723,      2.015, step: 9.647358102329635e-05\n",
      "iter    970: alpha:      5.653, sigma: 0.706, c:   25.203, ll:  -8850.967, grad:      3.631,    -16.804,      1.860, step: 9.020997227857687e-05\n"
     ]
    }
   ],
   "source": [
    "est_alpha, est_sigma, est_c = optim.optimize_hypers(\n",
    "    model.Z, model.alpha, model.sigma, model.c, momentum = 0.,\n",
    "    num_iters = 1000, print_every = 51, h = 1e-8)"
   ]
  },
  {
   "cell_type": "code",
   "execution_count": null,
   "metadata": {},
   "outputs": [],
   "source": [
    "est_alpha, est_sigma, est_c = optim.optimize_hypers(\n",
    "    model.Z, model.alpha, model.sigma, model.c, momentum = 0.25,\n",
    "    num_iters = 20000, print_every = 100, h = 1e-4)"
   ]
  },
  {
   "cell_type": "code",
   "execution_count": null,
   "metadata": {},
   "outputs": [],
   "source": []
  },
  {
   "cell_type": "code",
   "execution_count": null,
   "metadata": {},
   "outputs": [],
   "source": []
  },
  {
   "cell_type": "code",
   "execution_count": null,
   "metadata": {},
   "outputs": [],
   "source": []
  },
  {
   "cell_type": "code",
   "execution_count": null,
   "metadata": {},
   "outputs": [],
   "source": []
  },
  {
   "cell_type": "code",
   "execution_count": null,
   "metadata": {},
   "outputs": [],
   "source": []
  }
 ],
 "metadata": {
  "kernelspec": {
   "display_name": "Python 3",
   "language": "python",
   "name": "python3"
  },
  "language_info": {
   "codemirror_mode": {
    "name": "ipython",
    "version": 3
   },
   "file_extension": ".py",
   "mimetype": "text/x-python",
   "name": "python",
   "nbconvert_exporter": "python",
   "pygments_lexer": "ipython3",
   "version": "3.6.5"
  }
 },
 "nbformat": 4,
 "nbformat_minor": 2
}
