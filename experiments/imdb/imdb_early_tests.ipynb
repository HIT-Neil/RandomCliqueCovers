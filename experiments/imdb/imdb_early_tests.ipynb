{
 "cells": [
  {
   "cell_type": "code",
   "execution_count": 2,
   "metadata": {},
   "outputs": [],
   "source": [
    "import numpy as np\n",
    "import networkx as nx\n",
    "import matplotlib.pyplot as plt"
   ]
  },
  {
   "cell_type": "code",
   "execution_count": 3,
   "metadata": {},
   "outputs": [],
   "source": [
    "import helpertests as tst\n",
    "import sparsedense as spd\n",
    "import optim"
   ]
  },
  {
   "cell_type": "code",
   "execution_count": 6,
   "metadata": {},
   "outputs": [
    {
     "name": "stdout",
     "output_type": "stream",
     "text": [
      "- num nodes: 2189\n",
      "- num edges: 9814\n",
      "- edge node ratio: 4.48\n",
      "- density: 0.004098\n",
      "- mean degree: 8.97\n",
      "- mean maximal clique containing node: 6.39\n",
      "- clustering coefficient: 0.87\n",
      "- connected component sizes (top 5): [2107, 8, 4, 4, 4]\n",
      "- mean distance between nodes (largest conn. comp.): 3.22\n"
     ]
    }
   ],
   "source": [
    "Z = optim.sample_from_ibp(846, alpha=5., sigma=0.75, c=25)\n",
    "net = Z.transpose() @ Z\n",
    "K, N = Z.shape\n",
    "links = []\n",
    "for i in range(N - 1):\n",
    "    for j in range(i + 1, N):\n",
    "        if net[i, j] >= 1:\n",
    "            links.append([i, j])\n",
    "\n",
    "g = nx.Graph()\n",
    "g.add_edges_from(links)\n",
    "tst.test_stats(g)"
   ]
  },
  {
   "cell_type": "code",
   "execution_count": 8,
   "metadata": {},
   "outputs": [
    {
     "name": "stdout",
     "output_type": "stream",
     "text": [
      "- num nodes: 2288\n",
      "- num edges: 5232\n",
      "- edge node ratio: 2.29\n",
      "- density: 0.002000\n",
      "- mean degree: 4.57\n",
      "- mean maximal clique containing node: 4.29\n",
      "- clustering coefficient: 0.80\n",
      "- connected component sizes (top 5): [2288]\n",
      "- mean distance between nodes (largest conn. comp.): 11.27\n"
     ]
    }
   ],
   "source": [
    "links_true = np.genfromtxt('imdb.tsv', delimiter='\\t', dtype=int)\n",
    "g_true = nx.Graph()\n",
    "g_true.add_edges_from(links_true)\n",
    "tst.test_stats(g_true)"
   ]
  },
  {
   "cell_type": "code",
   "execution_count": 16,
   "metadata": {},
   "outputs": [
    {
     "data": {
      "text/plain": [
       "(0, 30)"
      ]
     },
     "execution_count": 16,
     "metadata": {},
     "output_type": "execute_result"
    },
    {
     "data": {
      "image/png": "[encoded data removed]",
      "text/plain": [
       "<Figure size 432x288 with 2 Axes>"
      ]
     },
     "metadata": {},
     "output_type": "display_data"
    }
   ],
   "source": [
    "fig, ax = plt.subplots(2, 1, sharex=True)\n",
    "\n",
    "deg = np.array([nx.degree(g, i) for i in g.nodes()])\n",
    "deg_true = np.array([nx.degree(g_true, i) for i in g_true.nodes()])\n",
    "\n",
    "ax[0].hist(deg, 300, density=True)\n",
    "ax[1].hist(deg_true, 20, density=True)\n",
    "\n",
    "plt.xlim(0, 30)"
   ]
  },
  {
   "cell_type": "code",
   "execution_count": 12,
   "metadata": {},
   "outputs": [
    {
     "data": {
      "text/plain": [
       "47"
      ]
     },
     "execution_count": 12,
     "metadata": {},
     "output_type": "execute_result"
    }
   ],
   "source": [
    "len(deg[np.where(deg == 1)])"
   ]
  },
  {
   "cell_type": "code",
   "execution_count": 13,
   "metadata": {},
   "outputs": [
    {
     "data": {
      "text/plain": [
       "2"
      ]
     },
     "execution_count": 13,
     "metadata": {},
     "output_type": "execute_result"
    }
   ],
   "source": [
    "len(deg_true[np.where(deg_true == 1)])"
   ]
  },
  {
   "cell_type": "code",
   "execution_count": 17,
   "metadata": {},
   "outputs": [
    {
     "data": {
      "text/plain": [
       "(0, 15)"
      ]
     },
     "execution_count": 17,
     "metadata": {},
     "output_type": "execute_result"
    },
    {
     "data": {
      "image/png": "[encoded data removed]",
      "text/plain": [
       "<Figure size 432x288 with 2 Axes>"
      ]
     },
     "metadata": {},
     "output_type": "display_data"
    }
   ],
   "source": [
    "fig, ax = plt.subplots(2, 1, sharex=True)\n",
    "\n",
    "clique = np.array([nx.node_clique_number(g, i) for i in g.nodes()])\n",
    "clique_true = np.array([nx.node_clique_number(g_true, i) for i in g_true.nodes()])\n",
    "\n",
    "ax[0].hist(clique, 5, density=True)\n",
    "ax[1].hist(clique_true, 5, density=True)\n",
    "\n",
    "plt.xlim(0, 15)"
   ]
  },
  {
   "cell_type": "code",
   "execution_count": 18,
   "metadata": {},
   "outputs": [
    {
     "data": {
      "text/plain": [
       "(0, 5)"
      ]
     },
     "execution_count": 18,
     "metadata": {},
     "output_type": "execute_result"
    },
    {
     "data": {
      "image/png": "[encoded data removed]",
      "text/plain": [
       "<Figure size 432x288 with 2 Axes>"
      ]
     },
     "metadata": {},
     "output_type": "display_data"
    }
   ],
   "source": [
    "fig, ax = plt.subplots(2, 1, sharex=True)\n",
    "\n",
    "clustering = np.array([nx.clustering(g, i) for i in g.nodes()])\n",
    "clustering_true = np.array([nx.clustering(g_true, i) for i in g_true.nodes()])\n",
    "\n",
    "ax[0].hist(clustering, 5, density=True)\n",
    "ax[1].hist(clustering_true, 5, density=True)\n",
    "\n",
    "plt.xlim(0, 5)"
   ]
  },
  {
   "cell_type": "code",
   "execution_count": null,
   "metadata": {},
   "outputs": [],
   "source": []
  }
 ],
 "metadata": {
  "kernelspec": {
   "display_name": "Python 3",
   "language": "python",
   "name": "python3"
  },
  "language_info": {
   "codemirror_mode": {
    "name": "ipython",
    "version": 3
   },
   "file_extension": ".py",
   "mimetype": "text/x-python",
   "name": "python",
   "nbconvert_exporter": "python",
   "pygments_lexer": "ipython3",
   "version": "3.6.5"
  }
 },
 "nbformat": 4,
 "nbformat_minor": 2
}
