{
 "cells": [
  {
   "cell_type": "code",
   "execution_count": 1,
   "metadata": {},
   "outputs": [],
   "source": [
    "import sys\n",
    "sys.path.append('../../sparsedense/')"
   ]
  },
  {
   "cell_type": "code",
   "execution_count": 2,
   "metadata": {},
   "outputs": [],
   "source": [
    "import numpy as np\n",
    "import networkx as nx\n",
    "import matplotlib.pyplot as plt\n",
    "import pickle\n",
    "import importlib\n",
    "from statsmodels.nonparametric.kde import KDEUnivariate\n",
    "from collections import Counter\n",
    "import pandas as pd"
   ]
  },
  {
   "cell_type": "code",
   "execution_count": 3,
   "metadata": {},
   "outputs": [],
   "source": [
    "import optim as opt\n",
    "import helpertests as tst\n",
    "import sparsedense as spd"
   ]
  },
  {
   "cell_type": "code",
   "execution_count": 4,
   "metadata": {},
   "outputs": [],
   "source": [
    "test = 'imdb'\n",
    "np.random.seed(110104)"
   ]
  },
  {
   "cell_type": "code",
   "execution_count": 5,
   "metadata": {},
   "outputs": [],
   "source": [
    "links = np.genfromtxt('{}.tsv'.format(test), delimiter='\\t', dtype=int)\n",
    "g = nx.Graph()\n",
    "g.add_edges_from(links)\n",
    "net = nx.adjacency_matrix(g).toarray().astype(int)\n",
    "for i in range(net.shape[0]):\n",
    "    net[i, i] = 1\n",
    "    "
   ]
  },
  {
   "cell_type": "code",
   "execution_count": 6,
   "metadata": {},
   "outputs": [],
   "source": [
    "with open('{}.pkl'.format(test), 'rb') as f:\n",
    "    runs = pickle.load(f)"
   ]
  },
  {
   "cell_type": "code",
   "execution_count": 7,
   "metadata": {},
   "outputs": [
    {
     "data": {
      "text/plain": [
       "(4.112497321839149, 0.007489108678953471, 750.009112289728, 821)"
      ]
     },
     "execution_count": 7,
     "metadata": {},
     "output_type": "execute_result"
    }
   ],
   "source": [
    "alpha, sigma, c, num_cliques = runs['alphas'][-1], runs['sigmas'][-1], runs['cs'][-1], runs['Ks'][-1]\n",
    "alpha, sigma, c, num_cliques"
   ]
  },
  {
   "cell_type": "code",
   "execution_count": 8,
   "metadata": {},
   "outputs": [],
   "source": [
    "def gen_rcc_samples(nreps, alpha, sigma, c, num_cliques):\n",
    "    for k in range(nreps):\n",
    "        Z = opt.sample_from_ibp(num_cliques, alpha=alpha, sigma=sigma, c=c)\n",
    "        net = Z.transpose() @ Z\n",
    "        K, N = Z.shape\n",
    "        links = []\n",
    "        for i in range(N - 1):\n",
    "            for j in range(i + 1, N):\n",
    "                if net[i, j] >= 1:\n",
    "                    links.append([i, j])\n",
    "        np.savetxt('rcc_runs/{}.tsv'.format(k), np.array(links), delimiter='\\t', fmt='%d')"
   ]
  },
  {
   "cell_type": "code",
   "execution_count": 9,
   "metadata": {},
   "outputs": [],
   "source": [
    "nreps = 25\n",
    "# gen_rcc_samples(nreps, alpha, sigma, c, num_cliques)"
   ]
  },
  {
   "cell_type": "code",
   "execution_count": 10,
   "metadata": {},
   "outputs": [],
   "source": [
    "def test_samples(path, n=25, mc_size=500, verbose=True, offset=0, zeropad=False, nodeoffset=0):\n",
    "    \n",
    "    num_nodes, num_edges, edge_node, density, deg, max_clique_node, clust_coeff, conn_comp_largest, short_paths, triang_node = \\\n",
    "        [], [], [], [], [], [], [], [], [], []\n",
    "    \n",
    "    for i in range(1, n):\n",
    "        strpattern = '{}.tsv' if not zeropad else '{:02d}.tsv'\n",
    "        links = np.genfromtxt(path + strpattern.format(i+offset), delimiter='\\t', dtype=int)\n",
    "        g = nx.Graph()\n",
    "        for i, j in links:\n",
    "            if i != j:\n",
    "                g.add_edge(i - nodeoffset, j - nodeoffset)\n",
    "\n",
    "        num_nodes_i, num_edges_i, edge_node_ratio_i, density_i, deg_i, max_clique_node_i, clust_coeff_i, conn_comp_i, short_paths_i, triang_node_i = \\\n",
    "            tst.test_stats(g, mc_size=mc_size, verbose=False, return_results=True)\n",
    "\n",
    "        num_nodes.append(num_nodes_i)\n",
    "        num_edges.append(num_edges_i)\n",
    "        edge_node.append(edge_node_ratio_i)\n",
    "        density.append(density_i)\n",
    "        deg.append(deg_i)\n",
    "        max_clique_node.append(max_clique_node_i)\n",
    "        clust_coeff.append(clust_coeff_i)\n",
    "        conn_comp_largest.append(conn_comp_i / num_nodes_i)\n",
    "        short_paths.append(short_paths_i)\n",
    "        triang_node.append(triang_node_i)\n",
    "        \n",
    "    if verbose:\n",
    "        print(\"- num nodes: {:f}, {:f}\".format(np.mean(num_nodes), np.std(num_nodes)))\n",
    "        print(\"- num edges: {:f}, {:f}\".format(np.mean(num_edges), np.std(num_edges)))\n",
    "        print(\"- edge node ratio: {:2.2f}, {:f}\".format(np.mean(edge_node), np.std(edge_node)))\n",
    "        print(\"- triang node ratio: {:f}, {:f}\".format(np.mean(triang_node), np.std(triang_node)))\n",
    "        print(\"- density (1000x): {:2.6f}, {:f}\".format(1000 * np.mean(density), 1000 * np.std(density)))\n",
    "        print(\"- mean degree: {:2.2f}, {:f}\".format(np.mean(deg), np.std(deg)))\n",
    "        print(\"- mean maximal clique containing node: {:2.2f}, {:f}\".format(np.mean(max_clique_node), np.std(max_clique_node)))\n",
    "        print(\"- clustering coefficient: {:2.2f}, {:f}\".format(np.mean(clust_coeff), np.std(clust_coeff)))\n",
    "        print(\"- connected component sizes (largest): {}, {:f}\".format(np.mean(conn_comp_largest), np.std(conn_comp_largest)))\n",
    "        print(\"- mean distance between nodes (largest conn. comp.): {:2.2f}, {:f}\".format(np.mean(short_paths), np.std(short_paths)))  "
   ]
  },
  {
   "cell_type": "code",
   "execution_count": 11,
   "metadata": {},
   "outputs": [
    {
     "name": "stdout",
     "output_type": "stream",
     "text": [
      "- num nodes: 2288\n",
      "- num edges: 5232\n",
      "- edge node ratio: 2.29\n",
      "- triang node ratio: 1.91\n",
      "- density: 0.002000\n",
      "- mean degree: 4.57\n",
      "- clustering coefficient: 0.82\n",
      "- mean maximal clique containing node: 4.30\n",
      "- connected component sizes (top 5): [2288]\n",
      "- mean distance between nodes (largest conn. comp.): 0.00\n"
     ]
    }
   ],
   "source": [
    "tst.test_stats(g)"
   ]
  },
  {
   "cell_type": "code",
   "execution_count": 12,
   "metadata": {},
   "outputs": [
    {
     "name": "stdout",
     "output_type": "stream",
     "text": [
      "- num nodes: 2243.208333, 43.265632\n",
      "- num edges: 6795.375000, 288.877831\n",
      "- edge node ratio: 3.03, 0.085507\n",
      "- triang node ratio: 4.135722, 0.274805\n",
      "- density (1000x): 2.701416, 0.063365\n",
      "- mean degree: 6.06, 0.171014\n",
      "- mean maximal clique containing node: 5.54, 0.127168\n",
      "- clustering coefficient: 0.78, 0.015702\n",
      "- connected component sizes (largest): 0.9035629950221159, 0.016844\n",
      "- mean distance between nodes (largest conn. comp.): 0.00, 0.000000\n"
     ]
    }
   ],
   "source": [
    "test_samples('rcc_runs/')"
   ]
  },
  {
   "cell_type": "code",
   "execution_count": 13,
   "metadata": {},
   "outputs": [
    {
     "name": "stdout",
     "output_type": "stream",
     "text": [
      "- num nodes: 2292.500000, 54.470175\n",
      "- num edges: 5251.375000, 237.513300\n",
      "- edge node ratio: 2.29, 0.061670\n",
      "- triang node ratio: 0.009722, 0.003736\n",
      "- density (1000x): 1.998887, 0.046148\n",
      "- mean degree: 4.58, 0.123340\n",
      "- mean maximal clique containing node: 2.03, 0.010959\n",
      "- clustering coefficient: 0.00, 0.002272\n",
      "- connected component sizes (largest): 0.9985934812276133, 0.001098\n",
      "- mean distance between nodes (largest conn. comp.): 0.00, 0.000000\n"
     ]
    }
   ],
   "source": [
    "test_samples('bnpgraph_runs/imdb_', offset=1, nodeoffset=1)"
   ]
  },
  {
   "cell_type": "code",
   "execution_count": 14,
   "metadata": {},
   "outputs": [
    {
     "name": "stdout",
     "output_type": "stream",
     "text": [
      "- num nodes: 3472.208333, 23.253995\n",
      "- num edges: 4506.541667, 26.220188\n",
      "- edge node ratio: 1.30, 0.007704\n",
      "- triang node ratio: 0.010500, 0.003529\n",
      "- density (1000x): 0.747871, 0.008421\n",
      "- mean degree: 2.60, 0.015407\n",
      "- mean maximal clique containing node: 2.03, 0.010143\n",
      "- clustering coefficient: 0.00, 0.003555\n",
      "- connected component sizes (largest): 0.9141552516897091, 0.007189\n",
      "- mean distance between nodes (largest conn. comp.): 0.00, 0.000000\n"
     ]
    }
   ],
   "source": [
    "test_samples('krongen_runs/imdb_', offset=1, zeropad=True)"
   ]
  },
  {
   "cell_type": "code",
   "execution_count": 15,
   "metadata": {},
   "outputs": [],
   "source": [
    "def fit_kde(x, grid):\n",
    "    resol = len(grid)\n",
    "    d = np.zeros(resol)\n",
    "    kde = KDEUnivariate(x)\n",
    "    kde.fit()\n",
    "    d = kde.evaluate(grid)    \n",
    "    return d\n",
    "\n",
    "def fit_count(x, grid):\n",
    "    cnt = Counter(x)\n",
    "    d = np.array([cnt[y] for y in grid]) / len(x)\n",
    "    return d\n",
    "\n",
    "def degree_clique_density_runs(path, deg_grid, clique_grid, n = 25, offset=0, zeropad=False, nodeoffset=0):\n",
    "    deg_dens = np.zeros(len(deg_grid))\n",
    "    clique_dens = np.zeros(len(clique_grid))\n",
    "    \n",
    "    for k in range(n):\n",
    "        strpattern = '{}.tsv' if not zeropad else '{:02d}.tsv'\n",
    "        links = np.genfromtxt(path + strpattern.format(k+offset), delimiter='\\t', dtype=int)\n",
    "        g = nx.Graph()\n",
    "        for i, j in links:\n",
    "            if i != j:\n",
    "                g.add_edge(i - nodeoffset, j - nodeoffset)\n",
    "\n",
    "\n",
    "\n",
    "        degs = np.array([nx.degree(g, i) for i in g.nodes()], dtype=float)\n",
    "        clique = np.array([nx.node_clique_number(g, i) for i in g.nodes()], dtype=float)\n",
    "        \n",
    "        deg_dens += fit_kde(degs, deg_grid) / n  \n",
    "        clique_dens += fit_count(clique, clique_grid) / n  \n",
    "        \n",
    "    return deg_dens, clique_dens\n",
    "\n",
    "def degree_clique_density_graph(g, deg_grid, clique_grid):\n",
    "    degs = np.array([nx.degree(g, i) for i in g.nodes()], dtype=float)\n",
    "    clique = np.array([nx.node_clique_number(g, i) for i in g.nodes()], dtype=float)\n",
    "\n",
    "    deg_dens = fit_kde(degs, deg_grid)\n",
    "    clique_dens = fit_count(clique, clique_grid) \n",
    "        \n",
    "    return deg_dens, clique_dens"
   ]
  },
  {
   "cell_type": "code",
   "execution_count": 16,
   "metadata": {},
   "outputs": [],
   "source": [
    "deg_grid = np.linspace(1, 25, 10)\n",
    "clique_grid = np.arange(2, 20)\n",
    "\n",
    "deg_dens_rcc, clique_dens_rcc = degree_clique_density_runs('rcc_runs/', deg_grid, clique_grid)\n",
    "deg_dens_bnp, clique_dens_bnp = degree_clique_density_runs('bnpgraph_runs/imdb_', deg_grid, clique_grid, offset=1, nodeoffset=1)\n",
    "deg_dens_krongen, clique_dens_krongen = degree_clique_density_runs('krongen_runs/imdb_', deg_grid, clique_grid, offset=1, zeropad=True)"
   ]
  },
  {
   "cell_type": "code",
   "execution_count": 17,
   "metadata": {},
   "outputs": [],
   "source": [
    "deg_dens_orig, clique_dens_orig = degree_clique_density_graph(g, deg_grid, clique_grid)"
   ]
  },
  {
   "cell_type": "code",
   "execution_count": 18,
   "metadata": {},
   "outputs": [],
   "source": [
    "deg_df = pd.DataFrame({\n",
    "    'Truth': deg_dens_orig, \n",
    "    'RCC': deg_dens_rcc, \n",
    "    'BNPGraph': deg_dens_bnp,\n",
    "    'Kron(2x2)': deg_dens_krongen}, index=deg_grid)\n",
    "maxclique_df = pd.DataFrame({\n",
    "    'Truth': clique_dens_orig, \n",
    "    'RCC': clique_dens_rcc,\n",
    "    'BNPGraph': clique_dens_bnp,\n",
    "    'Kron(2x2)': clique_dens_krongen}, index=clique_grid)"
   ]
  },
  {
   "cell_type": "code",
   "execution_count": 19,
   "metadata": {},
   "outputs": [
    {
     "data": {
      "image/png": "[encoded data removed]",
      "text/plain": [
       "<Figure size 432x288 with 1 Axes>"
      ]
     },
     "metadata": {},
     "output_type": "display_data"
    }
   ],
   "source": [
    "style = ['b--','r-','c-.', 'y--.']\n",
    "deg_df.plot(style=style, markersize=5, linewidth=2, figsize = (6, 4))\n",
    "plt.legend(fontsize=14) # using a size in points\n",
    "plt.xlim(1, 25)\n",
    "plt.xlabel(\"Degree\", fontsize=14)\n",
    "# plt.ylabel(\"Density\")\n",
    "# plt.title(\"Degree distribution\")\n",
    "plt.savefig('imdb_degree_dist.png', format=\"PNG\")\n",
    "plt.show()"
   ]
  },
  {
   "cell_type": "code",
   "execution_count": 20,
   "metadata": {},
   "outputs": [],
   "source": [
    "def fit_count(x, grid):\n",
    "    cnt = Counter(x)\n",
    "    d = np.array([cnt[y] for y in grid]) / len(x)\n",
    "    return d\n",
    "\n",
    "def clique_density_runs(path, clique_grid, n = 25, offset=0, zeropad=False, nodeoffset=0):\n",
    "    counts = np.zeros((len(clique_grid), n))\n",
    "    \n",
    "    for k in range(n):\n",
    "        strpattern = '{}.tsv' if not zeropad else '{:02d}.tsv'\n",
    "        links = np.genfromtxt(path + strpattern.format(k+offset), delimiter='\\t', dtype=int)\n",
    "        g = nx.Graph()\n",
    "        for i, j in links:\n",
    "            if i != j:\n",
    "                g.add_edge(i - nodeoffset, j - nodeoffset)\n",
    "\n",
    "        clique = np.array([nx.node_clique_number(g, i) for i in g.nodes()], dtype=float)    \n",
    "        counts[:,k] = fit_count(clique, clique_grid)\n",
    "    \n",
    "    means = np.mean(counts, 1)\n",
    "    std = np.std(counts, 1)\n",
    "        \n",
    "    return means, std\n",
    "\n",
    "def clique_density_graph(g, clique_grid, n = 25, offset=0):\n",
    "    clique = [nx.node_clique_number(g, i) for i in g.nodes()]\n",
    "    counts = fit_count(clique, clique_grid)\n",
    "    \n",
    "    return counts"
   ]
  },
  {
   "cell_type": "code",
   "execution_count": 23,
   "metadata": {},
   "outputs": [],
   "source": [
    "clique_grid = np.arange(2, 9)\n",
    "clique_means_rcc, clique_std_rcc = clique_density_runs('rcc_runs/', clique_grid)\n",
    "clique_means_bnp, clique_std_bnp = clique_density_runs('bnpgraph_runs/imdb_', clique_grid, offset=1, nodeoffset=1)\n",
    "clique_means_krongen, clique_std_krongen = clique_density_runs('krongen_runs/imdb_', clique_grid, offset=1, zeropad=True)\n",
    "clique = clique_density_graph(g, clique_grid)\n",
    "df = pd.DataFrame({'Truth': clique, 'RCC': clique_means_rcc, 'BNPGraph': clique_means_bnp, 'Kron(2x2)': clique_means_krongen}, index=clique_grid)"
   ]
  },
  {
   "cell_type": "code",
   "execution_count": 24,
   "metadata": {},
   "outputs": [
    {
     "data": {
      "image/png": "[encoded data removed]",
      "text/plain": [
       "<Figure size 432x288 with 1 Axes>"
      ]
     },
     "metadata": {},
     "output_type": "display_data"
    }
   ],
   "source": [
    "style = ['b','r','c', 'y']\n",
    "df.plot.bar(width=.8, figsize=(6,4), alpha=0.7, rot=0, color=style, edgecolor = 'black')\n",
    "plt.legend(fontsize=14)\n",
    "plt.xlabel('Maximal clique size per node', fontsize=14)\n",
    "plt.savefig('imdb_maximal_clique_dist.png', format=\"PNG\")"
   ]
  },
  {
   "cell_type": "code",
   "execution_count": null,
   "metadata": {},
   "outputs": [],
   "source": []
  }
 ],
 "metadata": {
  "kernelspec": {
   "display_name": "Python 3",
   "language": "python",
   "name": "python3"
  },
  "language_info": {
   "codemirror_mode": {
    "name": "ipython",
    "version": 3
   },
   "file_extension": ".py",
   "mimetype": "text/x-python",
   "name": "python",
   "nbconvert_exporter": "python",
   "pygments_lexer": "ipython3",
   "version": "3.6.5"
  }
 },
 "nbformat": 4,
 "nbformat_minor": 2
}
