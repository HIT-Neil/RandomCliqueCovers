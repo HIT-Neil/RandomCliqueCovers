{
 "cells": [
  {
   "cell_type": "code",
   "execution_count": 1,
   "metadata": {},
   "outputs": [],
   "source": [
    "import sys\n",
    "sys.path.append('./../')"
   ]
  },
  {
   "cell_type": "code",
   "execution_count": 2,
   "metadata": {},
   "outputs": [],
   "source": [
    "import sparsedense as spd\n",
    "import helpertests as tst"
   ]
  },
  {
   "cell_type": "code",
   "execution_count": 3,
   "metadata": {},
   "outputs": [
    {
     "data": {
      "text/plain": [
       "<module 'helpertests' from './..\\\\helpertests.py'>"
      ]
     },
     "execution_count": 3,
     "metadata": {},
     "output_type": "execute_result"
    }
   ],
   "source": [
    "import importlib\n",
    "import pickle\n",
    "importlib.reload(spd)\n",
    "importlib.reload(tst)"
   ]
  },
  {
   "cell_type": "code",
   "execution_count": 4,
   "metadata": {},
   "outputs": [],
   "source": [
    "import numpy as np\n",
    "import networkx as nx"
   ]
  },
  {
   "cell_type": "code",
   "execution_count": 5,
   "metadata": {},
   "outputs": [],
   "source": [
    "links = np.genfromtxt('imdb.tsv', delimiter='\\t', dtype=int)\n",
    "g = nx.Graph()\n",
    "g.add_edges_from(links)\n",
    "net = nx.adjacency_matrix(g).toarray().astype(int)\n",
    "for i in range(net.shape[0]):\n",
    "    net[i, i] = 1"
   ]
  },
  {
   "cell_type": "code",
   "execution_count": 6,
   "metadata": {},
   "outputs": [
    {
     "name": "stdout",
     "output_type": "stream",
     "text": [
      "- num nodes: 2288\n",
      "- num edges: 5232\n",
      "- edge node ratio: 2.29\n",
      "- density: 0.002000\n",
      "- mean degree: 4.57\n",
      "- mean maximal clique containing node: 4.27\n",
      "- clustering coefficient: 0.82\n",
      "- connected component sizes (top 5): [2288]\n",
      "- mean distance between nodes (largest conn. comp.): 10.94\n"
     ]
    }
   ],
   "source": [
    "tst.test_stats(g)"
   ]
  },
  {
   "cell_type": "code",
   "execution_count": 7,
   "metadata": {},
   "outputs": [],
   "source": [
    "alpha0 = 3.\n",
    "sigma0 = .95\n",
    "c0 = 25.\n",
    "lamb0 = 2000.\n",
    "\n",
    "# model = spd.NetworkFull(net, links, alpha=alpha0, sigma=sigma0, c=c0, lamb=lamb0)"
   ]
  },
  {
   "cell_type": "code",
   "execution_count": 8,
   "metadata": {},
   "outputs": [],
   "source": [
    "with open('imdb_king.pkl', 'rb') as f:\n",
    "    model = pickle.load(f)"
   ]
  },
  {
   "cell_type": "code",
   "execution_count": 9,
   "metadata": {},
   "outputs": [],
   "source": []
  },
  {
   "cell_type": "code",
   "execution_count": 24,
   "metadata": {},
   "outputs": [
    {
     "name": "stdout",
     "output_type": "stream",
     "text": [
      "iter:     0, K:   821, alpha:    7.302, sigma: 0.767, c:    3.418, lamb:   399, lp:    -8364.046\n",
      "iter:   100, K:   821, alpha:    7.669, sigma: 0.754, c:    3.741, lamb:   423, lp:    -8358.209\n",
      "iter:   200, K:   821, alpha:    7.867, sigma: 0.747, c:    4.007, lamb:   421, lp:    -8355.658\n",
      "iter:   300, K:   821, alpha:    7.966, sigma: 0.742, c:    4.238, lamb:   411, lp:    -8354.253\n",
      "iter:   400, K:   821, alpha:    8.004, sigma: 0.739, c:    4.448, lamb:   380, lp:    -8353.272\n",
      "iter:   500, K:   821, alpha:    8.005, sigma: 0.737, c:    4.647, lamb:   416, lp:    -8352.443\n",
      "writing to file...\n",
      "done!\n",
      "iter:   600, K:   821, alpha:    7.980, sigma: 0.735, c:    4.845, lamb:   408, lp:    -8351.653\n",
      "iter:   700, K:   821, alpha:    7.940, sigma: 0.734, c:    5.044, lamb:   429, lp:    -8350.874\n",
      "iter:   800, K:   821, alpha:    7.893, sigma: 0.734, c:    5.238, lamb:   396, lp:    -8350.117\n",
      "iter:   900, K:   821, alpha:    7.840, sigma: 0.733, c:    5.436, lamb:   415, lp:    -8349.350\n",
      "iter:  1000, K:   821, alpha:    7.786, sigma: 0.733, c:    5.636, lamb:   388, lp:    -8348.588\n",
      "writing to file...\n",
      "done!\n",
      "iter:  1100, K:   821, alpha:    7.731, sigma: 0.732, c:    5.841, lamb:   389, lp:    -8347.815\n",
      "iter:  1200, K:   821, alpha:    7.678, sigma: 0.732, c:    6.040, lamb:   439, lp:    -8347.074\n",
      "iter:  1300, K:   821, alpha:    7.627, sigma: 0.732, c:    6.241, lamb:   400, lp:    -8346.336\n",
      "iter:  1400, K:   821, alpha:    7.577, sigma: 0.731, c:    6.447, lamb:   400, lp:    -8345.595\n",
      "iter:  1500, K:   821, alpha:    7.527, sigma: 0.731, c:    6.661, lamb:   413, lp:    -8344.834\n",
      "writing to file...\n",
      "done!\n",
      "iter:  1600, K:   821, alpha:    7.476, sigma: 0.731, c:    6.887, lamb:   427, lp:    -8344.041\n",
      "iter:  1700, K:   821, alpha:    7.426, sigma: 0.730, c:    7.122, lamb:   421, lp:    -8343.228\n",
      "iter:  1800, K:   821, alpha:    7.376, sigma: 0.730, c:    7.368, lamb:   415, lp:    -8342.393\n",
      "iter:  1900, K:   821, alpha:    7.325, sigma: 0.729, c:    7.630, lamb:   416, lp:    -8341.515\n",
      "iter:  2000, K:   821, alpha:    7.277, sigma: 0.729, c:    7.887, lamb:   444, lp:    -8340.669\n",
      "writing to file...\n",
      "done!\n",
      "iter:  2100, K:   821, alpha:    7.229, sigma: 0.729, c:    8.160, lamb:   407, lp:    -8339.786\n",
      "iter:  2200, K:   821, alpha:    7.181, sigma: 0.728, c:    8.443, lamb:   412, lp:    -8338.882\n",
      "iter:  2300, K:   821, alpha:    7.130, sigma: 0.728, c:    8.757, lamb:   430, lp:    -8337.897\n",
      "iter:  2400, K:   821, alpha:    7.082, sigma: 0.727, c:    9.074, lamb:   390, lp:    -8336.915\n",
      "iter:  2500, K:   821, alpha:    7.030, sigma: 0.726, c:    9.428, lamb:   408, lp:    -8335.841\n",
      "writing to file...\n",
      "done!\n",
      "iter:  2600, K:   821, alpha:    6.977, sigma: 0.726, c:    9.814, lamb:   422, lp:    -8334.692\n",
      "iter:  2700, K:   821, alpha:    6.931, sigma: 0.725, c:   10.159, lamb:   400, lp:    -8333.683\n",
      "iter:  2800, K:   821, alpha:    6.893, sigma: 0.725, c:   10.466, lamb:   374, lp:    -8332.799\n",
      "iter:  2900, K:   821, alpha:    6.860, sigma: 0.724, c:   10.733, lamb:   431, lp:    -8332.038\n",
      "iter:  3000, K:   821, alpha:    6.829, sigma: 0.723, c:   11.000, lamb:   397, lp:    -8331.287\n",
      "writing to file...\n",
      "done!\n",
      "iter:  3100, K:   821, alpha:    6.801, sigma: 0.723, c:   11.250, lamb:   406, lp:    -8330.593\n",
      "iter:  3200, K:   821, alpha:    6.776, sigma: 0.723, c:   11.468, lamb:   405, lp:    -8329.992\n",
      "iter:  3300, K:   821, alpha:    6.754, sigma: 0.722, c:   11.671, lamb:   421, lp:    -8329.438\n",
      "iter:  3400, K:   821, alpha:    6.734, sigma: 0.722, c:   11.864, lamb:   377, lp:    -8328.917\n",
      "iter:  3500, K:   821, alpha:    6.714, sigma: 0.722, c:   12.057, lamb:   415, lp:    -8328.403\n",
      "writing to file...\n",
      "done!\n",
      "iter:  3600, K:   821, alpha:    6.696, sigma: 0.722, c:   12.236, lamb:   427, lp:    -8327.930\n",
      "iter:  3700, K:   821, alpha:    6.679, sigma: 0.722, c:   12.405, lamb:   421, lp:    -8327.480\n",
      "iter:  3800, K:   821, alpha:    6.663, sigma: 0.721, c:   12.571, lamb:   427, lp:    -8327.037\n",
      "iter:  3900, K:   821, alpha:    6.647, sigma: 0.720, c:   12.738, lamb:   416, lp:    -8326.601\n",
      "iter:  4000, K:   821, alpha:    6.631, sigma: 0.720, c:   12.905, lamb:   400, lp:    -8326.167\n",
      "writing to file...\n",
      "done!\n",
      "iter:  4100, K:   821, alpha:    6.616, sigma: 0.720, c:   13.074, lamb:   397, lp:    -8325.733\n",
      "iter:  4200, K:   821, alpha:    6.600, sigma: 0.720, c:   13.242, lamb:   419, lp:    -8325.300\n",
      "iter:  4300, K:   821, alpha:    6.585, sigma: 0.719, c:   13.412, lamb:   422, lp:    -8324.867\n",
      "iter:  4400, K:   821, alpha:    6.570, sigma: 0.719, c:   13.582, lamb:   404, lp:    -8324.438\n",
      "iter:  4500, K:   821, alpha:    6.555, sigma: 0.719, c:   13.753, lamb:   432, lp:    -8324.008\n",
      "writing to file...\n",
      "done!\n",
      "iter:  4600, K:   821, alpha:    6.540, sigma: 0.718, c:   13.925, lamb:   413, lp:    -8323.579\n",
      "iter:  4700, K:   821, alpha:    6.526, sigma: 0.718, c:   14.097, lamb:   404, lp:    -8323.152\n",
      "iter:  4800, K:   821, alpha:    6.512, sigma: 0.718, c:   14.269, lamb:   396, lp:    -8322.727\n",
      "iter:  4900, K:   821, alpha:    6.498, sigma: 0.718, c:   14.442, lamb:   404, lp:    -8322.303\n",
      "iter:  5000, K:   821, alpha:    6.484, sigma: 0.717, c:   14.616, lamb:   397, lp:    -8321.880\n",
      "writing to file...\n",
      "done!\n",
      "iter:  5100, K:   821, alpha:    6.470, sigma: 0.717, c:   14.790, lamb:   442, lp:    -8321.458\n",
      "iter:  5200, K:   821, alpha:    6.457, sigma: 0.717, c:   14.964, lamb:   408, lp:    -8321.038\n",
      "iter:  5300, K:   821, alpha:    6.443, sigma: 0.716, c:   15.139, lamb:   398, lp:    -8320.619\n",
      "iter:  5400, K:   821, alpha:    6.430, sigma: 0.716, c:   15.315, lamb:   408, lp:    -8320.201\n",
      "iter:  5500, K:   821, alpha:    6.417, sigma: 0.716, c:   15.491, lamb:   424, lp:    -8319.784\n",
      "writing to file...\n",
      "done!\n",
      "iter:  5600, K:   821, alpha:    6.404, sigma: 0.715, c:   15.667, lamb:   405, lp:    -8319.368\n",
      "iter:  5700, K:   821, alpha:    6.391, sigma: 0.715, c:   15.844, lamb:   434, lp:    -8318.955\n",
      "iter:  5800, K:   821, alpha:    6.379, sigma: 0.715, c:   16.021, lamb:   395, lp:    -8318.543\n",
      "iter:  5900, K:   821, alpha:    6.367, sigma: 0.715, c:   16.199, lamb:   406, lp:    -8318.132\n",
      "iter:  6000, K:   821, alpha:    6.354, sigma: 0.714, c:   16.376, lamb:   410, lp:    -8317.724\n",
      "writing to file...\n",
      "done!\n",
      "iter:  6100, K:   821, alpha:    6.342, sigma: 0.714, c:   16.554, lamb:   429, lp:    -8317.317\n",
      "iter:  6200, K:   821, alpha:    6.330, sigma: 0.714, c:   16.732, lamb:   436, lp:    -8316.912\n",
      "iter:  6300, K:   821, alpha:    6.319, sigma: 0.713, c:   16.911, lamb:   426, lp:    -8316.508\n",
      "iter:  6400, K:   821, alpha:    6.307, sigma: 0.713, c:   17.089, lamb:   414, lp:    -8316.106\n",
      "iter:  6500, K:   821, alpha:    6.295, sigma: 0.713, c:   17.269, lamb:   393, lp:    -8315.705\n",
      "writing to file...\n",
      "done!\n",
      "iter:  6600, K:   821, alpha:    6.284, sigma: 0.713, c:   17.448, lamb:   413, lp:    -8315.305\n",
      "iter:  6700, K:   821, alpha:    6.273, sigma: 0.712, c:   17.628, lamb:   411, lp:    -8314.907\n"
     ]
    },
    {
     "ename": "KeyboardInterrupt",
     "evalue": "",
     "output_type": "error",
     "traceback": [
      "\u001b[1;31m---------------------------------------------------------------------------\u001b[0m",
      "\u001b[1;31mKeyboardInterrupt\u001b[0m                         Traceback (most recent call last)",
      "\u001b[1;32m<ipython-input-24-fde1e97d385c>\u001b[0m in \u001b[0;36m<module>\u001b[1;34m()\u001b[0m\n\u001b[0;32m     15\u001b[0m     \u001b[0moptim_momentum\u001b[0m \u001b[1;33m=\u001b[0m \u001b[1;36m0.1\u001b[0m\u001b[1;33m,\u001b[0m\u001b[1;33m\u001b[0m\u001b[0m\n\u001b[0;32m     16\u001b[0m     \u001b[0mwrite_Z\u001b[0m \u001b[1;33m=\u001b[0m \u001b[1;32mTrue\u001b[0m\u001b[1;33m,\u001b[0m\u001b[1;33m\u001b[0m\u001b[0m\n\u001b[1;32m---> 17\u001b[1;33m     filename='imdb.pkl')   \n\u001b[0m",
      "\u001b[1;32mC:\\Github\\sparsedense3\\sparsedense.py\u001b[0m in \u001b[0;36msample\u001b[1;34m(self, num_iters, num_sm, num_hyper, save_every, write_every, sample_hypers, optim_hypers, hyper_start, do_gibbs, burnin, verbose, filename, true_Z, write_Z, optim_momentum)\u001b[0m\n\u001b[0;32m    168\u001b[0m                     self.alpha, self.sigma, self.c = opt.optimize_hypers(\n\u001b[0;32m    169\u001b[0m                         \u001b[0mself\u001b[0m\u001b[1;33m.\u001b[0m\u001b[0mZ\u001b[0m\u001b[1;33m,\u001b[0m \u001b[0mself\u001b[0m\u001b[1;33m.\u001b[0m\u001b[0malpha\u001b[0m\u001b[1;33m,\u001b[0m \u001b[0mself\u001b[0m\u001b[1;33m.\u001b[0m\u001b[0msigma\u001b[0m\u001b[1;33m,\u001b[0m \u001b[0mself\u001b[0m\u001b[1;33m.\u001b[0m\u001b[0mc\u001b[0m\u001b[1;33m,\u001b[0m \u001b[0mmomentum\u001b[0m \u001b[1;33m=\u001b[0m \u001b[0moptim_momentum\u001b[0m\u001b[1;33m,\u001b[0m\u001b[1;33m\u001b[0m\u001b[0m\n\u001b[1;32m--> 170\u001b[1;33m                         num_iters = num_hyper, verbose=False, h = 1e-8)\n\u001b[0m\u001b[0;32m    171\u001b[0m \u001b[1;33m\u001b[0m\u001b[0m\n\u001b[0;32m    172\u001b[0m \u001b[1;33m\u001b[0m\u001b[0m\n",
      "\u001b[1;32mC:\\Github\\sparsedense3\\optim.py\u001b[0m in \u001b[0;36moptimize_hypers\u001b[1;34m(Z, alpha, sigma, c, num_iters, print_every, init_stepsize, momentum_free_iters, momentum, optimize_alpha, optimize_sigma, optimize_c, h, verbose)\u001b[0m\n\u001b[0;32m    101\u001b[0m         \u001b[0mll\u001b[0m \u001b[1;33m=\u001b[0m \u001b[0mloglik\u001b[0m\u001b[1;33m(\u001b[0m\u001b[0mmk\u001b[0m\u001b[1;33m,\u001b[0m \u001b[0mZ\u001b[0m\u001b[1;33m,\u001b[0m \u001b[0malpha\u001b[0m\u001b[1;33m,\u001b[0m \u001b[0msigma\u001b[0m\u001b[1;33m,\u001b[0m \u001b[0mc\u001b[0m\u001b[1;33m)\u001b[0m\u001b[1;33m\u001b[0m\u001b[0m\n\u001b[0;32m    102\u001b[0m         \u001b[0malpha_grad\u001b[0m\u001b[1;33m,\u001b[0m \u001b[0msigma_grad\u001b[0m\u001b[1;33m,\u001b[0m \u001b[0mc_grad\u001b[0m \u001b[1;33m=\u001b[0m \u001b[0mloglik_grad\u001b[0m\u001b[1;33m(\u001b[0m\u001b[0mmk\u001b[0m\u001b[1;33m,\u001b[0m \u001b[0mZ\u001b[0m\u001b[1;33m,\u001b[0m \u001b[0malpha\u001b[0m\u001b[1;33m,\u001b[0m \u001b[0msigma\u001b[0m\u001b[1;33m,\u001b[0m \u001b[0mc\u001b[0m\u001b[1;33m,\u001b[0m \u001b[0mh\u001b[0m\u001b[1;33m)\u001b[0m\u001b[1;33m\u001b[0m\u001b[0m\n\u001b[1;32m--> 103\u001b[1;33m         \u001b[0mstep\u001b[0m \u001b[1;33m=\u001b[0m \u001b[0mbacktrack_search\u001b[0m\u001b[1;33m(\u001b[0m\u001b[0mmk\u001b[0m\u001b[1;33m,\u001b[0m \u001b[0mZ\u001b[0m\u001b[1;33m,\u001b[0m \u001b[0malpha\u001b[0m\u001b[1;33m,\u001b[0m \u001b[0msigma\u001b[0m\u001b[1;33m,\u001b[0m \u001b[0mc\u001b[0m\u001b[1;33m,\u001b[0m \u001b[0mll\u001b[0m\u001b[1;33m,\u001b[0m \u001b[0malpha_grad\u001b[0m\u001b[1;33m,\u001b[0m \u001b[0msigma_grad\u001b[0m\u001b[1;33m,\u001b[0m \u001b[0mc_grad\u001b[0m\u001b[1;33m,\u001b[0m \u001b[0mmax\u001b[0m\u001b[1;33m(\u001b[0m\u001b[1;36m8\u001b[0m \u001b[1;33m*\u001b[0m \u001b[0mstep\u001b[0m\u001b[1;33m,\u001b[0m \u001b[1;36m1e-7\u001b[0m\u001b[1;33m)\u001b[0m\u001b[1;33m)\u001b[0m\u001b[1;33m\u001b[0m\u001b[0m\n\u001b[0m\u001b[0;32m    104\u001b[0m \u001b[1;33m\u001b[0m\u001b[0m\n\u001b[0;32m    105\u001b[0m         \u001b[1;32mif\u001b[0m \u001b[0miter\u001b[0m\u001b[1;33m%\u001b[0m\u001b[0mprint_every\u001b[0m \u001b[1;33m==\u001b[0m \u001b[1;36m0\u001b[0m\u001b[1;33m:\u001b[0m\u001b[1;33m\u001b[0m\u001b[0m\n",
      "\u001b[1;32mC:\\Github\\sparsedense3\\optim.py\u001b[0m in \u001b[0;36mbacktrack_search\u001b[1;34m(mk, Z, alpha, sigma, c, ll, alpha_grad, sigma_grad, c_grad, curr_step, maxiters)\u001b[0m\n\u001b[0;32m     59\u001b[0m             \u001b[0mstep\u001b[0m \u001b[1;33m=\u001b[0m \u001b[1;36m0.5\u001b[0m \u001b[1;33m*\u001b[0m \u001b[0mstep\u001b[0m\u001b[1;33m\u001b[0m\u001b[0m\n\u001b[0;32m     60\u001b[0m         \u001b[1;32melse\u001b[0m\u001b[1;33m:\u001b[0m\u001b[1;33m\u001b[0m\u001b[0m\n\u001b[1;32m---> 61\u001b[1;33m             \u001b[0mll_new\u001b[0m \u001b[1;33m=\u001b[0m \u001b[0mloglik\u001b[0m\u001b[1;33m(\u001b[0m\u001b[0mmk\u001b[0m\u001b[1;33m,\u001b[0m \u001b[0mZ\u001b[0m\u001b[1;33m,\u001b[0m \u001b[0malpha_new\u001b[0m\u001b[1;33m,\u001b[0m \u001b[0msigma_new\u001b[0m\u001b[1;33m,\u001b[0m \u001b[0mc_new\u001b[0m\u001b[1;33m)\u001b[0m\u001b[1;33m\u001b[0m\u001b[0m\n\u001b[0m\u001b[0;32m     62\u001b[0m             \u001b[1;32mif\u001b[0m  \u001b[0mll_new\u001b[0m \u001b[1;33m>=\u001b[0m \u001b[0mll\u001b[0m\u001b[1;33m:\u001b[0m\u001b[1;33m\u001b[0m\u001b[0m\n\u001b[0;32m     63\u001b[0m                 \u001b[1;32mreturn\u001b[0m  \u001b[0mstep\u001b[0m\u001b[1;33m\u001b[0m\u001b[0m\n",
      "\u001b[1;32mC:\\Github\\sparsedense3\\optim.py\u001b[0m in \u001b[0;36mloglik\u001b[1;34m(mk, Z, alpha, sigma, c)\u001b[0m\n\u001b[0;32m     36\u001b[0m     \u001b[0mll\u001b[0m \u001b[1;33m=\u001b[0m \u001b[0mK\u001b[0m \u001b[1;33m*\u001b[0m \u001b[0mnp\u001b[0m\u001b[1;33m.\u001b[0m\u001b[0mlog\u001b[0m\u001b[1;33m(\u001b[0m\u001b[0malpha\u001b[0m\u001b[1;33m)\u001b[0m \u001b[1;33m-\u001b[0m \u001b[0mnp\u001b[0m\u001b[1;33m.\u001b[0m\u001b[0msum\u001b[0m\u001b[1;33m(\u001b[0m\u001b[0mpoiss_params\u001b[0m\u001b[1;33m)\u001b[0m\u001b[1;33m\u001b[0m\u001b[0m\n\u001b[0;32m     37\u001b[0m     \u001b[1;32mfor\u001b[0m \u001b[0mk\u001b[0m \u001b[1;32min\u001b[0m \u001b[0mrange\u001b[0m\u001b[1;33m(\u001b[0m\u001b[0mK\u001b[0m\u001b[1;33m)\u001b[0m\u001b[1;33m:\u001b[0m\u001b[1;33m\u001b[0m\u001b[0m\n\u001b[1;32m---> 38\u001b[1;33m         \u001b[0mll\u001b[0m \u001b[1;33m=\u001b[0m \u001b[0mll\u001b[0m \u001b[1;33m+\u001b[0m \u001b[0mgammaln\u001b[0m\u001b[1;33m(\u001b[0m\u001b[0mmk\u001b[0m\u001b[1;33m[\u001b[0m\u001b[0mk\u001b[0m\u001b[1;33m]\u001b[0m \u001b[1;33m-\u001b[0m \u001b[0msigma\u001b[0m\u001b[1;33m)\u001b[0m \u001b[1;33m+\u001b[0m \u001b[0mgammaln\u001b[0m\u001b[1;33m(\u001b[0m\u001b[0mN\u001b[0m \u001b[1;33m-\u001b[0m \u001b[0mmk\u001b[0m\u001b[1;33m[\u001b[0m\u001b[0mk\u001b[0m\u001b[1;33m]\u001b[0m \u001b[1;33m+\u001b[0m \u001b[0mc\u001b[0m \u001b[1;33m+\u001b[0m \u001b[0msigma\u001b[0m\u001b[1;33m)\u001b[0m \u001b[1;33m+\u001b[0m \u001b[0mgammaln\u001b[0m\u001b[1;33m(\u001b[0m\u001b[1;36m1\u001b[0m \u001b[1;33m+\u001b[0m \u001b[0mc\u001b[0m\u001b[1;33m)\u001b[0m\u001b[1;33m\u001b[0m\u001b[0m\n\u001b[0m\u001b[0;32m     39\u001b[0m         \u001b[0mll\u001b[0m \u001b[1;33m=\u001b[0m \u001b[0mll\u001b[0m \u001b[1;33m-\u001b[0m \u001b[0mgammaln\u001b[0m\u001b[1;33m(\u001b[0m\u001b[1;36m1\u001b[0m\u001b[1;33m-\u001b[0m\u001b[0msigma\u001b[0m\u001b[1;33m)\u001b[0m \u001b[1;33m-\u001b[0m \u001b[0mgammaln\u001b[0m\u001b[1;33m(\u001b[0m\u001b[0mc\u001b[0m \u001b[1;33m+\u001b[0m \u001b[0msigma\u001b[0m\u001b[1;33m)\u001b[0m \u001b[1;33m-\u001b[0m \u001b[0mgammaln\u001b[0m\u001b[1;33m(\u001b[0m\u001b[0mN\u001b[0m \u001b[1;33m+\u001b[0m \u001b[0mc\u001b[0m\u001b[1;33m)\u001b[0m\u001b[1;33m\u001b[0m\u001b[0m\n\u001b[0;32m     40\u001b[0m \u001b[1;33m\u001b[0m\u001b[0m\n",
      "\u001b[1;31mKeyboardInterrupt\u001b[0m: "
     ]
    }
   ],
   "source": [
    "save_every = 100\n",
    "write_every = 500\n",
    "niter = 20000\n",
    "\n",
    "model.sample(\n",
    "    num_iters= niter,\n",
    "    save_every = save_every,  \n",
    "    write_every = write_every,\n",
    "    verbose = True,\n",
    "    sample_hypers = False,\n",
    "    optim_hypers = True,\n",
    "    hyper_start = 0,\n",
    "    num_hyper = 10,\n",
    "    do_gibbs = False,\n",
    "    optim_momentum = 0.1,\n",
    "    write_Z = True,\n",
    "    filename='imdb.pkl')   "
   ]
  },
  {
   "cell_type": "code",
   "execution_count": 26,
   "metadata": {},
   "outputs": [],
   "source": [
    "model.alpha = 3.\n",
    "model.sigma = 0.44\n",
    "model.c = 1000"
   ]
  },
  {
   "cell_type": "code",
   "execution_count": 27,
   "metadata": {},
   "outputs": [
    {
     "name": "stdout",
     "output_type": "stream",
     "text": [
      "iter:     0, K:   821, alpha:    3.000, sigma: 0.440, c:  750.000, lamb:   433, lp:    -8241.006\n",
      "iter:     5, K:   821, alpha:    4.111, sigma: 0.008, c:  750.004, lamb:   390, lp:    -8105.115\n",
      "writing to file...\n",
      "done!\n",
      "iter:    10, K:   821, alpha:    4.112, sigma: 0.008, c:  750.006, lamb:   392, lp:    -8105.115\n",
      "writing to file...\n",
      "done!\n",
      "iter:    15, K:   821, alpha:    4.112, sigma: 0.008, c:  750.008, lamb:   417, lp:    -8105.115\n",
      "writing to file...\n",
      "done!\n",
      "iter:    20, K:   821, alpha:    4.112, sigma: 0.007, c:  750.009, lamb:   402, lp:    -8105.115\n",
      "writing to file...\n",
      "done!\n",
      "iter:    25, K:   821, alpha:    4.112, sigma: 0.007, c:  750.009, lamb:   409, lp:    -8105.115\n",
      "writing to file...\n",
      "done!\n",
      "iter:    30, K:   821, alpha:    4.112, sigma: 0.007, c:  750.009, lamb:   443, lp:    -8105.115\n",
      "writing to file...\n",
      "done!\n",
      "iter:    35, K:   821, alpha:    4.112, sigma: 0.007, c:  750.009, lamb:   393, lp:    -8105.115\n",
      "writing to file...\n",
      "done!\n",
      "iter:    40, K:   821, alpha:    4.112, sigma: 0.007, c:  750.009, lamb:   397, lp:    -8105.115\n",
      "writing to file...\n",
      "done!\n",
      "iter:    45, K:   821, alpha:    4.112, sigma: 0.007, c:  750.009, lamb:   389, lp:    -8105.115\n",
      "writing to file...\n",
      "done!\n",
      "iter:    50, K:   821, alpha:    4.112, sigma: 0.007, c:  750.009, lamb:   404, lp:    -8105.115\n",
      "writing to file...\n",
      "done!\n"
     ]
    },
    {
     "ename": "KeyboardInterrupt",
     "evalue": "",
     "output_type": "error",
     "traceback": [
      "\u001b[1;31m---------------------------------------------------------------------------\u001b[0m",
      "\u001b[1;31mKeyboardInterrupt\u001b[0m                         Traceback (most recent call last)",
      "\u001b[1;32m<ipython-input-27-ff533673d3a9>\u001b[0m in \u001b[0;36m<module>\u001b[1;34m()\u001b[0m\n\u001b[0;32m     16\u001b[0m     \u001b[0moptim_momentum\u001b[0m \u001b[1;33m=\u001b[0m \u001b[1;36m0.1\u001b[0m\u001b[1;33m,\u001b[0m\u001b[1;33m\u001b[0m\u001b[0m\n\u001b[0;32m     17\u001b[0m     \u001b[0mwrite_Z\u001b[0m \u001b[1;33m=\u001b[0m \u001b[1;32mTrue\u001b[0m\u001b[1;33m,\u001b[0m\u001b[1;33m\u001b[0m\u001b[0m\n\u001b[1;32m---> 18\u001b[1;33m     filename='imdb.pkl') \n\u001b[0m",
      "\u001b[1;32mC:\\Github\\sparsedense3\\sparsedense.py\u001b[0m in \u001b[0;36msample\u001b[1;34m(self, num_iters, num_sm, num_hyper, save_every, write_every, sample_hypers, optim_hypers, hyper_start, do_gibbs, burnin, verbose, filename, true_Z, write_Z, optim_momentum)\u001b[0m\n\u001b[0;32m    168\u001b[0m                     self.alpha, self.sigma, self.c = opt.optimize_hypers2(\n\u001b[0;32m    169\u001b[0m                         \u001b[0mself\u001b[0m\u001b[1;33m.\u001b[0m\u001b[0mZ\u001b[0m\u001b[1;33m,\u001b[0m \u001b[0mself\u001b[0m\u001b[1;33m.\u001b[0m\u001b[0malpha\u001b[0m\u001b[1;33m,\u001b[0m \u001b[0mself\u001b[0m\u001b[1;33m.\u001b[0m\u001b[0msigma\u001b[0m\u001b[1;33m,\u001b[0m \u001b[0mself\u001b[0m\u001b[1;33m.\u001b[0m\u001b[0mc\u001b[0m\u001b[1;33m,\u001b[0m \u001b[0mmomentum\u001b[0m \u001b[1;33m=\u001b[0m \u001b[0moptim_momentum\u001b[0m\u001b[1;33m,\u001b[0m\u001b[1;33m\u001b[0m\u001b[0m\n\u001b[1;32m--> 170\u001b[1;33m                         num_iters = num_hyper, verbose=False, h = 1e-8)\n\u001b[0m\u001b[0;32m    171\u001b[0m \u001b[1;33m\u001b[0m\u001b[0m\n\u001b[0;32m    172\u001b[0m \u001b[1;33m\u001b[0m\u001b[0m\n",
      "\u001b[1;32mC:\\Github\\sparsedense3\\optim.py\u001b[0m in \u001b[0;36moptimize_hypers2\u001b[1;34m(Z, alpha, sigma, c, num_iters, print_every, init_stepsize, momentum_free_iters, momentum, optimize_alpha, optimize_sigma, optimize_c, h, verbose)\u001b[0m\n\u001b[0;32m    153\u001b[0m     \u001b[0malpha_grad\u001b[0m\u001b[1;33m,\u001b[0m \u001b[0msigma_grad\u001b[0m\u001b[1;33m,\u001b[0m \u001b[0mc_grad\u001b[0m \u001b[1;33m=\u001b[0m \u001b[0mloglik_grad\u001b[0m\u001b[1;33m(\u001b[0m\u001b[0mmk\u001b[0m\u001b[1;33m,\u001b[0m \u001b[0mZ\u001b[0m\u001b[1;33m,\u001b[0m \u001b[0malpha\u001b[0m\u001b[1;33m,\u001b[0m \u001b[0msigma\u001b[0m\u001b[1;33m,\u001b[0m \u001b[0mc\u001b[0m\u001b[1;33m,\u001b[0m \u001b[0mh\u001b[0m\u001b[1;33m)\u001b[0m\u001b[1;33m\u001b[0m\u001b[0m\n\u001b[0;32m    154\u001b[0m \u001b[1;33m\u001b[0m\u001b[0m\n\u001b[1;32m--> 155\u001b[1;33m     \u001b[0msigma_step\u001b[0m \u001b[1;33m=\u001b[0m \u001b[0mbacktrack_search_sigma\u001b[0m\u001b[1;33m(\u001b[0m\u001b[0mmk\u001b[0m\u001b[1;33m,\u001b[0m \u001b[0mZ\u001b[0m\u001b[1;33m,\u001b[0m \u001b[0malpha\u001b[0m\u001b[1;33m,\u001b[0m \u001b[0msigma\u001b[0m\u001b[1;33m,\u001b[0m \u001b[0mc\u001b[0m\u001b[1;33m,\u001b[0m \u001b[0mll\u001b[0m\u001b[1;33m,\u001b[0m \u001b[0malpha_grad\u001b[0m\u001b[1;33m,\u001b[0m \u001b[0msigma_grad\u001b[0m\u001b[1;33m,\u001b[0m \u001b[0mc_grad\u001b[0m\u001b[1;33m,\u001b[0m \u001b[0minit_stepsize\u001b[0m\u001b[1;33m)\u001b[0m\u001b[1;33m\u001b[0m\u001b[0m\n\u001b[0m\u001b[0;32m    156\u001b[0m     \u001b[0malpha_c_step\u001b[0m \u001b[1;33m=\u001b[0m \u001b[0mbacktrack_search_alpha_c\u001b[0m\u001b[1;33m(\u001b[0m\u001b[0mmk\u001b[0m\u001b[1;33m,\u001b[0m \u001b[0mZ\u001b[0m\u001b[1;33m,\u001b[0m \u001b[0malpha\u001b[0m\u001b[1;33m,\u001b[0m \u001b[0msigma\u001b[0m\u001b[1;33m,\u001b[0m \u001b[0mc\u001b[0m\u001b[1;33m,\u001b[0m \u001b[0mll\u001b[0m\u001b[1;33m,\u001b[0m \u001b[0malpha_grad\u001b[0m\u001b[1;33m,\u001b[0m \u001b[0msigma_grad\u001b[0m\u001b[1;33m,\u001b[0m \u001b[0mc_grad\u001b[0m\u001b[1;33m,\u001b[0m \u001b[0minit_stepsize\u001b[0m\u001b[1;33m)\u001b[0m\u001b[1;33m\u001b[0m\u001b[0m\n\u001b[0;32m    157\u001b[0m \u001b[1;33m\u001b[0m\u001b[0m\n",
      "\u001b[1;32mC:\\Github\\sparsedense3\\optim.py\u001b[0m in \u001b[0;36mbacktrack_search_sigma\u001b[1;34m(mk, Z, alpha, sigma, c, ll, alpha_grad, sigma_grad, c_grad, curr_step, maxiters)\u001b[0m\n\u001b[0;32m    118\u001b[0m             \u001b[0mstep\u001b[0m \u001b[1;33m=\u001b[0m \u001b[1;36m0.5\u001b[0m \u001b[1;33m*\u001b[0m \u001b[0mstep\u001b[0m\u001b[1;33m\u001b[0m\u001b[0m\n\u001b[0;32m    119\u001b[0m         \u001b[1;32melse\u001b[0m\u001b[1;33m:\u001b[0m\u001b[1;33m\u001b[0m\u001b[0m\n\u001b[1;32m--> 120\u001b[1;33m             \u001b[0mll_new\u001b[0m \u001b[1;33m=\u001b[0m \u001b[0mloglik\u001b[0m\u001b[1;33m(\u001b[0m\u001b[0mmk\u001b[0m\u001b[1;33m,\u001b[0m \u001b[0mZ\u001b[0m\u001b[1;33m,\u001b[0m \u001b[0malpha\u001b[0m\u001b[1;33m,\u001b[0m \u001b[0msigma_new\u001b[0m\u001b[1;33m,\u001b[0m \u001b[0mc\u001b[0m\u001b[1;33m)\u001b[0m\u001b[1;33m\u001b[0m\u001b[0m\n\u001b[0m\u001b[0;32m    121\u001b[0m             \u001b[1;32mif\u001b[0m  \u001b[0mll_new\u001b[0m \u001b[1;33m>=\u001b[0m \u001b[0mll\u001b[0m\u001b[1;33m:\u001b[0m\u001b[1;33m\u001b[0m\u001b[0m\n\u001b[0;32m    122\u001b[0m                 \u001b[1;32mreturn\u001b[0m  \u001b[0mstep\u001b[0m\u001b[1;33m\u001b[0m\u001b[0m\n",
      "\u001b[1;32mC:\\Github\\sparsedense3\\optim.py\u001b[0m in \u001b[0;36mloglik\u001b[1;34m(mk, Z, alpha, sigma, c)\u001b[0m\n\u001b[0;32m     33\u001b[0m \u001b[1;32mdef\u001b[0m \u001b[0mloglik\u001b[0m\u001b[1;33m(\u001b[0m\u001b[0mmk\u001b[0m\u001b[1;33m,\u001b[0m \u001b[0mZ\u001b[0m\u001b[1;33m,\u001b[0m \u001b[0malpha\u001b[0m\u001b[1;33m,\u001b[0m \u001b[0msigma\u001b[0m\u001b[1;33m,\u001b[0m \u001b[0mc\u001b[0m\u001b[1;33m)\u001b[0m\u001b[1;33m:\u001b[0m\u001b[1;33m\u001b[0m\u001b[0m\n\u001b[0;32m     34\u001b[0m     \u001b[0mN\u001b[0m\u001b[1;33m,\u001b[0m \u001b[0mK\u001b[0m \u001b[1;33m=\u001b[0m \u001b[0mZ\u001b[0m\u001b[1;33m.\u001b[0m\u001b[0mshape\u001b[0m\u001b[1;33m\u001b[0m\u001b[0m\n\u001b[1;32m---> 35\u001b[1;33m     \u001b[0mpoiss_params\u001b[0m \u001b[1;33m=\u001b[0m \u001b[0mnp\u001b[0m\u001b[1;33m.\u001b[0m\u001b[0marray\u001b[0m\u001b[1;33m(\u001b[0m\u001b[1;33m[\u001b[0m\u001b[0mpoiss_param\u001b[0m\u001b[1;33m(\u001b[0m\u001b[0malpha\u001b[0m\u001b[1;33m,\u001b[0m \u001b[0msigma\u001b[0m\u001b[1;33m,\u001b[0m \u001b[0mc\u001b[0m\u001b[1;33m,\u001b[0m \u001b[0mn\u001b[0m\u001b[1;33m)\u001b[0m \u001b[1;32mfor\u001b[0m \u001b[0mn\u001b[0m \u001b[1;32min\u001b[0m \u001b[0mrange\u001b[0m\u001b[1;33m(\u001b[0m\u001b[0mN\u001b[0m\u001b[1;33m)\u001b[0m\u001b[1;33m]\u001b[0m\u001b[1;33m)\u001b[0m\u001b[1;33m\u001b[0m\u001b[0m\n\u001b[0m\u001b[0;32m     36\u001b[0m     \u001b[0mll\u001b[0m \u001b[1;33m=\u001b[0m \u001b[0mK\u001b[0m \u001b[1;33m*\u001b[0m \u001b[0mnp\u001b[0m\u001b[1;33m.\u001b[0m\u001b[0mlog\u001b[0m\u001b[1;33m(\u001b[0m\u001b[0malpha\u001b[0m\u001b[1;33m)\u001b[0m \u001b[1;33m-\u001b[0m \u001b[0mnp\u001b[0m\u001b[1;33m.\u001b[0m\u001b[0msum\u001b[0m\u001b[1;33m(\u001b[0m\u001b[0mpoiss_params\u001b[0m\u001b[1;33m)\u001b[0m\u001b[1;33m\u001b[0m\u001b[0m\n\u001b[0;32m     37\u001b[0m     \u001b[1;32mfor\u001b[0m \u001b[0mk\u001b[0m \u001b[1;32min\u001b[0m \u001b[0mrange\u001b[0m\u001b[1;33m(\u001b[0m\u001b[0mK\u001b[0m\u001b[1;33m)\u001b[0m\u001b[1;33m:\u001b[0m\u001b[1;33m\u001b[0m\u001b[0m\n",
      "\u001b[1;32mC:\\Github\\sparsedense3\\optim.py\u001b[0m in \u001b[0;36m<listcomp>\u001b[1;34m(.0)\u001b[0m\n\u001b[0;32m     33\u001b[0m \u001b[1;32mdef\u001b[0m \u001b[0mloglik\u001b[0m\u001b[1;33m(\u001b[0m\u001b[0mmk\u001b[0m\u001b[1;33m,\u001b[0m \u001b[0mZ\u001b[0m\u001b[1;33m,\u001b[0m \u001b[0malpha\u001b[0m\u001b[1;33m,\u001b[0m \u001b[0msigma\u001b[0m\u001b[1;33m,\u001b[0m \u001b[0mc\u001b[0m\u001b[1;33m)\u001b[0m\u001b[1;33m:\u001b[0m\u001b[1;33m\u001b[0m\u001b[0m\n\u001b[0;32m     34\u001b[0m     \u001b[0mN\u001b[0m\u001b[1;33m,\u001b[0m \u001b[0mK\u001b[0m \u001b[1;33m=\u001b[0m \u001b[0mZ\u001b[0m\u001b[1;33m.\u001b[0m\u001b[0mshape\u001b[0m\u001b[1;33m\u001b[0m\u001b[0m\n\u001b[1;32m---> 35\u001b[1;33m     \u001b[0mpoiss_params\u001b[0m \u001b[1;33m=\u001b[0m \u001b[0mnp\u001b[0m\u001b[1;33m.\u001b[0m\u001b[0marray\u001b[0m\u001b[1;33m(\u001b[0m\u001b[1;33m[\u001b[0m\u001b[0mpoiss_param\u001b[0m\u001b[1;33m(\u001b[0m\u001b[0malpha\u001b[0m\u001b[1;33m,\u001b[0m \u001b[0msigma\u001b[0m\u001b[1;33m,\u001b[0m \u001b[0mc\u001b[0m\u001b[1;33m,\u001b[0m \u001b[0mn\u001b[0m\u001b[1;33m)\u001b[0m \u001b[1;32mfor\u001b[0m \u001b[0mn\u001b[0m \u001b[1;32min\u001b[0m \u001b[0mrange\u001b[0m\u001b[1;33m(\u001b[0m\u001b[0mN\u001b[0m\u001b[1;33m)\u001b[0m\u001b[1;33m]\u001b[0m\u001b[1;33m)\u001b[0m\u001b[1;33m\u001b[0m\u001b[0m\n\u001b[0m\u001b[0;32m     36\u001b[0m     \u001b[0mll\u001b[0m \u001b[1;33m=\u001b[0m \u001b[0mK\u001b[0m \u001b[1;33m*\u001b[0m \u001b[0mnp\u001b[0m\u001b[1;33m.\u001b[0m\u001b[0mlog\u001b[0m\u001b[1;33m(\u001b[0m\u001b[0malpha\u001b[0m\u001b[1;33m)\u001b[0m \u001b[1;33m-\u001b[0m \u001b[0mnp\u001b[0m\u001b[1;33m.\u001b[0m\u001b[0msum\u001b[0m\u001b[1;33m(\u001b[0m\u001b[0mpoiss_params\u001b[0m\u001b[1;33m)\u001b[0m\u001b[1;33m\u001b[0m\u001b[0m\n\u001b[0;32m     37\u001b[0m     \u001b[1;32mfor\u001b[0m \u001b[0mk\u001b[0m \u001b[1;32min\u001b[0m \u001b[0mrange\u001b[0m\u001b[1;33m(\u001b[0m\u001b[0mK\u001b[0m\u001b[1;33m)\u001b[0m\u001b[1;33m:\u001b[0m\u001b[1;33m\u001b[0m\u001b[0m\n",
      "\u001b[1;31mKeyboardInterrupt\u001b[0m: "
     ]
    }
   ],
   "source": [
    "save_every = 5\n",
    "niter = 5000\n",
    "write_every = 5\n",
    "\n",
    "model.sample(\n",
    "    num_iters= niter,\n",
    "    save_every = save_every,  \n",
    "    write_every = write_every,\n",
    "    verbose = True,\n",
    "    sample_hypers = False,\n",
    "    optim_hypers = True,\n",
    "    hyper_start = 0,\n",
    "    num_hyper = 20,\n",
    "    num_sm = 5,\n",
    "    do_gibbs = False,\n",
    "    optim_momentum = 0.1,\n",
    "    write_Z = True,\n",
    "    filename='imdb.pkl') "
   ]
  },
  {
   "cell_type": "code",
   "execution_count": 27,
   "metadata": {},
   "outputs": [],
   "source": [
    "# with open('imdb_king.pkl', 'wb') as f:\n",
    "#     pickle.dump(model, f)"
   ]
  },
  {
   "cell_type": "code",
   "execution_count": null,
   "metadata": {},
   "outputs": [],
   "source": []
  }
 ],
 "metadata": {
  "kernelspec": {
   "display_name": "Python 3",
   "language": "python",
   "name": "python3"
  },
  "language_info": {
   "codemirror_mode": {
    "name": "ipython",
    "version": 3
   },
   "file_extension": ".py",
   "mimetype": "text/x-python",
   "name": "python",
   "nbconvert_exporter": "python",
   "pygments_lexer": "ipython3",
   "version": "3.6.5"
  }
 },
 "nbformat": 4,
 "nbformat_minor": 2
}
