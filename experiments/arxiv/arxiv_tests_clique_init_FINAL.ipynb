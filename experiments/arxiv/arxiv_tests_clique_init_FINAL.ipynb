{
 "cells": [
  {
   "cell_type": "code",
   "execution_count": 1,
   "metadata": {},
   "outputs": [],
   "source": [
    "import sys\n",
    "sys.path.append('../../sparsedense/')"
   ]
  },
  {
   "cell_type": "code",
   "execution_count": 2,
   "metadata": {},
   "outputs": [],
   "source": [
    "import numpy as np\n",
    "import networkx as nx\n",
    "import matplotlib.pyplot as plt\n",
    "import pickle\n",
    "import importlib\n",
    "from statsmodels.nonparametric.kde import KDEUnivariate\n",
    "from collections import Counter\n",
    "import pandas as pd"
   ]
  },
  {
   "cell_type": "code",
   "execution_count": 3,
   "metadata": {},
   "outputs": [],
   "source": [
    "import optim as opt\n",
    "import helpertests as tst\n",
    "import sparsedense as spd"
   ]
  },
  {
   "cell_type": "code",
   "execution_count": 4,
   "metadata": {},
   "outputs": [],
   "source": [
    "test = 'arxiv'\n",
    "np.random.seed(110104)"
   ]
  },
  {
   "cell_type": "code",
   "execution_count": 5,
   "metadata": {},
   "outputs": [],
   "source": [
    "links = np.genfromtxt('{}.tsv'.format(test), delimiter='\\t', dtype=int)\n",
    "g = nx.Graph()\n",
    "g.add_edges_from(links)\n",
    "net = nx.adjacency_matrix(g).toarray().astype(int)\n",
    "for i in range(net.shape[0]):\n",
    "    net[i, i] = 1\n",
    "    "
   ]
  },
  {
   "cell_type": "code",
   "execution_count": 6,
   "metadata": {},
   "outputs": [],
   "source": [
    "with open('{}_clique_init.pkl'.format(test), 'rb') as f:\n",
    "    runs = pickle.load(f)"
   ]
  },
  {
   "cell_type": "code",
   "execution_count": 7,
   "metadata": {},
   "outputs": [
    {
     "data": {
      "text/plain": [
       "(3.0911784848364565, 0.44820957251934596, 400.0491273089778, 3899)"
      ]
     },
     "execution_count": 7,
     "metadata": {},
     "output_type": "execute_result"
    }
   ],
   "source": [
    "alpha, sigma, c, num_cliques = runs['alphas'][-1], runs['sigmas'][-1], runs['cs'][-1], runs['Ks'][-1]\n",
    "alpha, sigma, c, num_cliques"
   ]
  },
  {
   "cell_type": "code",
   "execution_count": 8,
   "metadata": {},
   "outputs": [],
   "source": [
    "def gen_rcc_samples(nreps, alpha, sigma, c, num_cliques):\n",
    "    for k in range(nreps):\n",
    "        Z = opt.sample_from_ibp(num_cliques, alpha=alpha, sigma=sigma, c=c)\n",
    "        net = Z.transpose() @ Z\n",
    "        K, N = Z.shape\n",
    "        links = []\n",
    "        for i in range(N - 1):\n",
    "            for j in range(i + 1, N):\n",
    "                if net[i, j] >= 1:\n",
    "                    links.append([i, j])\n",
    "        np.savetxt('rcc_runs_clique_init2/{}.tsv'.format(k), np.array(links), delimiter='\\t', fmt='%d')"
   ]
  },
  {
   "cell_type": "code",
   "execution_count": 9,
   "metadata": {},
   "outputs": [],
   "source": [
    "nreps = 25\n",
    "# gen_rcc_samples(nreps, alpha, sigma, c, num_cliques)"
   ]
  },
  {
   "cell_type": "code",
   "execution_count": 10,
   "metadata": {},
   "outputs": [],
   "source": [
    "def test_samples(path, n=25, mc_size=500, verbose=True, offset=0, zeropad=False, nodeoffset=0):\n",
    "    \n",
    "    num_nodes, num_edges, edge_node, density, deg, max_clique_node, clust_coeff, conn_comp_largest, short_paths, triang_node = \\\n",
    "        [], [], [], [], [], [], [], [], [], []\n",
    "    \n",
    "    for i in range(1, n):\n",
    "        strpattern = '{}.tsv' if not zeropad else '{:02d}.tsv'\n",
    "        links = np.genfromtxt(path + strpattern.format(i+offset), delimiter='\\t', dtype=int)\n",
    "        g = nx.Graph()\n",
    "        for i, j in links:\n",
    "            if i != j:\n",
    "                g.add_edge(i - nodeoffset, j - nodeoffset)\n",
    "\n",
    "        num_nodes_i, num_edges_i, edge_node_ratio_i, density_i, deg_i, max_clique_node_i, clust_coeff_i, conn_comp_i, short_paths_i, triang_node_i = \\\n",
    "            tst.test_stats(g, mc_size=mc_size, verbose=False, return_results=True)\n",
    "\n",
    "        num_nodes.append(num_nodes_i)\n",
    "        num_edges.append(num_edges_i)\n",
    "        edge_node.append(edge_node_ratio_i)\n",
    "        density.append(density_i)\n",
    "        deg.append(deg_i)\n",
    "        max_clique_node.append(max_clique_node_i)\n",
    "        clust_coeff.append(clust_coeff_i)\n",
    "        conn_comp_largest.append(conn_comp_i / num_nodes_i)\n",
    "        short_paths.append(short_paths_i)\n",
    "        triang_node.append(triang_node_i)\n",
    "        \n",
    "    if verbose:\n",
    "        print(\"- num nodes: {:f}, {:f}\".format(np.mean(num_nodes), np.std(num_nodes)))\n",
    "        print(\"- num edges: {:f}, {:f}\".format(np.mean(num_edges), np.std(num_edges)))\n",
    "        print(\"- edge node ratio: {:2.2f}, {:f}\".format(np.mean(edge_node), np.std(edge_node)))\n",
    "        print(\"- triang node ratio: {:f}, {:f}\".format(np.mean(triang_node), np.std(triang_node)))\n",
    "        print(\"- density (1000x): {:2.6f}, {:f}\".format(1000 * np.mean(density), 1000 * np.std(density)))\n",
    "        print(\"- mean degree: {:2.2f}, {:f}\".format(np.mean(deg), np.std(deg)))\n",
    "        print(\"- mean maximal clique containing node: {:2.2f}, {:f}\".format(np.mean(max_clique_node), np.std(max_clique_node)))\n",
    "        print(\"- clustering coefficient: {:2.2f}, {:f}\".format(np.mean(clust_coeff), np.std(clust_coeff)))\n",
    "        print(\"- connected component sizes (largest): {}, {:f}\".format(np.mean(conn_comp_largest), np.std(conn_comp_largest)))\n",
    "        print(\"- mean distance between nodes (largest conn. comp.): {:2.2f}, {:f}\".format(np.mean(short_paths), np.std(short_paths)))  "
   ]
  },
  {
   "cell_type": "code",
   "execution_count": 11,
   "metadata": {},
   "outputs": [
    {
     "name": "stdout",
     "output_type": "stream",
     "text": [
      "- num nodes: 5241\n",
      "- num edges: 14484\n",
      "- edge node ratio: 2.76\n",
      "- triang node ratio: 9.21\n",
      "- density: 0.001055\n",
      "- mean degree: 5.53\n",
      "- clustering coefficient: 0.53\n",
      "- mean maximal clique containing node: 4.80\n",
      "- connected component sizes (top 5): [4158, 14, 12, 10, 9]\n",
      "- mean distance between nodes (largest conn. comp.): 6.06\n"
     ]
    }
   ],
   "source": [
    "tst.test_stats(g)"
   ]
  },
  {
   "cell_type": "code",
   "execution_count": 12,
   "metadata": {},
   "outputs": [
    {
     "name": "stdout",
     "output_type": "stream",
     "text": [
      "- num nodes: 5045.875000, 82.196063\n",
      "- num edges: 16480.458333, 1299.647676\n",
      "- edge node ratio: 3.26, 0.232903\n",
      "- triang node ratio: 3.252700, 0.404056\n",
      "- density (1000x): 1.294035, 0.086062\n",
      "- mean degree: 6.53, 0.465806\n",
      "- mean maximal clique containing node: 4.63, 0.161453\n",
      "- clustering coefficient: 0.64, 0.027842\n",
      "- connected component sizes (largest): 0.9483836056651421, 0.009411\n",
      "- mean distance between nodes (largest conn. comp.): 4.44, 0.199322\n"
     ]
    }
   ],
   "source": [
    "test_samples('rcc_runs_clique_init2/')"
   ]
  },
  {
   "cell_type": "code",
   "execution_count": 13,
   "metadata": {},
   "outputs": [
    {
     "name": "stdout",
     "output_type": "stream",
     "text": [
      "- num nodes: 5249.375000, 143.730886\n",
      "- num edges: 14712.291667, 884.850339\n",
      "- edge node ratio: 2.80, 0.117585\n",
      "- triang node ratio: 0.072870, 0.012880\n",
      "- density (1000x): 1.067670, 0.040437\n",
      "- mean degree: 5.60, 0.235170\n",
      "- mean maximal clique containing node: 2.11, 0.017526\n",
      "- clustering coefficient: 0.00, 0.003054\n",
      "- connected component sizes (largest): 0.9840047642205132, 0.003014\n",
      "- mean distance between nodes (largest conn. comp.): 4.46, 0.075643\n"
     ]
    }
   ],
   "source": [
    "test_samples('bnpgraph_runs/arxiv_', offset=1, nodeoffset=1)"
   ]
  },
  {
   "cell_type": "code",
   "execution_count": 14,
   "metadata": {},
   "outputs": [
    {
     "name": "stdout",
     "output_type": "stream",
     "text": [
      "- num nodes: 6868.250000, 27.210981\n",
      "- num edges: 11168.500000, 18.382510\n",
      "- edge node ratio: 1.63, 0.006224\n",
      "- triang node ratio: 0.013656, 0.001249\n",
      "- density (1000x): 0.473603, 0.003609\n",
      "- mean degree: 3.25, 0.012447\n",
      "- mean maximal clique containing node: 2.03, 0.009499\n",
      "- clustering coefficient: 0.00, 0.001561\n",
      "- connected component sizes (largest): 0.9393949946377242, 0.004211\n",
      "- mean distance between nodes (largest conn. comp.): 6.97, 0.089792\n"
     ]
    }
   ],
   "source": [
    "test_samples('krongen_runs/arxiv_', offset=1, zeropad=True)"
   ]
  },
  {
   "cell_type": "code",
   "execution_count": null,
   "metadata": {},
   "outputs": [],
   "source": [
    "test_samples('krongen4x4_runs/arxiv_', offset=1, zeropad=True)"
   ]
  },
  {
   "cell_type": "code",
   "execution_count": 16,
   "metadata": {},
   "outputs": [],
   "source": [
    "def fit_kde(x, grid):\n",
    "    resol = len(grid)\n",
    "    d = np.zeros(resol)\n",
    "    kde = KDEUnivariate(x)\n",
    "    kde.fit()\n",
    "    d = kde.evaluate(grid)    \n",
    "    return d\n",
    "\n",
    "def fit_count(x, grid):\n",
    "    cnt = Counter(x)\n",
    "    d = np.array([cnt[y] for y in grid]) / len(x)\n",
    "    return d\n",
    "\n",
    "def degree_clique_density_runs(path, deg_grid, clique_grid, n = 25, offset=0, zeropad=False, nodeoffset=0):\n",
    "    deg_dens = np.zeros(len(deg_grid))\n",
    "    clique_dens = np.zeros(len(clique_grid))\n",
    "    \n",
    "    for k in range(n):\n",
    "        strpattern = '{}.tsv' if not zeropad else '{:02d}.tsv'\n",
    "        links = np.genfromtxt(path + strpattern.format(k+offset), delimiter='\\t', dtype=int)\n",
    "        g = nx.Graph()\n",
    "        for i, j in links:\n",
    "            if i != j:\n",
    "                g.add_edge(i - nodeoffset, j - nodeoffset)\n",
    "\n",
    "\n",
    "\n",
    "        degs = np.array([nx.degree(g, i) for i in g.nodes()], dtype=float)\n",
    "        clique = np.array([nx.node_clique_number(g, i) for i in g.nodes()], dtype=float)\n",
    "        \n",
    "        deg_dens += fit_kde(degs, deg_grid) / n  \n",
    "        clique_dens += fit_count(clique, clique_grid) / n  \n",
    "        \n",
    "    return deg_dens, clique_dens\n",
    "\n",
    "def degree_clique_density_graph(g, deg_grid, clique_grid):\n",
    "    degs = np.array([nx.degree(g, i) for i in g.nodes()], dtype=float)\n",
    "    clique = np.array([nx.node_clique_number(g, i) for i in g.nodes()], dtype=float)\n",
    "\n",
    "    deg_dens = fit_kde(degs, deg_grid)\n",
    "    clique_dens = fit_count(clique, clique_grid) \n",
    "        \n",
    "    return deg_dens, clique_dens"
   ]
  },
  {
   "cell_type": "code",
   "execution_count": 17,
   "metadata": {},
   "outputs": [],
   "source": [
    "deg_grid = np.linspace(1, 35, 25)\n",
    "clique_grid = np.arange(2, 20)\n",
    "\n",
    "deg_dens_rcc, clique_dens_rcc = degree_clique_density_runs('rcc_runs_clique_init2/', deg_grid, clique_grid)\n",
    "deg_dens_bnp, clique_dens_bnp = degree_clique_density_runs('bnpgraph_runs/arxiv_', deg_grid, clique_grid, offset=1, nodeoffset=1)\n",
    "deg_dens_krongen, clique_dens_krongen = degree_clique_density_runs('krongen_runs/arxiv_', deg_grid, clique_grid, offset=1, zeropad=True)"
   ]
  },
  {
   "cell_type": "code",
   "execution_count": 18,
   "metadata": {},
   "outputs": [],
   "source": [
    "deg_dens_orig, clique_dens_orig = degree_clique_density_graph(g, deg_grid, clique_grid)"
   ]
  },
  {
   "cell_type": "code",
   "execution_count": 19,
   "metadata": {},
   "outputs": [],
   "source": [
    "deg_df = pd.DataFrame({\n",
    "    'Truth': deg_dens_orig, \n",
    "    'RCC': deg_dens_rcc, \n",
    "    'BNPGraph': deg_dens_bnp,\n",
    "    'Kron(2x2)': deg_dens_krongen}, index=deg_grid)\n",
    "maxclique_df = pd.DataFrame({\n",
    "    'Truth': clique_dens_orig, \n",
    "    'RCC': clique_dens_rcc,\n",
    "    'BNPGraph': clique_dens_bnp,\n",
    "    'Kron(2x2)': clique_dens_krongen}, index=clique_grid)"
   ]
  },
  {
   "cell_type": "code",
   "execution_count": 20,
   "metadata": {},
   "outputs": [
    {
     "data": {
      "image/png": "[encoded data removed]",
      "text/plain": [
       "<Figure size 432x288 with 1 Axes>"
      ]
     },
     "metadata": {},
     "output_type": "display_data"
    }
   ],
   "source": [
    "style = ['b--','r-','c-.', 'y--.']\n",
    "deg_df.plot(style=style, markersize=5, linewidth=2, figsize = (6, 4))\n",
    "plt.legend(fontsize=14) # using a size in points\n",
    "plt.xlim(1, 35)\n",
    "plt.xlabel(\"Degree\", fontsize=14)\n",
    "# plt.ylabel(\"Density\")\n",
    "# plt.title(\"Degree distribution\")\n",
    "plt.savefig('arxiv_clique_init_degree_dist.png', format=\"PNG\")\n",
    "plt.show()"
   ]
  },
  {
   "cell_type": "code",
   "execution_count": 21,
   "metadata": {},
   "outputs": [],
   "source": [
    "# style = ['b--','r-','c-.']\n",
    "# maxclique_df.plot(style=style, markersize=5, linewidth=2, figsize = (6, 4))\n",
    "# plt.legend(fontsize=14) # using a size in points\n",
    "# plt.xlim(2, 15)\n",
    "# plt.xlabel(\"Maximal clique size per node\", fontsize=14)\n",
    "# # plt.ylabel(\"Density\")\n",
    "# # plt.title(\"Degree distribution\")\n",
    "# plt.savefig('arxiv_clique_init_maximal_clique_dist.png', format=\"PNG\")\n",
    "# plt.show()"
   ]
  },
  {
   "cell_type": "code",
   "execution_count": 22,
   "metadata": {},
   "outputs": [],
   "source": [
    "def fit_count(x, grid):\n",
    "    cnt = Counter(x)\n",
    "    d = np.array([cnt[y] for y in grid]) / len(x)\n",
    "    return d\n",
    "\n",
    "def clique_density_runs(path, clique_grid, n = 25, offset=0, zeropad=False, nodeoffset=0):\n",
    "    counts = np.zeros((len(clique_grid), n))\n",
    "    \n",
    "    for k in range(n):\n",
    "        strpattern = '{}.tsv' if not zeropad else '{:02d}.tsv'\n",
    "        links = np.genfromtxt(path + strpattern.format(k+offset), delimiter='\\t', dtype=int)\n",
    "        g = nx.Graph()\n",
    "        for i, j in links:\n",
    "            if i != j:\n",
    "                g.add_edge(i - nodeoffset, j - nodeoffset)\n",
    "\n",
    "        clique = np.array([nx.node_clique_number(g, i) for i in g.nodes()], dtype=float)    \n",
    "        counts[:,k] = fit_count(clique, clique_grid)\n",
    "    \n",
    "    means = np.mean(counts, 1)\n",
    "    std = np.std(counts, 1)\n",
    "        \n",
    "    return means, std\n",
    "\n",
    "def clique_density_graph(g, clique_grid, n = 25, offset=0):\n",
    "    clique = [nx.node_clique_number(g, i) for i in g.nodes()]\n",
    "    counts = fit_count(clique, clique_grid)\n",
    "    \n",
    "    return counts"
   ]
  },
  {
   "cell_type": "code",
   "execution_count": 23,
   "metadata": {},
   "outputs": [],
   "source": [
    "clique_grid = np.arange(2, 10)\n",
    "clique_means_rcc, clique_std_rcc = clique_density_runs('rcc_runs_clique_init2/', clique_grid)\n",
    "clique_means_bnp, clique_std_bnp = clique_density_runs('bnpgraph_runs/arxiv_', clique_grid, offset=1, nodeoffset=1)\n",
    "clique_means_krongen, clique_std_krongen = clique_density_runs('krongen_runs/arxiv_', clique_grid, offset=1, zeropad=True)\n",
    "clique = clique_density_graph(g, clique_grid)\n",
    "df = pd.DataFrame({'Truth': clique, 'RCC': clique_means_rcc, 'BNPGraph': clique_means_bnp, 'Kron(2x2)': clique_means_krongen}, index=clique_grid)"
   ]
  },
  {
   "cell_type": "code",
   "execution_count": 24,
   "metadata": {},
   "outputs": [
    {
     "data": {
      "image/png": "[encoded data removed]",
      "text/plain": [
       "<Figure size 432x288 with 1 Axes>"
      ]
     },
     "metadata": {},
     "output_type": "display_data"
    }
   ],
   "source": [
    "style = ['b','r','c', 'y']\n",
    "df.plot.bar(width=.8, figsize=(6,4), alpha=0.7, rot=0, color=style, edgecolor = 'black')\n",
    "plt.legend(fontsize=14)\n",
    "plt.xlabel('Maximal clique size per node', fontsize=14)\n",
    "plt.savefig('arxiv_clique_init_maximal_clique_dist.png', format=\"PNG\")"
   ]
  },
  {
   "cell_type": "code",
   "execution_count": null,
   "metadata": {},
   "outputs": [],
   "source": []
  },
  {
   "cell_type": "code",
   "execution_count": null,
   "metadata": {},
   "outputs": [],
   "source": []
  },
  {
   "cell_type": "code",
   "execution_count": null,
   "metadata": {},
   "outputs": [],
   "source": []
  },
  {
   "cell_type": "code",
   "execution_count": null,
   "metadata": {},
   "outputs": [],
   "source": []
  }
 ],
 "metadata": {
  "kernelspec": {
   "display_name": "Python 3",
   "language": "python",
   "name": "python3"
  },
  "language_info": {
   "codemirror_mode": {
    "name": "ipython",
    "version": 3
   },
   "file_extension": ".py",
   "mimetype": "text/x-python",
   "name": "python",
   "nbconvert_exporter": "python",
   "pygments_lexer": "ipython3",
   "version": "3.6.5"
  }
 },
 "nbformat": 4,
 "nbformat_minor": 2
}
