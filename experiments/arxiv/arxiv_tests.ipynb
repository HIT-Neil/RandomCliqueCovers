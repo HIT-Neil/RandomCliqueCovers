{
 "cells": [
  {
   "cell_type": "code",
   "execution_count": 56,
   "metadata": {},
   "outputs": [],
   "source": [
    "import sys\n",
    "sys.path.append('./../')"
   ]
  },
  {
   "cell_type": "code",
   "execution_count": 57,
   "metadata": {},
   "outputs": [],
   "source": [
    "import numpy as np\n",
    "import networkx as nx\n",
    "import matplotlib.pyplot as plt\n",
    "import pickle\n",
    "import importlib\n",
    "from statsmodels.nonparametric.kde import KDEUnivariate\n",
    "from collections import Counter\n",
    "import pandas as pd"
   ]
  },
  {
   "cell_type": "code",
   "execution_count": 58,
   "metadata": {},
   "outputs": [],
   "source": [
    "import optim as opt\n",
    "import helpertests as tst\n",
    "import sparsedense as spd"
   ]
  },
  {
   "cell_type": "code",
   "execution_count": 59,
   "metadata": {},
   "outputs": [],
   "source": [
    "test = 'arxiv'"
   ]
  },
  {
   "cell_type": "code",
   "execution_count": 60,
   "metadata": {},
   "outputs": [],
   "source": [
    "links = np.genfromtxt('{}.tsv'.format(test), delimiter='\\t', dtype=int)\n",
    "g = nx.Graph()\n",
    "g.add_edges_from(links)\n",
    "net = nx.adjacency_matrix(g).toarray().astype(int)\n",
    "for i in range(net.shape[0]):\n",
    "    net[i, i] = 1\n",
    "    "
   ]
  },
  {
   "cell_type": "code",
   "execution_count": 61,
   "metadata": {},
   "outputs": [],
   "source": [
    "with open('{}.pkl'.format(test), 'rb') as f:\n",
    "    runs = pickle.load(f)"
   ]
  },
  {
   "cell_type": "code",
   "execution_count": 62,
   "metadata": {},
   "outputs": [
    {
     "data": {
      "text/plain": [
       "(2.0713391222586086, 0.00010000002208698788, 899.9847126789679, 14055)"
      ]
     },
     "execution_count": 62,
     "metadata": {},
     "output_type": "execute_result"
    }
   ],
   "source": [
    "alpha, sigma, c, num_cliques = runs['alphas'][-1], runs['sigmas'][-1], runs['cs'][-1], runs['Ks'][-1]\n",
    "alpha, sigma, c, num_cliques"
   ]
  },
  {
   "cell_type": "code",
   "execution_count": 63,
   "metadata": {},
   "outputs": [],
   "source": [
    "def gen_rcc_samples(nsamples, alpha, sigma, c, num_cliques):\n",
    "    for k in range(nsamples):\n",
    "        Z = opt.sample_from_ibp(num_cliques, alpha=alpha, sigma=sigma, c=c)\n",
    "        net = Z.transpose() @ Z\n",
    "        K, N = Z.shape\n",
    "        links = []\n",
    "        for i in range(N - 1):\n",
    "            for j in range(i + 1, N):\n",
    "                if net[i, j] >= 1:\n",
    "                    links.append([i, j])\n",
    "        np.savetxt('rcc_runs/{}.tsv'.format(k), np.array(links), delimiter='\\t', fmt='%d')"
   ]
  },
  {
   "cell_type": "code",
   "execution_count": 64,
   "metadata": {},
   "outputs": [],
   "source": [
    "nsamples = 3\n",
    "gen_rcc_samples(nsamples, alpha, sigma, c, num_cliques)"
   ]
  },
  {
   "cell_type": "code",
   "execution_count": null,
   "metadata": {},
   "outputs": [],
   "source": [
    "def test_samples(path, n=25, mc_size=500, verbose=True, offset=0):\n",
    "    \n",
    "    num_nodes, num_edges, edge_node, density, deg, max_clique_node, clust_coeff, conn_comp_largest, short_paths = [], [], [], [], [], [], [], [], []\n",
    "\n",
    "    for i in range(1, n):\n",
    "        links = np.genfromtxt(path + '{}.tsv'.format(i+offset), delimiter='\\t', dtype=int)\n",
    "        g = nx.Graph()\n",
    "        g.add_edges_from(links - 1)\n",
    "\n",
    "        num_nodes_i, num_edges_i, edge_node_ratio_i, density_i, deg_i, max_clique_node_i, clust_coeff_i, conn_comp_i, short_paths_i = \\\n",
    "            tst.test_stats(g, mc_size=mc_size, verbose=False, return_results=True)\n",
    "\n",
    "        num_nodes.append(num_nodes_i)\n",
    "        num_edges.append(num_edges_i)\n",
    "        edge_node.append(edge_node_ratio_i)\n",
    "        density.append(density_i)\n",
    "        deg.append(deg_i)\n",
    "        max_clique_node.append(max_clique_node_i)\n",
    "        clust_coeff.append(clust_coeff_i)\n",
    "        conn_comp_largest.append(conn_comp_i / num_nodes_i)\n",
    "        short_paths.append(short_paths_i)\n",
    "\n",
    "    if verbose:\n",
    "        print(\"- num nodes: {:f}, {:f}\".format(np.mean(num_nodes), np.std(num_nodes)))\n",
    "        print(\"- num edges: {:f}, {:f}\".format(np.mean(num_edges), np.std(num_edges)))\n",
    "        print(\"- edge node ratio: {:2.2f}, {:f}\".format(np.mean(edge_node), np.std(edge_node)))\n",
    "        print(\"- density: {:2.6f}, {:f}\".format(np.mean(density), np.std(density)))\n",
    "        print(\"- mean degree: {:2.2f}, {:f}\".format(np.mean(deg), np.std(deg)))\n",
    "        print(\"- mean maximal clique containing node: {:2.2f}, {:f}\".format(np.mean(max_clique_node), np.std(max_clique_node)))\n",
    "        print(\"- clustering coefficient: {:2.2f}, {:f}\".format(np.mean(clust_coeff), np.std(clust_coeff)))\n",
    "        print(\"- connected component sizes (largest): {}, {:f}\".format(np.mean(conn_comp_largest), np.std(conn_comp_largest)))\n",
    "        print(\"- mean distance between nodes (largest conn. comp.): {:2.2f}, {:f}\".format(np.mean(short_paths), np.std(short_paths)))  "
   ]
  },
  {
   "cell_type": "code",
   "execution_count": null,
   "metadata": {},
   "outputs": [],
   "source": [
    "tst.test_stats(g)"
   ]
  },
  {
   "cell_type": "code",
   "execution_count": null,
   "metadata": {},
   "outputs": [],
   "source": [
    "test_samples('rcc_runs/',n=nsamples)"
   ]
  },
  {
   "cell_type": "code",
   "execution_count": null,
   "metadata": {},
   "outputs": [],
   "source": [
    "test_samples('bnpgraph_runs/arxiv_', offset=1,nsamples=3)"
   ]
  },
  {
   "cell_type": "code",
   "execution_count": null,
   "metadata": {},
   "outputs": [],
   "source": [
    "def fit_kde(x, grid):\n",
    "    resol = len(grid)\n",
    "    d = np.zeros(resol)\n",
    "    kde = KDEUnivariate(x)\n",
    "    kde.fit()\n",
    "    d = kde.evaluate(grid)    \n",
    "    return d\n",
    "\n",
    "def fit_count(x, grid):\n",
    "    cnt = Counter(x)\n",
    "    d = np.array([cnt[y] for y in grid]) / len(x)\n",
    "    return d\n",
    "\n",
    "def degree_clique_density_runs(path, deg_grid, clique_grid, n = 25, offset=0):\n",
    "    deg_dens = np.zeros(len(deg_grid))\n",
    "    clique_dens = np.zeros(len(clique_grid))\n",
    "    \n",
    "    for k in range(n):\n",
    "        links = np.genfromtxt(path + '{}.tsv'.format(k + offset), delimiter='\\t', dtype=int)\n",
    "        g = nx.Graph()\n",
    "        g.add_edges_from(links - 1)\n",
    "\n",
    "\n",
    "        degs = np.array([nx.degree(g, i) for i in g.nodes()], dtype=float)\n",
    "        clique = np.array([nx.node_clique_number(g, i) for i in g.nodes()], dtype=float)\n",
    "        \n",
    "        deg_dens += fit_kde(degs, deg_grid) / n  \n",
    "        clique_dens += fit_count(clique, clique_grid) / n  \n",
    "        \n",
    "    return deg_dens, clique_dens\n",
    "\n",
    "def degree_clique_density_graph(g, deg_grid, clique_grid):\n",
    "    degs = np.array([nx.degree(g, i) for i in g.nodes()], dtype=float)\n",
    "    clique = np.array([nx.node_clique_number(g, i) for i in g.nodes()], dtype=float)\n",
    "\n",
    "    deg_dens = fit_kde(degs, deg_grid)\n",
    "    clique_dens = fit_count(clique, clique_grid) \n",
    "        \n",
    "    return deg_dens, clique_dens"
   ]
  },
  {
   "cell_type": "code",
   "execution_count": null,
   "metadata": {},
   "outputs": [],
   "source": [
    "deg_grid = np.linspace(1, 45, 20)\n",
    "clique_grid = np.arange(2, 20)\n",
    "\n",
    "deg_dens_rcc, clique_dens_rcc = degree_clique_density_runs('rcc_runs/', deg_grid, clique_grid)\n",
    "deg_dens_bnp, clique_dens_bnp = degree_clique_density_runs('bnpgraph_runs/arxiv_', deg_grid, clique_grid, offset=1)"
   ]
  },
  {
   "cell_type": "code",
   "execution_count": null,
   "metadata": {},
   "outputs": [],
   "source": [
    "deg_dens_orig, clique_dens_orig = degree_clique_density_graph(g, deg_grid, clique_grid)"
   ]
  },
  {
   "cell_type": "code",
   "execution_count": null,
   "metadata": {},
   "outputs": [],
   "source": [
    "deg_df = pd.DataFrame({\n",
    "    'Truth': deg_dens_orig, \n",
    "    'RCC': deg_dens_rcc, \n",
    "    'BNPGraph': deg_dens_bnp}, index=deg_grid)\n",
    "maxclique_df = pd.DataFrame({\n",
    "    'Truth': clique_dens_orig, \n",
    "    'RCC': clique_dens_rcc,\n",
    "    'BNPGraph': clique_dens_bnp}, index=clique_grid)"
   ]
  },
  {
   "cell_type": "code",
   "execution_count": null,
   "metadata": {},
   "outputs": [],
   "source": [
    "style = ['b--','r-','c-.']\n",
    "deg_df.plot(style=style, markersize=5, linewidth=2, figsize = (6, 4))\n",
    "plt.legend(fontsize=14) # using a size in points\n",
    "plt.xlim(1, 45)\n",
    "plt.xlabel(\"Degree\", fontsize=14)\n",
    "# plt.ylabel(\"Density\")\n",
    "# plt.title(\"Degree distribution\")\n",
    "plt.savefig('arxiv_degree_dist.png', format=\"PNG\")\n",
    "plt.show()"
   ]
  },
  {
   "cell_type": "code",
   "execution_count": null,
   "metadata": {},
   "outputs": [],
   "source": [
    "style = ['b--','r-','c-.']\n",
    "maxclique_df.plot(style=style, markersize=5, linewidth=2, figsize = (6, 4))\n",
    "plt.legend(fontsize=14) # using a size in points\n",
    "plt.xlim(2, 15)\n",
    "plt.xlabel(\"Maximal clique size per node\", fontsize=14)\n",
    "# plt.ylabel(\"Density\")\n",
    "# plt.title(\"Degree distribution\")\n",
    "plt.savefig('arxiv_maximal_clique_dist.png', format=\"PNG\")\n",
    "plt.show()"
   ]
  },
  {
   "cell_type": "code",
   "execution_count": null,
   "metadata": {},
   "outputs": [],
   "source": []
  }
 ],
 "metadata": {
  "kernelspec": {
   "display_name": "Python 3",
   "language": "python",
   "name": "python3"
  },
  "language_info": {
   "codemirror_mode": {
    "name": "ipython",
    "version": 3
   },
   "file_extension": ".py",
   "mimetype": "text/x-python",
   "name": "python",
   "nbconvert_exporter": "python",
   "pygments_lexer": "ipython3",
   "version": "3.6.5"
  }
 },
 "nbformat": 4,
 "nbformat_minor": 2
}
