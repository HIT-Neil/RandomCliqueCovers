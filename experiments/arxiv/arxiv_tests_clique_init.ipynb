{
 "cells": [
  {
   "cell_type": "code",
   "execution_count": 62,
   "metadata": {},
   "outputs": [],
   "source": [
    "import sys\n",
    "sys.path.append('./../')"
   ]
  },
  {
   "cell_type": "code",
   "execution_count": 63,
   "metadata": {},
   "outputs": [],
   "source": [
    "import numpy as np\n",
    "import networkx as nx\n",
    "import matplotlib.pyplot as plt\n",
    "import pickle\n",
    "import importlib\n",
    "from statsmodels.nonparametric.kde import KDEUnivariate\n",
    "from collections import Counter\n",
    "import pandas as pd"
   ]
  },
  {
   "cell_type": "code",
   "execution_count": 64,
   "metadata": {},
   "outputs": [],
   "source": [
    "import optim as opt\n",
    "import helpertests as tst\n",
    "import sparsedense as spd"
   ]
  },
  {
   "cell_type": "code",
   "execution_count": 65,
   "metadata": {},
   "outputs": [],
   "source": [
    "test = 'arxiv'"
   ]
  },
  {
   "cell_type": "code",
   "execution_count": 66,
   "metadata": {},
   "outputs": [],
   "source": [
    "links = np.genfromtxt('{}.tsv'.format(test), delimiter='\\t', dtype=int)\n",
    "g = nx.Graph()\n",
    "g.add_edges_from(links)\n",
    "net = nx.adjacency_matrix(g).toarray().astype(int)\n",
    "for i in range(net.shape[0]):\n",
    "    net[i, i] = 1\n",
    "    "
   ]
  },
  {
   "cell_type": "code",
   "execution_count": 67,
   "metadata": {},
   "outputs": [],
   "source": [
    "with open('{}_clique_init.pkl'.format(test), 'rb') as f:\n",
    "    runs = pickle.load(f)"
   ]
  },
  {
   "cell_type": "code",
   "execution_count": 68,
   "metadata": {},
   "outputs": [
    {
     "data": {
      "text/plain": [
       "(2.825334687452128, 0.29217817544997615, 799.7654088474519, 3898)"
      ]
     },
     "execution_count": 68,
     "metadata": {},
     "output_type": "execute_result"
    }
   ],
   "source": [
    "alpha, sigma, c, num_cliques = runs['alphas'][-1], runs['sigmas'][-1], runs['cs'][-1], runs['Ks'][-1]\n",
    "alpha, sigma, c, num_cliques"
   ]
  },
  {
   "cell_type": "code",
   "execution_count": 69,
   "metadata": {},
   "outputs": [],
   "source": [
    "def gen_rcc_samples(nreps, alpha, sigma, c, num_cliques):\n",
    "    for k in range(nreps):\n",
    "        Z = opt.sample_from_ibp(num_cliques, alpha=alpha, sigma=sigma, c=c)\n",
    "        net = Z.transpose() @ Z\n",
    "        K, N = Z.shape\n",
    "        links = []\n",
    "        for i in range(N - 1):\n",
    "            for j in range(i + 1, N):\n",
    "                if net[i, j] >= 1:\n",
    "                    links.append([i, j])\n",
    "        np.savetxt('rcc_runs_clique_init/{}.tsv'.format(k), np.array(links), delimiter='\\t', fmt='%d')"
   ]
  },
  {
   "cell_type": "code",
   "execution_count": 70,
   "metadata": {},
   "outputs": [],
   "source": [
    "nreps = 5\n",
    "gen_rcc_samples(nreps, alpha, sigma, c, num_cliques)"
   ]
  },
  {
   "cell_type": "code",
   "execution_count": 71,
   "metadata": {},
   "outputs": [],
   "source": [
    "def test_samples(path, n=25, mc_size=500, verbose=True, offset=0):\n",
    "    \n",
    "    num_nodes, num_edges, edge_node, density, deg, max_clique_node, clust_coeff, conn_comp_largest, short_paths = [], [], [], [], [], [], [], [], []\n",
    "\n",
    "    for i in range(n):\n",
    "        links = np.genfromtxt(path + '{}.tsv'.format(i+offset), delimiter='\\t', dtype=int)\n",
    "        g = nx.Graph()\n",
    "        g.add_edges_from(links - 1)\n",
    "\n",
    "        num_nodes_i, num_edges_i, edge_node_ratio_i, density_i, deg_i, max_clique_node_i, clust_coeff_i, conn_comp_i, short_paths_i = \\\n",
    "            tst.test_stats(g, mc_size=mc_size, verbose=False, return_results=True)\n",
    "\n",
    "        num_nodes.append(num_nodes_i)\n",
    "        num_edges.append(num_edges_i)\n",
    "        edge_node.append(edge_node_ratio_i)\n",
    "        density.append(density_i)\n",
    "        deg.append(deg_i)\n",
    "        max_clique_node.append(max_clique_node_i)\n",
    "        clust_coeff.append(clust_coeff_i)\n",
    "        conn_comp_largest.append(conn_comp_i / num_nodes_i)\n",
    "        short_paths.append(short_paths_i)\n",
    "\n",
    "    if verbose:\n",
    "        print(\"- num nodes: {:f}, {:f}\".format(np.mean(num_nodes), np.std(num_nodes)))\n",
    "        print(\"- num edges: {:f}, {:f}\".format(np.mean(num_edges), np.std(num_edges)))\n",
    "        print(\"- edge node ratio: {:2.2f}, {:f}\".format(np.mean(edge_node), np.std(edge_node)))\n",
    "        print(\"- density: {:2.6f}, {:f}\".format(np.mean(density), np.std(density)))\n",
    "        print(\"- mean degree: {:2.2f}, {:f}\".format(np.mean(deg), np.std(deg)))\n",
    "        print(\"- mean maximal clique containing node: {:2.2f}, {:f}\".format(np.mean(max_clique_node), np.std(max_clique_node)))\n",
    "        print(\"- clustering coefficient: {:2.2f}, {:f}\".format(np.mean(clust_coeff), np.std(clust_coeff)))\n",
    "        print(\"- connected component sizes (largest): {}, {:f}\".format(np.mean(conn_comp_largest), np.std(conn_comp_largest)))\n",
    "        print(\"- mean distance between nodes (largest conn. comp.): {:2.2f}, {:f}\".format(np.mean(short_paths), np.std(short_paths)))  "
   ]
  },
  {
   "cell_type": "code",
   "execution_count": 72,
   "metadata": {},
   "outputs": [
    {
     "name": "stdout",
     "output_type": "stream",
     "text": [
      "- num nodes: 5241\n",
      "- num edges: 14484\n",
      "- edge node ratio: 2.76\n",
      "- density: 0.001055\n",
      "- mean degree: 5.53\n",
      "- mean maximal clique containing node: 4.77\n",
      "- clustering coefficient: 0.54\n",
      "- connected component sizes (top 5): [4158, 14, 12, 10, 9]\n",
      "- mean distance between nodes (largest conn. comp.): 6.07\n"
     ]
    }
   ],
   "source": [
    "tst.test_stats(g)"
   ]
  },
  {
   "cell_type": "code",
   "execution_count": 73,
   "metadata": {},
   "outputs": [
    {
     "name": "stdout",
     "output_type": "stream",
     "text": [
      "- num nodes: 5016.600000, 24.711131\n",
      "- num edges: 15189.400000, 587.311365\n",
      "- edge node ratio: 3.03, 0.110651\n",
      "- density: 0.001207, 0.000042\n",
      "- mean degree: 6.06, 0.221301\n",
      "- mean maximal clique containing node: 4.55, 0.052466\n",
      "- clustering coefficient: 0.63, 0.022881\n",
      "- connected component sizes (largest): 0.9412908388363184, 0.006286\n",
      "- mean distance between nodes (largest conn. comp.): 4.65, 0.118791\n"
     ]
    }
   ],
   "source": [
    "test_samples('rcc_runs_clique_init/',n=5)"
   ]
  },
  {
   "cell_type": "code",
   "execution_count": 74,
   "metadata": {},
   "outputs": [
    {
     "name": "stdout",
     "output_type": "stream",
     "text": [
      "- num nodes: 5231.200000, 50.803150\n",
      "- num edges: 14674.200000, 506.717041\n",
      "- edge node ratio: 2.80, 0.081100\n",
      "- density: 0.001072, 0.000028\n",
      "- mean degree: 5.61, 0.162200\n",
      "- mean maximal clique containing node: 2.11, 0.006928\n",
      "- clustering coefficient: 0.00, 0.001054\n",
      "- connected component sizes (largest): 0.9828934630326025, 0.003461\n",
      "- mean distance between nodes (largest conn. comp.): 4.44, 0.028074\n"
     ]
    }
   ],
   "source": [
    "test_samples('bnpgraph_runs/arxiv_', offset=1,n=5)"
   ]
  },
  {
   "cell_type": "code",
   "execution_count": 75,
   "metadata": {},
   "outputs": [],
   "source": [
    "def fit_kde(x, grid):\n",
    "    resol = len(grid)\n",
    "    d = np.zeros(resol)\n",
    "    kde = KDEUnivariate(x)\n",
    "    kde.fit()\n",
    "    d = kde.evaluate(grid)    \n",
    "    return d\n",
    "\n",
    "def fit_count(x, grid):\n",
    "    cnt = Counter(x)\n",
    "    d = np.array([cnt[y] for y in grid]) / len(x)\n",
    "    return d\n",
    "\n",
    "def degree_clique_density_runs(path, deg_grid, clique_grid, n = 25, offset=0):\n",
    "    deg_dens = np.zeros(len(deg_grid))\n",
    "    clique_dens = np.zeros(len(clique_grid))\n",
    "    \n",
    "    for k in range(n):\n",
    "        links = np.genfromtxt(path + '{}.tsv'.format(k + offset), delimiter='\\t', dtype=int)\n",
    "        g = nx.Graph()\n",
    "        g.add_edges_from(links - 1)\n",
    "\n",
    "\n",
    "        degs = np.array([nx.degree(g, i) for i in g.nodes()], dtype=float)\n",
    "        clique = np.array([nx.node_clique_number(g, i) for i in g.nodes()], dtype=float)\n",
    "        \n",
    "        deg_dens += fit_kde(degs, deg_grid) / n  \n",
    "        clique_dens += fit_count(clique, clique_grid) / n  \n",
    "        \n",
    "    return deg_dens, clique_dens\n",
    "\n",
    "def degree_clique_density_graph(g, deg_grid, clique_grid):\n",
    "    degs = np.array([nx.degree(g, i) for i in g.nodes()], dtype=float)\n",
    "    clique = np.array([nx.node_clique_number(g, i) for i in g.nodes()], dtype=float)\n",
    "\n",
    "    deg_dens = fit_kde(degs, deg_grid)\n",
    "    clique_dens = fit_count(clique, clique_grid) \n",
    "        \n",
    "    return deg_dens, clique_dens"
   ]
  },
  {
   "cell_type": "code",
   "execution_count": 105,
   "metadata": {},
   "outputs": [],
   "source": [
    "deg_grid = np.linspace(1, 25, 20)\n",
    "clique_grid = np.arange(2, 20)\n",
    "\n",
    "deg_dens_rcc, clique_dens_rcc = degree_clique_density_runs('rcc_runs_clique_init/', deg_grid, clique_grid)\n",
    "deg_dens_bnp, clique_dens_bnp = degree_clique_density_runs('bnpgraph_runs/arxiv_', deg_grid, clique_grid, offset=1)"
   ]
  },
  {
   "cell_type": "code",
   "execution_count": 106,
   "metadata": {},
   "outputs": [
    {
     "ename": "KeyboardInterrupt",
     "evalue": "",
     "output_type": "error",
     "traceback": [
      "\u001b[1;31m---------------------------------------------------------------------------\u001b[0m",
      "\u001b[1;31mKeyboardInterrupt\u001b[0m                         Traceback (most recent call last)",
      "\u001b[1;32m<ipython-input-106-1fba120c9b48>\u001b[0m in \u001b[0;36m<module>\u001b[1;34m()\u001b[0m\n\u001b[1;32m----> 1\u001b[1;33m \u001b[0mdeg_dens_orig\u001b[0m\u001b[1;33m,\u001b[0m \u001b[0mclique_dens_orig\u001b[0m \u001b[1;33m=\u001b[0m \u001b[0mdegree_clique_density_graph\u001b[0m\u001b[1;33m(\u001b[0m\u001b[0mg\u001b[0m\u001b[1;33m,\u001b[0m \u001b[0mdeg_grid\u001b[0m\u001b[1;33m,\u001b[0m \u001b[0mclique_grid\u001b[0m\u001b[1;33m)\u001b[0m\u001b[1;33m\u001b[0m\u001b[0m\n\u001b[0m",
      "\u001b[1;32m<ipython-input-75-bf043e117760>\u001b[0m in \u001b[0;36mdegree_clique_density_graph\u001b[1;34m(g, deg_grid, clique_grid)\u001b[0m\n\u001b[0;32m     32\u001b[0m \u001b[1;32mdef\u001b[0m \u001b[0mdegree_clique_density_graph\u001b[0m\u001b[1;33m(\u001b[0m\u001b[0mg\u001b[0m\u001b[1;33m,\u001b[0m \u001b[0mdeg_grid\u001b[0m\u001b[1;33m,\u001b[0m \u001b[0mclique_grid\u001b[0m\u001b[1;33m)\u001b[0m\u001b[1;33m:\u001b[0m\u001b[1;33m\u001b[0m\u001b[0m\n\u001b[0;32m     33\u001b[0m     \u001b[0mdegs\u001b[0m \u001b[1;33m=\u001b[0m \u001b[0mnp\u001b[0m\u001b[1;33m.\u001b[0m\u001b[0marray\u001b[0m\u001b[1;33m(\u001b[0m\u001b[1;33m[\u001b[0m\u001b[0mnx\u001b[0m\u001b[1;33m.\u001b[0m\u001b[0mdegree\u001b[0m\u001b[1;33m(\u001b[0m\u001b[0mg\u001b[0m\u001b[1;33m,\u001b[0m \u001b[0mi\u001b[0m\u001b[1;33m)\u001b[0m \u001b[1;32mfor\u001b[0m \u001b[0mi\u001b[0m \u001b[1;32min\u001b[0m \u001b[0mg\u001b[0m\u001b[1;33m.\u001b[0m\u001b[0mnodes\u001b[0m\u001b[1;33m(\u001b[0m\u001b[1;33m)\u001b[0m\u001b[1;33m]\u001b[0m\u001b[1;33m,\u001b[0m \u001b[0mdtype\u001b[0m\u001b[1;33m=\u001b[0m\u001b[0mfloat\u001b[0m\u001b[1;33m)\u001b[0m\u001b[1;33m\u001b[0m\u001b[0m\n\u001b[1;32m---> 34\u001b[1;33m     \u001b[0mclique\u001b[0m \u001b[1;33m=\u001b[0m \u001b[0mnp\u001b[0m\u001b[1;33m.\u001b[0m\u001b[0marray\u001b[0m\u001b[1;33m(\u001b[0m\u001b[1;33m[\u001b[0m\u001b[0mnx\u001b[0m\u001b[1;33m.\u001b[0m\u001b[0mnode_clique_number\u001b[0m\u001b[1;33m(\u001b[0m\u001b[0mg\u001b[0m\u001b[1;33m,\u001b[0m \u001b[0mi\u001b[0m\u001b[1;33m)\u001b[0m \u001b[1;32mfor\u001b[0m \u001b[0mi\u001b[0m \u001b[1;32min\u001b[0m \u001b[0mg\u001b[0m\u001b[1;33m.\u001b[0m\u001b[0mnodes\u001b[0m\u001b[1;33m(\u001b[0m\u001b[1;33m)\u001b[0m\u001b[1;33m]\u001b[0m\u001b[1;33m,\u001b[0m \u001b[0mdtype\u001b[0m\u001b[1;33m=\u001b[0m\u001b[0mfloat\u001b[0m\u001b[1;33m)\u001b[0m\u001b[1;33m\u001b[0m\u001b[0m\n\u001b[0m\u001b[0;32m     35\u001b[0m \u001b[1;33m\u001b[0m\u001b[0m\n\u001b[0;32m     36\u001b[0m     \u001b[0mdeg_dens\u001b[0m \u001b[1;33m=\u001b[0m \u001b[0mfit_kde\u001b[0m\u001b[1;33m(\u001b[0m\u001b[0mdegs\u001b[0m\u001b[1;33m,\u001b[0m \u001b[0mdeg_grid\u001b[0m\u001b[1;33m)\u001b[0m\u001b[1;33m\u001b[0m\u001b[0m\n",
      "\u001b[1;32m<ipython-input-75-bf043e117760>\u001b[0m in \u001b[0;36m<listcomp>\u001b[1;34m(.0)\u001b[0m\n\u001b[0;32m     32\u001b[0m \u001b[1;32mdef\u001b[0m \u001b[0mdegree_clique_density_graph\u001b[0m\u001b[1;33m(\u001b[0m\u001b[0mg\u001b[0m\u001b[1;33m,\u001b[0m \u001b[0mdeg_grid\u001b[0m\u001b[1;33m,\u001b[0m \u001b[0mclique_grid\u001b[0m\u001b[1;33m)\u001b[0m\u001b[1;33m:\u001b[0m\u001b[1;33m\u001b[0m\u001b[0m\n\u001b[0;32m     33\u001b[0m     \u001b[0mdegs\u001b[0m \u001b[1;33m=\u001b[0m \u001b[0mnp\u001b[0m\u001b[1;33m.\u001b[0m\u001b[0marray\u001b[0m\u001b[1;33m(\u001b[0m\u001b[1;33m[\u001b[0m\u001b[0mnx\u001b[0m\u001b[1;33m.\u001b[0m\u001b[0mdegree\u001b[0m\u001b[1;33m(\u001b[0m\u001b[0mg\u001b[0m\u001b[1;33m,\u001b[0m \u001b[0mi\u001b[0m\u001b[1;33m)\u001b[0m \u001b[1;32mfor\u001b[0m \u001b[0mi\u001b[0m \u001b[1;32min\u001b[0m \u001b[0mg\u001b[0m\u001b[1;33m.\u001b[0m\u001b[0mnodes\u001b[0m\u001b[1;33m(\u001b[0m\u001b[1;33m)\u001b[0m\u001b[1;33m]\u001b[0m\u001b[1;33m,\u001b[0m \u001b[0mdtype\u001b[0m\u001b[1;33m=\u001b[0m\u001b[0mfloat\u001b[0m\u001b[1;33m)\u001b[0m\u001b[1;33m\u001b[0m\u001b[0m\n\u001b[1;32m---> 34\u001b[1;33m     \u001b[0mclique\u001b[0m \u001b[1;33m=\u001b[0m \u001b[0mnp\u001b[0m\u001b[1;33m.\u001b[0m\u001b[0marray\u001b[0m\u001b[1;33m(\u001b[0m\u001b[1;33m[\u001b[0m\u001b[0mnx\u001b[0m\u001b[1;33m.\u001b[0m\u001b[0mnode_clique_number\u001b[0m\u001b[1;33m(\u001b[0m\u001b[0mg\u001b[0m\u001b[1;33m,\u001b[0m \u001b[0mi\u001b[0m\u001b[1;33m)\u001b[0m \u001b[1;32mfor\u001b[0m \u001b[0mi\u001b[0m \u001b[1;32min\u001b[0m \u001b[0mg\u001b[0m\u001b[1;33m.\u001b[0m\u001b[0mnodes\u001b[0m\u001b[1;33m(\u001b[0m\u001b[1;33m)\u001b[0m\u001b[1;33m]\u001b[0m\u001b[1;33m,\u001b[0m \u001b[0mdtype\u001b[0m\u001b[1;33m=\u001b[0m\u001b[0mfloat\u001b[0m\u001b[1;33m)\u001b[0m\u001b[1;33m\u001b[0m\u001b[0m\n\u001b[0m\u001b[0;32m     35\u001b[0m \u001b[1;33m\u001b[0m\u001b[0m\n\u001b[0;32m     36\u001b[0m     \u001b[0mdeg_dens\u001b[0m \u001b[1;33m=\u001b[0m \u001b[0mfit_kde\u001b[0m\u001b[1;33m(\u001b[0m\u001b[0mdegs\u001b[0m\u001b[1;33m,\u001b[0m \u001b[0mdeg_grid\u001b[0m\u001b[1;33m)\u001b[0m\u001b[1;33m\u001b[0m\u001b[0m\n",
      "\u001b[1;32m~\\AppData\\Local\\Continuum\\anaconda3\\lib\\site-packages\\networkx\\algorithms\\clique.py\u001b[0m in \u001b[0;36mnode_clique_number\u001b[1;34m(G, nodes, cliques)\u001b[0m\n\u001b[0;32m    473\u001b[0m                     \u001b[0md\u001b[0m\u001b[1;33m[\u001b[0m\u001b[0mn\u001b[0m\u001b[1;33m]\u001b[0m \u001b[1;33m=\u001b[0m \u001b[0mmax\u001b[0m\u001b[1;33m(\u001b[0m\u001b[1;33m(\u001b[0m\u001b[0mlen\u001b[0m\u001b[1;33m(\u001b[0m\u001b[0mc\u001b[0m\u001b[1;33m)\u001b[0m \u001b[1;32mfor\u001b[0m \u001b[0mc\u001b[0m \u001b[1;32min\u001b[0m \u001b[0mfind_cliques\u001b[0m\u001b[1;33m(\u001b[0m\u001b[0mH\u001b[0m\u001b[1;33m)\u001b[0m\u001b[1;33m)\u001b[0m\u001b[1;33m)\u001b[0m\u001b[1;33m\u001b[0m\u001b[0m\n\u001b[0;32m    474\u001b[0m             \u001b[1;32melse\u001b[0m\u001b[1;33m:\u001b[0m\u001b[1;33m\u001b[0m\u001b[0m\n\u001b[1;32m--> 475\u001b[1;33m                 \u001b[0mH\u001b[0m \u001b[1;33m=\u001b[0m \u001b[0mnetworkx\u001b[0m\u001b[1;33m.\u001b[0m\u001b[0mego_graph\u001b[0m\u001b[1;33m(\u001b[0m\u001b[0mG\u001b[0m\u001b[1;33m,\u001b[0m \u001b[0mnodes\u001b[0m\u001b[1;33m)\u001b[0m\u001b[1;33m\u001b[0m\u001b[0m\n\u001b[0m\u001b[0;32m    476\u001b[0m                 \u001b[0md\u001b[0m \u001b[1;33m=\u001b[0m \u001b[0mmax\u001b[0m\u001b[1;33m(\u001b[0m\u001b[1;33m(\u001b[0m\u001b[0mlen\u001b[0m\u001b[1;33m(\u001b[0m\u001b[0mc\u001b[0m\u001b[1;33m)\u001b[0m \u001b[1;32mfor\u001b[0m \u001b[0mc\u001b[0m \u001b[1;32min\u001b[0m \u001b[0mfind_cliques\u001b[0m\u001b[1;33m(\u001b[0m\u001b[0mH\u001b[0m\u001b[1;33m)\u001b[0m\u001b[1;33m)\u001b[0m\u001b[1;33m)\u001b[0m\u001b[1;33m\u001b[0m\u001b[0m\n\u001b[0;32m    477\u001b[0m             \u001b[1;32mreturn\u001b[0m \u001b[0md\u001b[0m\u001b[1;33m\u001b[0m\u001b[0m\n",
      "\u001b[1;32m~\\AppData\\Local\\Continuum\\anaconda3\\lib\\site-packages\\networkx\\generators\\ego.py\u001b[0m in \u001b[0;36mego_graph\u001b[1;34m(G, n, radius, center, undirected, distance)\u001b[0m\n\u001b[0;32m     66\u001b[0m             \u001b[0msp\u001b[0m \u001b[1;33m=\u001b[0m \u001b[0mdict\u001b[0m\u001b[1;33m(\u001b[0m\u001b[0mnx\u001b[0m\u001b[1;33m.\u001b[0m\u001b[0msingle_source_shortest_path_length\u001b[0m\u001b[1;33m(\u001b[0m\u001b[0mG\u001b[0m\u001b[1;33m,\u001b[0m \u001b[0mn\u001b[0m\u001b[1;33m,\u001b[0m \u001b[0mcutoff\u001b[0m\u001b[1;33m=\u001b[0m\u001b[0mradius\u001b[0m\u001b[1;33m)\u001b[0m\u001b[1;33m)\u001b[0m\u001b[1;33m\u001b[0m\u001b[0m\n\u001b[0;32m     67\u001b[0m \u001b[1;33m\u001b[0m\u001b[0m\n\u001b[1;32m---> 68\u001b[1;33m     \u001b[0mH\u001b[0m \u001b[1;33m=\u001b[0m \u001b[0mG\u001b[0m\u001b[1;33m.\u001b[0m\u001b[0msubgraph\u001b[0m\u001b[1;33m(\u001b[0m\u001b[0msp\u001b[0m\u001b[1;33m)\u001b[0m\u001b[1;33m.\u001b[0m\u001b[0mcopy\u001b[0m\u001b[1;33m(\u001b[0m\u001b[1;33m)\u001b[0m\u001b[1;33m\u001b[0m\u001b[0m\n\u001b[0m\u001b[0;32m     69\u001b[0m     \u001b[1;32mif\u001b[0m \u001b[1;32mnot\u001b[0m \u001b[0mcenter\u001b[0m\u001b[1;33m:\u001b[0m\u001b[1;33m\u001b[0m\u001b[0m\n\u001b[0;32m     70\u001b[0m         \u001b[0mH\u001b[0m\u001b[1;33m.\u001b[0m\u001b[0mremove_node\u001b[0m\u001b[1;33m(\u001b[0m\u001b[0mn\u001b[0m\u001b[1;33m)\u001b[0m\u001b[1;33m\u001b[0m\u001b[0m\n",
      "\u001b[1;32m~\\AppData\\Local\\Continuum\\anaconda3\\lib\\site-packages\\networkx\\classes\\graph.py\u001b[0m in \u001b[0;36mcopy\u001b[1;34m(self, as_view)\u001b[0m\n\u001b[0;32m   1420\u001b[0m         \u001b[0mG\u001b[0m\u001b[1;33m.\u001b[0m\u001b[0madd_nodes_from\u001b[0m\u001b[1;33m(\u001b[0m\u001b[1;33m(\u001b[0m\u001b[0mn\u001b[0m\u001b[1;33m,\u001b[0m \u001b[0md\u001b[0m\u001b[1;33m.\u001b[0m\u001b[0mcopy\u001b[0m\u001b[1;33m(\u001b[0m\u001b[1;33m)\u001b[0m\u001b[1;33m)\u001b[0m \u001b[1;32mfor\u001b[0m \u001b[0mn\u001b[0m\u001b[1;33m,\u001b[0m \u001b[0md\u001b[0m \u001b[1;32min\u001b[0m \u001b[0mself\u001b[0m\u001b[1;33m.\u001b[0m\u001b[0m_node\u001b[0m\u001b[1;33m.\u001b[0m\u001b[0mitems\u001b[0m\u001b[1;33m(\u001b[0m\u001b[1;33m)\u001b[0m\u001b[1;33m)\u001b[0m\u001b[1;33m\u001b[0m\u001b[0m\n\u001b[0;32m   1421\u001b[0m         G.add_edges_from((u, v, datadict.copy())\n\u001b[1;32m-> 1422\u001b[1;33m                          \u001b[1;32mfor\u001b[0m \u001b[0mu\u001b[0m\u001b[1;33m,\u001b[0m \u001b[0mnbrs\u001b[0m \u001b[1;32min\u001b[0m \u001b[0mself\u001b[0m\u001b[1;33m.\u001b[0m\u001b[0m_adj\u001b[0m\u001b[1;33m.\u001b[0m\u001b[0mitems\u001b[0m\u001b[1;33m(\u001b[0m\u001b[1;33m)\u001b[0m\u001b[1;33m\u001b[0m\u001b[0m\n\u001b[0m\u001b[0;32m   1423\u001b[0m                          for v, datadict in nbrs.items())\n\u001b[0;32m   1424\u001b[0m         \u001b[1;32mreturn\u001b[0m \u001b[0mG\u001b[0m\u001b[1;33m\u001b[0m\u001b[0m\n",
      "\u001b[1;32m~\\AppData\\Local\\Continuum\\anaconda3\\lib\\site-packages\\networkx\\classes\\graph.py\u001b[0m in \u001b[0;36madd_edges_from\u001b[1;34m(self, ebunch_to_add, **attr)\u001b[0m\n\u001b[0;32m    924\u001b[0m         \"\"\"\n\u001b[0;32m    925\u001b[0m         \u001b[1;32mfor\u001b[0m \u001b[0me\u001b[0m \u001b[1;32min\u001b[0m \u001b[0mebunch_to_add\u001b[0m\u001b[1;33m:\u001b[0m\u001b[1;33m\u001b[0m\u001b[0m\n\u001b[1;32m--> 926\u001b[1;33m             \u001b[0mne\u001b[0m \u001b[1;33m=\u001b[0m \u001b[0mlen\u001b[0m\u001b[1;33m(\u001b[0m\u001b[0me\u001b[0m\u001b[1;33m)\u001b[0m\u001b[1;33m\u001b[0m\u001b[0m\n\u001b[0m\u001b[0;32m    927\u001b[0m             \u001b[1;32mif\u001b[0m \u001b[0mne\u001b[0m \u001b[1;33m==\u001b[0m \u001b[1;36m3\u001b[0m\u001b[1;33m:\u001b[0m\u001b[1;33m\u001b[0m\u001b[0m\n\u001b[0;32m    928\u001b[0m                 \u001b[0mu\u001b[0m\u001b[1;33m,\u001b[0m \u001b[0mv\u001b[0m\u001b[1;33m,\u001b[0m \u001b[0mdd\u001b[0m \u001b[1;33m=\u001b[0m \u001b[0me\u001b[0m\u001b[1;33m\u001b[0m\u001b[0m\n",
      "\u001b[1;31mKeyboardInterrupt\u001b[0m: "
     ]
    }
   ],
   "source": [
    "deg_dens_orig, clique_dens_orig = degree_clique_density_graph(g, deg_grid, clique_grid)"
   ]
  },
  {
   "cell_type": "code",
   "execution_count": null,
   "metadata": {},
   "outputs": [],
   "source": [
    "deg_df = pd.DataFrame({\n",
    "    'Truth': deg_dens_orig, \n",
    "    'RCC': deg_dens_rcc, \n",
    "    'BNPGraph': deg_dens_bnp}, index=deg_grid)\n",
    "maxclique_df = pd.DataFrame({\n",
    "    'Truth': clique_dens_orig, \n",
    "    'RCC': clique_dens_rcc,\n",
    "    'BNPGraph': clique_dens_bnp}, index=clique_grid)"
   ]
  },
  {
   "cell_type": "code",
   "execution_count": null,
   "metadata": {},
   "outputs": [],
   "source": [
    "style = ['b--','r-','c-.']\n",
    "deg_df.plot(style=style, markersize=5, linewidth=2, figsize = (6, 4))\n",
    "plt.legend(fontsize=14) # using a size in points\n",
    "plt.xlim(1, 45)\n",
    "plt.xlabel(\"Degree\", fontsize=14)\n",
    "# plt.ylabel(\"Density\")\n",
    "# plt.title(\"Degree distribution\")\n",
    "plt.savefig('arxiv_clique_init_degree_dist.png', format=\"PNG\")\n",
    "plt.show()"
   ]
  },
  {
   "cell_type": "code",
   "execution_count": null,
   "metadata": {},
   "outputs": [],
   "source": [
    "# style = ['b--','r-','c-.']\n",
    "# maxclique_df.plot(style=style, markersize=5, linewidth=2, figsize = (6, 4))\n",
    "# plt.legend(fontsize=14) # using a size in points\n",
    "# plt.xlim(2, 15)\n",
    "# plt.xlabel(\"Maximal clique size per node\", fontsize=14)\n",
    "# # plt.ylabel(\"Density\")\n",
    "# # plt.title(\"Degree distribution\")\n",
    "# plt.savefig('arxiv_clique_init_maximal_clique_dist.png', format=\"PNG\")\n",
    "# plt.show()"
   ]
  },
  {
   "cell_type": "code",
   "execution_count": 81,
   "metadata": {},
   "outputs": [],
   "source": [
    "def fit_count(x, grid):\n",
    "    cnt = Counter(x)\n",
    "    d = np.array([cnt[y] for y in grid]) / len(x)\n",
    "    return d\n",
    "\n",
    "def clique_density_runs(path, clique_grid, n = 25, offset=0):\n",
    "    counts = np.zeros((len(clique_grid), n))\n",
    "    \n",
    "    for k in range(n):\n",
    "        links = np.genfromtxt(path + '{}.tsv'.format(k + offset), delimiter='\\t', dtype=int)\n",
    "        g = nx.Graph()\n",
    "        g.add_edges_from(links - 1)\n",
    "\n",
    "        clique = np.array([nx.node_clique_number(g, i) for i in g.nodes()], dtype=float)    \n",
    "        counts[:,k] = fit_count(clique, clique_grid)\n",
    "    \n",
    "    means = np.mean(counts, 1)\n",
    "    std = np.std(counts, 1)\n",
    "        \n",
    "    return means, std\n",
    "\n",
    "def clique_density_graph(g, clique_grid, n = 25, offset=0):\n",
    "    clique = [nx.node_clique_number(g, i) for i in g.nodes()]\n",
    "    counts = fit_count(clique, clique_grid)\n",
    "    \n",
    "    return counts"
   ]
  },
  {
   "cell_type": "code",
   "execution_count": 85,
   "metadata": {},
   "outputs": [],
   "source": [
    "clique_grid = np.arange(2, 10)\n",
    "clique_means_rcc, clique_std_rcc = clique_density_runs('rcc_runs_clique_init/', clique_grid)\n",
    "clique_means_bnp, clique_std_bnp = clique_density_runs('bnpgraph_runs/arxiv_', clique_grid, offset=1)\n",
    "clique = clique_density_graph(g, clique_grid)\n",
    "df = pd.DataFrame({'Truth': clique, 'RCC': clique_means_rcc, 'BNPGraph': clique_means_bnp}, index=clique_grid)"
   ]
  },
  {
   "cell_type": "code",
   "execution_count": 109,
   "metadata": {},
   "outputs": [
    {
     "data": {
      "image/png": "[encoded data removed]",
      "text/plain": [
       "<Figure size 432x288 with 1 Axes>"
      ]
     },
     "metadata": {},
     "output_type": "display_data"
    }
   ],
   "source": [
    "style = ['b','r','c']\n",
    "df.plot.bar(width=.8, figsize=(6,4), alpha=0.7, rot=0, color=style, edgecolor = 'black')\n",
    "plt.legend(fontsize=14)\n",
    "plt.xlabel('Maximal clique size per node', fontsize=14)\n",
    "plt.savefig('arxiv_clique_init_maximal_clique_dist.png', format=\"PNG\")"
   ]
  },
  {
   "cell_type": "code",
   "execution_count": null,
   "metadata": {},
   "outputs": [],
   "source": []
  }
 ],
 "metadata": {
  "kernelspec": {
   "display_name": "Python 3",
   "language": "python",
   "name": "python3"
  },
  "language_info": {
   "codemirror_mode": {
    "name": "ipython",
    "version": 3
   },
   "file_extension": ".py",
   "mimetype": "text/x-python",
   "name": "python",
   "nbconvert_exporter": "python",
   "pygments_lexer": "ipython3",
   "version": "3.6.5"
  }
 },
 "nbformat": 4,
 "nbformat_minor": 2
}
