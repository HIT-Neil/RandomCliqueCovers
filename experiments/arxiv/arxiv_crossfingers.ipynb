{
 "cells": [
  {
   "cell_type": "code",
   "execution_count": null,
   "metadata": {},
   "outputs": [],
   "source": [
    "import numpy as np\n",
    "import networkx as nx\n",
    "from scipy.special import gammaln\n",
    "import matplotlib.pyplot as plt\n",
    "import pdb\n",
    "import importlib"
   ]
  },
  {
   "cell_type": "code",
   "execution_count": null,
   "metadata": {},
   "outputs": [],
   "source": [
    "import optim\n",
    "import sparsedense as spd"
   ]
  },
  {
   "cell_type": "code",
   "execution_count": null,
   "metadata": {},
   "outputs": [],
   "source": [
    "importlib.reload(optim)\n",
    "importlib.reload(spd)"
   ]
  },
  {
   "cell_type": "code",
   "execution_count": null,
   "metadata": {},
   "outputs": [],
   "source": [
    "links = np.genfromtxt('nips.tsv', delimiter='\\t', dtype=int)\n",
    "g = nx.Graph()\n",
    "g.add_edges_from(links)\n",
    "net = nx.adjacency_matrix(g).toarray().astype(int)\n",
    "for i in range(net.shape[0]):\n",
    "    net[i, i] = 1"
   ]
  },
  {
   "cell_type": "code",
   "execution_count": null,
   "metadata": {},
   "outputs": [],
   "source": [
    "alpha0 = 3.\n",
    "sigma0 = .5\n",
    "c0 = 20.\n",
    "lamb0 = 800.\n",
    "\n",
    "model = spd.NetworkFull(net, links, alpha=alpha0, sigma=sigma0, c=c0, lamb=lamb0)"
   ]
  },
  {
   "cell_type": "code",
   "execution_count": null,
   "metadata": {},
   "outputs": [],
   "source": [
    "model.clique_init()"
   ]
  },
  {
   "cell_type": "code",
   "execution_count": null,
   "metadata": {},
   "outputs": [],
   "source": [
    "Z = model.Z\n",
    "print(Z.shape)\n",
    "plt.imshow(Z, aspect = 'auto')\n",
    "plt.show()"
   ]
  },
  {
   "cell_type": "code",
   "execution_count": null,
   "metadata": {},
   "outputs": [
    {
     "name": "stdout",
     "output_type": "stream",
     "text": [
      "iter      0: alpha:      3.000, sigma: 0.500, c:   20.000, ll: -16787.193, grad:    584.003,   7268.893,     43.934, step: 5.497558138880005e-05\n",
      "iter      1: alpha:      3.032, sigma: 0.900, c:   20.002, ll: -15784.473, grad:   -236.269,  -7077.227,     -3.778, step: 2.774390308685921e-05\n",
      "iter    101: alpha:      3.335, sigma: 0.784, c:   20.015, ll: -15452.727, grad:     39.943,   -221.685,      1.920, step: 3.9014347755443693e-05\n",
      "iter    201: alpha:      3.626, sigma: 0.764, c:   20.031, ll: -15440.977, grad:     22.814,    -54.700,      1.732, step: 5.486320097130238e-05\n",
      "iter    301: alpha:      3.781, sigma: 0.755, c:   20.045, ll: -15437.822, grad:     13.004,    -25.224,      1.506, step: 6.172028484874602e-05\n",
      "iter    401: alpha:      3.872, sigma: 0.750, c:   20.057, ll: -15436.774, grad:      7.545,    -16.680,      1.355, step: 5.5547521754014093e-05\n",
      "iter    501: alpha:      3.926, sigma: 0.747, c:   20.068, ll: -15436.393, grad:      4.675,     -8.324,      1.273, step: 6.249013554810568e-05\n",
      "iter    601: alpha:      3.959, sigma: 0.745, c:   20.078, ll: -15436.242, grad:      2.861,     -5.382,      1.217, step: 5.624037822048747e-05\n",
      "iter    701: alpha:      3.979, sigma: 0.744, c:   20.088, ll: -15436.178, grad:      1.731,     -4.172,      1.181, step: 6.326958876470556e-05\n",
      "iter    801: alpha:      3.992, sigma: 0.743, c:   20.098, ll: -15436.146, grad:      1.071,     -2.675,      1.160, step: 5.694187683818545e-05\n",
      "iter    901: alpha:      4.000, sigma: 0.743, c:   20.107, ll: -15436.128, grad:      0.625,     -2.409,      1.145, step: 6.405876427285647e-05\n",
      "iter   1001: alpha:      4.005, sigma: 0.743, c:   20.117, ll: -15436.114, grad:      0.344,     -2.234,      1.135, step: 5.7652125402562205e-05\n",
      "iter   1101: alpha:      4.008, sigma: 0.742, c:   20.126, ll: -15436.102, grad:      0.153,     -2.389,      1.128, step: 5.1886226672672966e-05\n",
      "iter   1201: alpha:      4.010, sigma: 0.742, c:   20.135, ll: -15436.091, grad:      0.060,     -1.958,      1.125, step: 5.8371233053628805e-05\n",
      "iter   1301: alpha:      4.011, sigma: 0.742, c:   20.144, ll: -15436.081, grad:     -0.007,     -1.836,      1.122, step: 6.566676874954813e-05\n",
      "iter   1401: alpha:      4.011, sigma: 0.742, c:   20.154, ll: -15436.070, grad:     -0.073,     -2.205,      1.119, step: 5.909931029272368e-05\n",
      "iter   1501: alpha:      4.011, sigma: 0.742, c:   20.163, ll: -15436.060, grad:     -0.114,     -2.421,      1.117, step: 5.3188675849071335e-05\n",
      "iter   1601: alpha:      4.011, sigma: 0.742, c:   20.172, ll: -15436.050, grad:     -0.100,     -1.798,      1.118, step: 5.9836468999493024e-05\n",
      "iter   1701: alpha:      4.011, sigma: 0.742, c:   20.181, ll: -15436.039, grad:     -0.111,     -1.775,      1.117, step: 6.731513738915169e-05\n",
      "iter   1801: alpha:      4.011, sigma: 0.742, c:   20.191, ll: -15436.029, grad:     -0.132,     -2.038,      1.116, step: 6.0582822449082224e-05\n",
      "iter   1901: alpha:      4.011, sigma: 0.742, c:   20.200, ll: -15436.019, grad:     -0.102,     -1.378,      1.117, step: 6.815477391583875e-05\n",
      "iter   2001: alpha:      4.011, sigma: 0.742, c:   20.209, ll: -15436.008, grad:     -0.137,     -1.981,      1.115, step: 6.133848532954202e-05\n",
      "iter   2101: alpha:      4.010, sigma: 0.742, c:   20.218, ll: -15435.998, grad:     -0.108,     -1.393,      1.116, step: 6.900488341375151e-05\n",
      "iter   2201: alpha:      4.010, sigma: 0.742, c:   20.227, ll: -15435.988, grad:     -0.156,     -2.277,      1.114, step: 4.968285900756265e-05\n",
      "iter   2301: alpha:      4.010, sigma: 0.742, c:   20.237, ll: -15435.977, grad:     -0.138,     -1.918,      1.114, step: 5.5892477211652694e-05\n",
      "iter   2401: alpha:      4.009, sigma: 0.742, c:   20.246, ll: -15435.967, grad:     -0.156,     -2.256,      1.113, step: 5.030256424461546e-05\n",
      "iter   2501: alpha:      4.009, sigma: 0.742, c:   20.255, ll: -15435.957, grad:     -0.160,     -2.330,      1.113, step: 5.6589636383483965e-05\n",
      "iter   2601: alpha:      4.009, sigma: 0.742, c:   20.264, ll: -15435.946, grad:     -0.113,     -1.425,      1.115, step: 6.366249900188186e-05\n",
      "iter   2701: alpha:      4.008, sigma: 0.742, c:   20.273, ll: -15435.936, grad:     -0.129,     -1.734,      1.114, step: 5.729549137513073e-05\n",
      "iter   2801: alpha:      4.008, sigma: 0.742, c:   20.282, ll: -15435.926, grad:     -0.145,     -2.041,      1.112, step: 5.156526029272958e-05\n",
      "iter   2901: alpha:      4.008, sigma: 0.742, c:   20.292, ll: -15435.916, grad:     -0.122,     -1.603,      1.113, step: 5.801015065146747e-05\n",
      "iter   3001: alpha:      4.008, sigma: 0.742, c:   20.301, ll: -15435.905, grad:     -0.121,     -1.588,      1.113, step: 6.526055641923008e-05\n",
      "iter   3101: alpha:      4.007, sigma: 0.742, c:   20.310, ll: -15435.895, grad:     -0.139,     -1.931,      1.112, step: 5.873372403027548e-05\n",
      "iter   3201: alpha:      4.007, sigma: 0.742, c:   20.319, ll: -15435.885, grad:     -0.154,     -2.198,      1.111, step: 5.2859652564164614e-05\n",
      "iter   3301: alpha:      4.007, sigma: 0.742, c:   20.329, ll: -15435.874, grad:     -0.149,     -2.111,      1.111, step: 5.946632269911702e-05\n",
      "iter   3401: alpha:      4.006, sigma: 0.742, c:   20.338, ll: -15435.864, grad:     -0.115,     -1.463,      1.112, step: 6.689872830819292e-05\n",
      "iter   3501: alpha:      4.006, sigma: 0.742, c:   20.347, ll: -15435.854, grad:     -0.159,     -2.309,      1.109, step: 4.81664473859373e-05\n",
      "iter   3601: alpha:      4.006, sigma: 0.742, c:   20.356, ll: -15435.844, grad:     -0.135,     -1.850,      1.110, step: 5.41865366981996e-05\n",
      "iter   3701: alpha:      4.005, sigma: 0.742, c:   20.365, ll: -15435.833, grad:     -0.152,     -2.174,      1.109, step: 6.095904760878399e-05\n",
      "iter   3801: alpha:      4.005, sigma: 0.742, c:   20.374, ll: -15435.823, grad:     -0.122,     -1.600,      1.110, step: 6.857802162309907e-05\n",
      "iter   3901: alpha:      4.005, sigma: 0.742, c:   20.384, ll: -15435.813, grad:     -0.149,     -2.120,      1.109, step: 6.171940322847922e-05\n",
      "iter   4001: alpha:      4.004, sigma: 0.742, c:   20.393, ll: -15435.803, grad:     -0.131,     -1.782,      1.109, step: 5.5546728306267264e-05\n",
      "iter   4101: alpha:      4.004, sigma: 0.742, c:   20.402, ll: -15435.792, grad:     -0.137,     -1.879,      1.109, step: 6.248924293119532e-05\n",
      "iter   4201: alpha:      4.004, sigma: 0.742, c:   20.411, ll: -15435.782, grad:     -0.144,     -2.011,      1.108, step: 5.623957487589219e-05\n",
      "iter   4301: alpha:      4.003, sigma: 0.742, c:   20.420, ll: -15435.772, grad:     -0.121,     -1.575,      1.109, step: 6.326868501398764e-05\n",
      "iter   4401: alpha:      4.003, sigma: 0.742, c:   20.429, ll: -15435.762, grad:     -0.128,     -1.714,      1.108, step: 5.694106347329579e-05\n",
      "iter   4501: alpha:      4.003, sigma: 0.742, c:   20.439, ll: -15435.752, grad:     -0.116,     -1.495,      1.108, step: 6.40578492494567e-05\n",
      "iter   4601: alpha:      4.003, sigma: 0.742, c:   20.448, ll: -15435.741, grad:     -0.142,     -1.987,      1.107, step: 5.765130189239312e-05\n",
      "iter   4701: alpha:      4.002, sigma: 0.742, c:   20.457, ll: -15435.731, grad:     -0.150,     -2.139,      1.106, step: 5.188548552332237e-05\n",
      "iter   4801: alpha:      4.002, sigma: 0.742, c:   20.466, ll: -15435.721, grad:     -0.124,     -1.643,      1.107, step: 5.83703992716361e-05\n",
      "iter   4901: alpha:      4.002, sigma: 0.742, c:   20.475, ll: -15435.711, grad:     -0.129,     -1.743,      1.106, step: 6.566583075721115e-05\n",
      "iter   5001: alpha:      4.001, sigma: 0.742, c:   20.484, ll: -15435.701, grad:     -0.147,     -2.078,      1.105, step: 5.9098466110784615e-05\n",
      "iter   5101: alpha:      4.001, sigma: 0.742, c:   20.494, ll: -15435.690, grad:     -0.152,     -2.175,      1.105, step: 5.318791609537384e-05\n",
      "iter   5201: alpha:      4.001, sigma: 0.742, c:   20.503, ll: -15435.680, grad:     -0.143,     -2.004,      1.105, step: 5.9835614287886866e-05\n",
      "iter   5301: alpha:      4.000, sigma: 0.742, c:   20.512, ll: -15435.670, grad:     -0.136,     -1.866,      1.105, step: 5.38513406810488e-05\n",
      "iter   5401: alpha:      4.000, sigma: 0.742, c:   20.521, ll: -15435.660, grad:     -0.155,     -2.229,      1.104, step: 6.058195707646995e-05\n",
      "iter   5501: alpha:      4.000, sigma: 0.742, c:   20.530, ll: -15435.650, grad:     -0.148,     -2.098,      1.104, step: 5.452304030761986e-05\n",
      "iter   5601: alpha:      3.999, sigma: 0.742, c:   20.540, ll: -15435.639, grad:     -0.128,     -1.726,      1.104, step: 6.133760916294678e-05\n",
      "iter   5701: alpha:      3.999, sigma: 0.742, c:   20.549, ll: -15435.629, grad:     -0.115,     -1.468,      1.105, step: 6.900389773936763e-05\n",
      "iter   5801: alpha:      3.999, sigma: 0.742, c:   20.558, ll: -15435.619, grad:     -0.117,     -1.511,      1.104, step: 6.210268666423973e-05\n",
      "iter   5901: alpha:      3.999, sigma: 0.742, c:   20.567, ll: -15435.609, grad:     -0.138,     -1.916,      1.103, step: 5.589167883651898e-05\n",
      "iter   6001: alpha:      3.998, sigma: 0.742, c:   20.576, ll: -15435.599, grad:     -0.111,     -1.407,      1.104, step: 7.85966339320275e-05\n",
      "iter   6101: alpha:      3.998, sigma: 0.742, c:   20.585, ll: -15435.589, grad:     -0.155,     -2.230,      1.101, step: 5.658882805004143e-05\n",
      "iter   6201: alpha:      3.998, sigma: 0.742, c:   20.595, ll: -15435.578, grad:     -0.144,     -2.021,      1.102, step: 5.092927171102811e-05\n",
      "iter   6301: alpha:      3.997, sigma: 0.742, c:   20.604, ll: -15435.568, grad:     -0.130,     -1.756,      1.102, step: 5.729467295916721e-05\n",
      "iter   6401: alpha:      3.997, sigma: 0.742, c:   20.613, ll: -15435.558, grad:     -0.135,     -1.858,      1.101, step: 6.445565466012925e-05\n",
      "iter   6501: alpha:      3.997, sigma: 0.742, c:   20.622, ll: -15435.548, grad:     -0.114,     -1.461,      1.102, step: 7.251165253402696e-05\n",
      "iter   6601: alpha:      3.996, sigma: 0.742, c:   20.631, ll: -15435.538, grad:     -0.118,     -1.532,      1.102, step: 6.525962422928147e-05\n",
      "iter   6701: alpha:      3.996, sigma: 0.742, c:   20.640, ll: -15435.528, grad:     -0.132,     -1.797,      1.101, step: 5.873288507041697e-05\n",
      "iter   6801: alpha:      3.996, sigma: 0.742, c:   20.650, ll: -15435.517, grad:     -0.131,     -1.776,      1.100, step: 6.607362188784697e-05\n",
      "iter   6901: alpha:      3.995, sigma: 0.742, c:   20.659, ll: -15435.507, grad:     -0.129,     -1.739,      1.100, step: 5.946547327472765e-05\n",
      "iter   7001: alpha:      3.995, sigma: 0.742, c:   20.668, ll: -15435.497, grad:     -0.152,     -2.173,      1.099, step: 5.351821817471402e-05\n",
      "iter   7101: alpha:      3.995, sigma: 0.742, c:   20.677, ll: -15435.487, grad:     -0.126,     -1.696,      1.100, step: 6.020719921297491e-05\n",
      "iter   7201: alpha:      3.995, sigma: 0.742, c:   20.686, ll: -15435.477, grad:     -0.125,     -1.675,      1.099, step: 6.773220336366721e-05\n",
      "iter   7301: alpha:      3.994, sigma: 0.742, c:   20.695, ll: -15435.467, grad:     -0.132,     -1.794,      1.099, step: 6.095817686212541e-05\n",
      "iter   7401: alpha:      3.994, sigma: 0.742, c:   20.704, ll: -15435.457, grad:     -0.107,     -1.329,      1.100, step: 6.857704204606302e-05\n",
      "iter   7501: alpha:      3.994, sigma: 0.742, c:   20.714, ll: -15435.447, grad:     -0.135,     -1.868,      1.098, step: 6.171852162080592e-05\n",
      "iter   7601: alpha:      3.993, sigma: 0.742, c:   20.723, ll: -15435.437, grad:     -0.110,     -1.383,      1.099, step: 6.943241858731797e-05\n",
      "iter   7701: alpha:      3.993, sigma: 0.742, c:   20.732, ll: -15435.426, grad:     -0.122,     -1.618,      1.098, step: 6.248835032703546e-05\n",
      "iter   7801: alpha:      3.993, sigma: 0.742, c:   20.741, ll: -15435.416, grad:     -0.143,     -2.008,      1.097, step: 5.623877154277232e-05\n",
      "iter   7901: alpha:      3.992, sigma: 0.742, c:   20.750, ll: -15435.406, grad:     -0.147,     -2.088,      1.096, step: 5.06142250209437e-05\n",
      "iter   8001: alpha:      3.992, sigma: 0.741, c:   20.759, ll: -15435.396, grad:     -0.144,     -2.027,      1.096, step: 5.694025012002532e-05\n",
      "iter   8101: alpha:      3.992, sigma: 0.741, c:   20.769, ll: -15435.386, grad:     -0.109,     -1.372,      1.097, step: 8.007116779891055e-05\n",
      "iter   8201: alpha:      3.992, sigma: 0.741, c:   20.778, ll: -15435.376, grad:     -0.120,     -1.586,      1.096, step: 7.206309799248539e-05\n",
      "iter   8301: alpha:      3.991, sigma: 0.741, c:   20.787, ll: -15435.366, grad:     -0.119,     -1.563,      1.096, step: 6.485593048069942e-05\n",
      "iter   8401: alpha:      3.991, sigma: 0.741, c:   20.796, ll: -15435.356, grad:     -0.119,     -1.561,      1.096, step: 7.296195687694307e-05\n",
      "iter   8501: alpha:      3.991, sigma: 0.741, c:   20.805, ll: -15435.346, grad:     -0.112,     -1.435,      1.096, step: 6.5664892778274e-05\n",
      "iter   8601: alpha:      3.990, sigma: 0.741, c:   20.815, ll: -15435.335, grad:     -0.152,     -2.185,      1.094, step: 5.909762194090541e-05\n",
      "iter   8701: alpha:      3.990, sigma: 0.741, c:   20.824, ll: -15435.325, grad:     -0.129,     -1.751,      1.094, step: 6.64839454406626e-05\n",
      "iter   8801: alpha:      3.990, sigma: 0.741, c:   20.833, ll: -15435.315, grad:     -0.142,     -2.005,      1.093, step: 5.983475958849091e-05\n",
      "iter   8901: alpha:      3.989, sigma: 0.741, c:   20.842, ll: -15435.305, grad:     -0.115,     -1.488,      1.095, step: 6.731321432720671e-05\n",
      "iter   9001: alpha:      3.989, sigma: 0.741, c:   20.851, ll: -15435.295, grad:     -0.143,     -2.023,      1.093, step: 6.058109171622035e-05\n",
      "iter   9101: alpha:      3.989, sigma: 0.741, c:   20.860, ll: -15435.285, grad:     -0.128,     -1.725,      1.093, step: 6.815282686711875e-05\n"
     ]
    }
   ],
   "source": [
    "est_alpha, est_sigma, est_c = optim.optimize_hypers(\n",
    "    model.Z, model.alpha, model.sigma, model.c, momentum = 0.25,\n",
    "    num_iters = 20000, print_every = 100, h = 1e-4)"
   ]
  },
  {
   "cell_type": "code",
   "execution_count": null,
   "metadata": {},
   "outputs": [],
   "source": []
  },
  {
   "cell_type": "code",
   "execution_count": null,
   "metadata": {},
   "outputs": [],
   "source": []
  }
 ],
 "metadata": {
  "kernelspec": {
   "display_name": "Python 3",
   "language": "python",
   "name": "python3"
  },
  "language_info": {
   "codemirror_mode": {
    "name": "ipython",
    "version": 3
   },
   "file_extension": ".py",
   "mimetype": "text/x-python",
   "name": "python",
   "nbconvert_exporter": "python",
   "pygments_lexer": "ipython3",
   "version": "3.6.5"
  }
 },
 "nbformat": 4,
 "nbformat_minor": 2
}
