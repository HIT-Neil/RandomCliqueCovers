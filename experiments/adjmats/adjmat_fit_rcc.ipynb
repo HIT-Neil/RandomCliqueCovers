{
 "cells": [
  {
   "cell_type": "code",
   "execution_count": 51,
   "metadata": {},
   "outputs": [],
   "source": [
    "import sys\n",
    "sys.path.append('../../sparsedense/')"
   ]
  },
  {
   "cell_type": "code",
   "execution_count": 52,
   "metadata": {},
   "outputs": [],
   "source": [
    "import numpy as np\n",
    "np.random.seed(179264)\n",
    "import matplotlib.pyplot as plt\n",
    "%matplotlib inline\n",
    "import networkx as nx\n",
    "import pickle"
   ]
  },
  {
   "cell_type": "code",
   "execution_count": 53,
   "metadata": {},
   "outputs": [],
   "source": [
    "import sparsedensefast as sd\n",
    "import helpertests as tst"
   ]
  },
  {
   "cell_type": "code",
   "execution_count": 54,
   "metadata": {},
   "outputs": [
    {
     "name": "stdout",
     "output_type": "stream",
     "text": [
      "Graph with 5241 nodes and 14484 edges\n"
     ]
    }
   ],
   "source": [
    "graphname = 'arxiv'\n",
    "filepath = '../../data/{}.tsv'.format(graphname)\n",
    "links = np.genfromtxt(filepath, delimiter='\\t', dtype=int)\n",
    "g = nx.Graph()\n",
    "g.add_edges_from(links)\n",
    "print(\"Graph with {} nodes and {} edges\".\n",
    "      format(g.number_of_nodes(), g.number_of_edges()))"
   ]
  },
  {
   "cell_type": "code",
   "execution_count": 55,
   "metadata": {},
   "outputs": [
    {
     "name": "stdout",
     "output_type": "stream",
     "text": [
      "- num nodes: 5241\n",
      "- num edges: 14484\n",
      "- edge node ratio: 2.76\n",
      "- density: 0.001055\n",
      "- mean degree: 5.53\n",
      "- clustering coefficient: 0.48\n",
      "- mean maximal clique containing node: 4.83\n",
      "- connected component sizes (top 5): [4158, 14, 12, 10, 9]\n",
      "- mean distance between nodes (largest conn. comp.): 6.05\n"
     ]
    }
   ],
   "source": [
    "tst.test_stats(g)"
   ]
  },
  {
   "cell_type": "code",
   "execution_count": 56,
   "metadata": {},
   "outputs": [],
   "source": [
    "model = sd.NetworkFull(links=links, alpha=5, sigma=0.9, c=10.0, lamb=100)"
   ]
  },
  {
   "cell_type": "code",
   "execution_count": 57,
   "metadata": {},
   "outputs": [
    {
     "name": "stdout",
     "output_type": "stream",
     "text": [
      "iter:  0    number of cliques: 14484\n",
      "iter:  1    number of cliques:  5735\n",
      "iter:  2    number of cliques:  4708\n",
      "iter:  3    number of cliques:  4301\n",
      "iter:  4    number of cliques:  4126\n",
      "iter:  5    number of cliques:  4004\n",
      "iter:  6    number of cliques:  3942\n",
      "iter:  7    number of cliques:  3899\n",
      "iter:  8    number of cliques:  3880\n",
      "iter:  9    number of cliques:  3856\n",
      "iter: 10    number of cliques:  3844\n",
      "iter: 11    number of cliques:  3837\n",
      "iter: 12    number of cliques:  3823\n",
      "iter: 13    number of cliques:  3812\n",
      "iter: 14    number of cliques:  3808\n",
      "iter: 15    number of cliques:  3806\n",
      "iter: 16    number of cliques:  3799\n",
      "iter: 17    number of cliques:  3797\n",
      "iter: 18    number of cliques:  3794\n",
      "iter: 19    number of cliques:  3790\n",
      "iter: 20    number of cliques:  3789\n"
     ]
    }
   ],
   "source": [
    "# We first run several rounds of split merge / expect 20 minutes\n",
    "print(\"iter: {:2d}    number of cliques: {:5d}\".format(0, model.num_cliques))\n",
    "for i in range(20):\n",
    "    model.splitmerge(N=50000)\n",
    "    print(\"iter: {:2d}    number of cliques: {:5d}\".format(i+1, model.num_cliques))"
   ]
  },
  {
   "cell_type": "code",
   "execution_count": 58,
   "metadata": {},
   "outputs": [],
   "source": [
    "# with open('arxiv_after_splitmerge.pkl', 'wb') as fn:\n",
    "#     pickle.dump(model, fn)"
   ]
  },
  {
   "cell_type": "code",
   "execution_count": 59,
   "metadata": {},
   "outputs": [
    {
     "name": "stdout",
     "output_type": "stream",
     "text": [
      "iter:     0, K:  3789, alpha:    3.064, sigma: 0.417, c:  450.289, lamb:  1893, lp:   -51771.075\n",
      "writing to file...\n",
      "done!\n",
      "iter:     1, K:  3789, alpha:    3.062, sigma: 0.407, c:  450.578, lamb:  1928, lp:   -51774.898\n",
      "writing to file...\n",
      "done!\n",
      "iter:     2, K:  3789, alpha:    3.068, sigma: 0.454, c:  450.865, lamb:  1926, lp:   -51771.930\n",
      "writing to file...\n",
      "done!\n",
      "iter:     3, K:  3788, alpha:    3.069, sigma: 0.458, c:  451.148, lamb:  1948, lp:   -51758.288\n",
      "writing to file...\n",
      "done!\n",
      "iter:     4, K:  3788, alpha:    3.068, sigma: 0.457, c:  451.427, lamb:  1938, lp:   -51757.891\n",
      "writing to file...\n",
      "done!\n",
      "iter:     5, K:  3788, alpha:    3.068, sigma: 0.455, c:  451.704, lamb:  1932, lp:   -51757.102\n",
      "writing to file...\n",
      "done!\n",
      "iter:     6, K:  3787, alpha:    3.062, sigma: 0.409, c:  451.980, lamb:  1899, lp:   -51748.762\n",
      "writing to file...\n",
      "done!\n",
      "iter:     7, K:  3786, alpha:    3.063, sigma: 0.408, c:  452.255, lamb:  1888, lp:   -51734.717\n",
      "writing to file...\n",
      "done!\n",
      "iter:     8, K:  3786, alpha:    3.068, sigma: 0.457, c:  452.527, lamb:  1869, lp:   -51734.055\n",
      "writing to file...\n",
      "done!\n",
      "iter:     9, K:  3786, alpha:    3.064, sigma: 0.425, c:  452.796, lamb:  1842, lp:   -51729.622\n",
      "writing to file...\n",
      "done!\n",
      "iter:    10, K:  3786, alpha:    3.068, sigma: 0.458, c:  453.062, lamb:  1920, lp:   -51734.437\n",
      "writing to file...\n",
      "done!\n",
      "iter:    11, K:  3786, alpha:    3.066, sigma: 0.439, c:  453.329, lamb:  1895, lp:   -51729.207\n",
      "writing to file...\n",
      "done!\n",
      "iter:    12, K:  3786, alpha:    3.062, sigma: 0.416, c:  453.713, lamb:  1905, lp:   -51731.478\n",
      "writing to file...\n",
      "done!\n",
      "iter:    13, K:  3787, alpha:    3.063, sigma: 0.423, c:  453.980, lamb:  1897, lp:   -51747.979\n",
      "writing to file...\n",
      "done!\n",
      "iter:    14, K:  3786, alpha:    3.066, sigma: 0.453, c:  454.354, lamb:  1950, lp:   -51732.776\n",
      "writing to file...\n",
      "done!\n",
      "iter:    15, K:  3786, alpha:    3.062, sigma: 0.425, c:  454.675, lamb:  1869, lp:   -51729.239\n",
      "writing to file...\n",
      "done!\n",
      "iter:    16, K:  3787, alpha:    3.064, sigma: 0.440, c:  455.031, lamb:  1911, lp:   -51747.584\n",
      "writing to file...\n",
      "done!\n",
      "iter:    17, K:  3786, alpha:    3.064, sigma: 0.442, c:  455.390, lamb:  1920, lp:   -51729.612\n",
      "writing to file...\n",
      "done!\n",
      "iter:    18, K:  3787, alpha:    3.066, sigma: 0.462, c:  455.744, lamb:  1929, lp:   -51755.527\n",
      "writing to file...\n",
      "done!\n",
      "iter:    19, K:  3787, alpha:    3.064, sigma: 0.452, c:  456.078, lamb:  1922, lp:   -51750.656\n",
      "writing to file...\n",
      "done!\n"
     ]
    }
   ],
   "source": [
    "# Now optimise / split alternating / expect 40 mins / \n",
    "# (if you start from model.c=0 expect 4-5 hours and 200 iters, since c moves slowly at the end)\n",
    "model.c = 450\n",
    "model.fit(num_iters=20, num_sm=10000,\n",
    "          num_optim=10000, save_every=1, \n",
    "          optim_momentum=0.5, optim_backtracktol=10,\n",
    "          write_every=1, filename='arxiv_after_optim.pkl')"
   ]
  },
  {
   "cell_type": "code",
   "execution_count": 60,
   "metadata": {},
   "outputs": [
    {
     "name": "stdout",
     "output_type": "stream",
     "text": [
      "Number of links: 17283\n",
      "Number of nodes: 5430\n"
     ]
    }
   ],
   "source": [
    "Z_hat = sd.sample_from_ibp(model.num_cliques, model.alpha, model.sigma, model.c)\n",
    "\n",
    "links_hat = []\n",
    "adj_hat = Z_hat.transpose() * Z_hat\n",
    "g_hat = nx.from_scipy_sparse_matrix(adj_hat)\n",
    "for n in g_hat.nodes():\n",
    "    g_hat.remove_edge(n, n)\n",
    "print(\"Number of links:\", g_hat.number_of_edges())\n",
    "print(\"Number of nodes:\", g_hat.number_of_nodes())"
   ]
  },
  {
   "cell_type": "code",
   "execution_count": 61,
   "metadata": {},
   "outputs": [
    {
     "name": "stdout",
     "output_type": "stream",
     "text": [
      "- num nodes: 5430\n",
      "- num edges: 17283\n",
      "- edge node ratio: 3.18\n",
      "- density: 0.001173\n",
      "- mean degree: 6.37\n",
      "- clustering coefficient: 0.67\n",
      "- mean maximal clique containing node: 4.62\n",
      "- connected component sizes (top 5): [4974, 5, 5, 4, 4]\n",
      "- mean distance between nodes (largest conn. comp.): 4.32\n"
     ]
    }
   ],
   "source": [
    "tst.test_stats(g_hat)"
   ]
  },
  {
   "cell_type": "code",
   "execution_count": 62,
   "metadata": {},
   "outputs": [
    {
     "data": {
      "text/plain": [
       "<matplotlib.image.AxesImage at 0x224b7a20048>"
      ]
     },
     "execution_count": 62,
     "metadata": {},
     "output_type": "execute_result"
    },
    {
     "data": {
      "image/png": "[encoded data removed]",
      "text/plain": [
       "<Figure size 432x288 with 1 Axes>"
      ]
     },
     "metadata": {},
     "output_type": "display_data"
    }
   ],
   "source": [
    "adj = nx.adjacency_matrix(g)\n",
    "plt.imshow(adj.todense()[:100, :100])"
   ]
  },
  {
   "cell_type": "code",
   "execution_count": 63,
   "metadata": {},
   "outputs": [
    {
     "data": {
      "text/plain": [
       "<matplotlib.image.AxesImage at 0x224b7ddda58>"
      ]
     },
     "execution_count": 63,
     "metadata": {},
     "output_type": "execute_result"
    },
    {
     "data": {
      "image/png": "[encoded data removed]",
      "text/plain": [
       "<Figure size 432x288 with 1 Axes>"
      ]
     },
     "metadata": {},
     "output_type": "display_data"
    }
   ],
   "source": [
    "adj_hat = nx.adjacency_matrix(g_hat)\n",
    "plt.imshow(adj_hat.todense()[:100, :100])"
   ]
  }
 ],
 "metadata": {
  "kernelspec": {
   "display_name": "Python 3",
   "language": "python",
   "name": "python3"
  },
  "language_info": {
   "codemirror_mode": {
    "name": "ipython",
    "version": 3
   },
   "file_extension": ".py",
   "mimetype": "text/x-python",
   "name": "python",
   "nbconvert_exporter": "python",
   "pygments_lexer": "ipython3",
   "version": "3.6.5"
  }
 },
 "nbformat": 4,
 "nbformat_minor": 2
}
