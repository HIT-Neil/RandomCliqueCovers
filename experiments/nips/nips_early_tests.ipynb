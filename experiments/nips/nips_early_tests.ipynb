{
 "cells": [
  {
   "cell_type": "code",
   "execution_count": 1,
   "metadata": {},
   "outputs": [],
   "source": [
    "import sys\n",
    "sys.path.append('./../')"
   ]
  },
  {
   "cell_type": "code",
   "execution_count": 2,
   "metadata": {},
   "outputs": [],
   "source": [
    "import numpy as np\n",
    "import networkx as nx\n",
    "import matplotlib.pyplot as plt"
   ]
  },
  {
   "cell_type": "code",
   "execution_count": 3,
   "metadata": {},
   "outputs": [],
   "source": [
    "import helpertests as tst\n",
    "import sparsedense as spd\n",
    "import optim"
   ]
  },
  {
   "cell_type": "code",
   "execution_count": 25,
   "metadata": {},
   "outputs": [
    {
     "name": "stdout",
     "output_type": "stream",
     "text": [
      "- num nodes: 2624\n",
      "- num edges: 6401\n",
      "- edge node ratio: 2.44\n",
      "- density: 0.001860\n",
      "- mean degree: 4.88\n",
      "- mean maximal clique containing node: 4.38\n",
      "- clustering coefficient: 0.71\n",
      "- connected component sizes (top 5): [2222, 6, 6, 6, 6]\n",
      "- mean distance between nodes (largest conn. comp.): 4.89\n"
     ]
    }
   ],
   "source": [
    "Z = optim.sample_from_ibp(1572, alpha=2.81, sigma=0.588, c=275)\n",
    "net = Z.transpose() @ Z\n",
    "K, N = Z.shape\n",
    "links = []\n",
    "for i in range(N - 1):\n",
    "    for j in range(i + 1, N):\n",
    "        if net[i, j] >= 1:\n",
    "            links.append([i, j])\n",
    "\n",
    "g = nx.Graph()\n",
    "g.add_edges_from(links)\n",
    "tst.test_stats(g)"
   ]
  },
  {
   "cell_type": "code",
   "execution_count": 5,
   "metadata": {},
   "outputs": [
    {
     "name": "stdout",
     "output_type": "stream",
     "text": [
      "- num nodes: 2715\n",
      "- num edges: 4733\n",
      "- edge node ratio: 1.74\n",
      "- density: 0.001285\n",
      "- mean degree: 3.49\n",
      "- mean maximal clique containing node: 3.52\n",
      "- clustering coefficient: 0.60\n",
      "- connected component sizes (top 5): [1771, 37, 13, 12, 11]\n",
      "- mean distance between nodes (largest conn. comp.): 6.70\n"
     ]
    }
   ],
   "source": [
    "links_true = np.genfromtxt('nips.tsv', delimiter='\\t', dtype=int)\n",
    "g_true = nx.Graph()\n",
    "g_true.add_edges_from(links_true)\n",
    "tst.test_stats(g_true)"
   ]
  },
  {
   "cell_type": "code",
   "execution_count": 14,
   "metadata": {},
   "outputs": [
    {
     "data": {
      "text/plain": [
       "(0, 30)"
      ]
     },
     "execution_count": 14,
     "metadata": {},
     "output_type": "execute_result"
    },
    {
     "data": {
      "image/png": "[encoded data removed]",
      "text/plain": [
       "<Figure size 432x288 with 2 Axes>"
      ]
     },
     "metadata": {},
     "output_type": "display_data"
    }
   ],
   "source": [
    "fig, ax = plt.subplots(2, 1, sharex=True)\n",
    "\n",
    "deg = np.array([nx.degree(g, i) for i in g.nodes()])\n",
    "deg_true = np.array([nx.degree(g_true, i) for i in g_true.nodes()])\n",
    "\n",
    "ax[0].hist(deg, 100, density=True)\n",
    "ax[1].hist(deg_true, 40, density=True)\n",
    "\n",
    "plt.xlim(0, 30)"
   ]
  },
  {
   "cell_type": "code",
   "execution_count": null,
   "metadata": {},
   "outputs": [],
   "source": []
  },
  {
   "cell_type": "code",
   "execution_count": 23,
   "metadata": {},
   "outputs": [
    {
     "data": {
      "text/plain": [
       "352"
      ]
     },
     "execution_count": 23,
     "metadata": {},
     "output_type": "execute_result"
    }
   ],
   "source": [
    "len(deg[np.where(deg == 1)])"
   ]
  },
  {
   "cell_type": "code",
   "execution_count": 24,
   "metadata": {},
   "outputs": [
    {
     "data": {
      "text/plain": [
       "689"
      ]
     },
     "execution_count": 24,
     "metadata": {},
     "output_type": "execute_result"
    }
   ],
   "source": [
    "len(deg_true[np.where(deg_true == 1)])"
   ]
  },
  {
   "cell_type": "code",
   "execution_count": 20,
   "metadata": {},
   "outputs": [
    {
     "data": {
      "text/plain": [
       "(0, 15)"
      ]
     },
     "execution_count": 20,
     "metadata": {},
     "output_type": "execute_result"
    },
    {
     "data": {
      "image/png": "[encoded data removed]",
      "text/plain": [
       "<Figure size 432x288 with 2 Axes>"
      ]
     },
     "metadata": {},
     "output_type": "display_data"
    }
   ],
   "source": [
    "fig, ax = plt.subplots(2, 1, sharex=True)\n",
    "\n",
    "clique = np.array([nx.node_clique_number(g, i) for i in g.nodes()])\n",
    "clique_true = np.array([nx.node_clique_number(g_true, i) for i in g_true.nodes()])\n",
    "\n",
    "ax[0].hist(clique, 5, density=True)\n",
    "ax[1].hist(clique_true, 5, density=True)\n",
    "\n",
    "plt.xlim(0, 15)"
   ]
  },
  {
   "cell_type": "code",
   "execution_count": 21,
   "metadata": {},
   "outputs": [
    {
     "data": {
      "text/plain": [
       "(0, 5)"
      ]
     },
     "execution_count": 21,
     "metadata": {},
     "output_type": "execute_result"
    },
    {
     "data": {
      "image/png": "[encoded data removed]",
      "text/plain": [
       "<Figure size 432x288 with 2 Axes>"
      ]
     },
     "metadata": {},
     "output_type": "display_data"
    }
   ],
   "source": [
    "fig, ax = plt.subplots(2, 1, sharex=True)\n",
    "\n",
    "clustering = np.array([nx.clustering(g, i) for i in g.nodes()])\n",
    "clustering_true = np.array([nx.clustering(g_true, i) for i in g_true.nodes()])\n",
    "\n",
    "ax[0].hist(clustering, 5, density=True)\n",
    "ax[1].hist(clustering_true, 5, density=True)\n",
    "\n",
    "plt.xlim(0, 5)"
   ]
  },
  {
   "cell_type": "markdown",
   "metadata": {},
   "source": [
    "Tests"
   ]
  },
  {
   "cell_type": "code",
   "execution_count": null,
   "metadata": {},
   "outputs": [],
   "source": []
  },
  {
   "cell_type": "code",
   "execution_count": null,
   "metadata": {},
   "outputs": [],
   "source": [
    "for i in range(25)\n",
    "    Z = optim.sample_from_ibp(1572, alpha=2.78, sigma=0.575, c=250)\n",
    "    net = Z.transpose() @ Z\n",
    "    K, N = Z.shape\n",
    "    links = []\n",
    "    for i in range(N - 1):\n",
    "        for j in range(i + 1, N):\n",
    "            if net[i, j] >= 1:\n",
    "                links.append([i, j])"
   ]
  }
 ],
 "metadata": {
  "kernelspec": {
   "display_name": "Python 3",
   "language": "python",
   "name": "python3"
  },
  "language_info": {
   "codemirror_mode": {
    "name": "ipython",
    "version": 3
   },
   "file_extension": ".py",
   "mimetype": "text/x-python",
   "name": "python",
   "nbconvert_exporter": "python",
   "pygments_lexer": "ipython3",
   "version": "3.6.5"
  }
 },
 "nbformat": 4,
 "nbformat_minor": 2
}
