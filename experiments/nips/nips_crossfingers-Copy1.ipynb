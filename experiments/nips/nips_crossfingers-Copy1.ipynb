{
 "cells": [
  {
   "cell_type": "code",
   "execution_count": 46,
   "metadata": {},
   "outputs": [],
   "source": [
    "import numpy as np\n",
    "import networkx as nx\n",
    "from scipy.special import gammaln\n",
    "import matplotlib.pyplot as plt\n",
    "import pdb\n",
    "import importlib"
   ]
  },
  {
   "cell_type": "code",
   "execution_count": 47,
   "metadata": {},
   "outputs": [],
   "source": [
    "import optim\n",
    "import sparsedense as spd"
   ]
  },
  {
   "cell_type": "code",
   "execution_count": 48,
   "metadata": {},
   "outputs": [
    {
     "data": {
      "text/plain": [
       "<module 'sparsedense' from 'C:\\\\Github\\\\sparsedense3\\\\nips\\\\sparsedense.py'>"
      ]
     },
     "execution_count": 48,
     "metadata": {},
     "output_type": "execute_result"
    }
   ],
   "source": [
    "importlib.reload(optim)\n",
    "importlib.reload(spd)"
   ]
  },
  {
   "cell_type": "code",
   "execution_count": 49,
   "metadata": {},
   "outputs": [],
   "source": [
    "links = np.genfromtxt('nips.tsv', delimiter='\\t', dtype=int)\n",
    "g = nx.Graph()\n",
    "g.add_edges_from(links)\n",
    "net = nx.adjacency_matrix(g).toarray().astype(int)\n",
    "for i in range(net.shape[0]):\n",
    "    net[i, i] = 1"
   ]
  },
  {
   "cell_type": "code",
   "execution_count": 50,
   "metadata": {},
   "outputs": [],
   "source": [
    "alpha0 = 3.\n",
    "sigma0 = .95\n",
    "c0 = 25.\n",
    "lamb0 = 2000.\n",
    "\n",
    "model = spd.NetworkFull(net, links, alpha=alpha0, sigma=sigma0, c=c0, lamb=lamb0)"
   ]
  },
  {
   "cell_type": "code",
   "execution_count": 51,
   "metadata": {},
   "outputs": [],
   "source": [
    "model.clique_init()"
   ]
  },
  {
   "cell_type": "code",
   "execution_count": 52,
   "metadata": {},
   "outputs": [
    {
     "name": "stdout",
     "output_type": "stream",
     "text": [
      "(1589, 2715)\n"
     ]
    },
    {
     "data": {
      "image/png": "[encoded data removed]",
      "text/plain": [
       "<Figure size 432x288 with 1 Axes>"
      ]
     },
     "metadata": {},
     "output_type": "display_data"
    }
   ],
   "source": [
    "Z = model.Z\n",
    "print(Z.shape)\n",
    "plt.imshow(Z, aspect = 'auto')\n",
    "plt.show()"
   ]
  },
  {
   "cell_type": "code",
   "execution_count": null,
   "metadata": {},
   "outputs": [
    {
     "name": "stdout",
     "output_type": "stream",
     "text": [
      "iter      0: alpha:      3.000, sigma: 0.950, c:   25.000, ll: -16336.821, grad:   -449.340, -16118.759,     -3.102, step: 2.2517998136852506e-05\n",
      "iter      1: alpha:      2.990, sigma: 0.587, c:   25.000, ll: -16080.625, grad:    456.497,   5323.062,     22.775, step: 5.4187310716521876e-05\n",
      "iter    101: alpha:      3.315, sigma: 0.765, c:   25.012, ll: -15442.934, grad:     56.704,    183.271,      2.421, step: 4.876793469430461e-05\n",
      "iter    201: alpha:      3.498, sigma: 0.757, c:   25.021, ll: -15435.882, grad:     32.189,     75.186,      1.460, step: 5.4863200971302323e-05\n",
      "iter    301: alpha:      3.615, sigma: 0.751, c:   25.028, ll: -15433.183, grad:     20.969,     52.965,      1.488, step: 4.937622787899669e-05\n",
      "iter    401: alpha:      3.692, sigma: 0.747, c:   25.035, ll: -15432.006, grad:     14.102,     37.369,      1.218, step: 5.5547521754013877e-05\n",
      "iter    501: alpha:      3.744, sigma: 0.744, c:   25.042, ll: -15431.469, grad:     10.066,     33.664,      1.419, step: 4.9992108438484414e-05\n",
      "iter    601: alpha:      3.780, sigma: 0.742, c:   25.048, ll: -15431.204, grad:      6.745,     19.594,      1.304, step: 5.624037822048728e-05\n",
      "iter    701: alpha:      3.806, sigma: 0.741, c:   25.053, ll: -15431.076, grad:      4.886,     16.742,      1.208, step: 5.0615671011764235e-05\n",
      "iter    801: alpha:      3.823, sigma: 0.740, c:   25.059, ll: -15431.009, grad:      3.358,     10.556,      1.455, step: 4.555350147054805e-05\n",
      "iter    901: alpha:      3.836, sigma: 0.739, c:   25.065, ll: -15430.973, grad:      2.419,      8.456,      1.173, step: 5.1247011418284753e-05\n",
      "iter   1001: alpha:      3.844, sigma: 0.739, c:   25.070, ll: -15430.953, grad:      1.626,      4.543,      0.892, step: 5.765212540256168e-05\n",
      "iter   1101: alpha:      3.850, sigma: 0.738, c:   25.076, ll: -15430.940, grad:      1.252,      5.148,      0.910, step: 5.18862266726725e-05\n",
      "iter   1201: alpha:      3.855, sigma: 0.738, c:   25.081, ll: -15430.931, grad:      0.922,      4.212,      0.987, step: 4.669698644290263e-05\n",
      "iter   1301: alpha:      3.858, sigma: 0.738, c:   25.086, ll: -15430.924, grad:      0.636,      3.130,      1.362, step: 5.253341499963819e-05\n",
      "iter   1401: alpha:      3.860, sigma: 0.738, c:   25.092, ll: -15430.918, grad:      0.517,      3.237,      1.172, step: 5.9099310292723507e-05\n",
      "iter   1501: alpha:      3.861, sigma: 0.738, c:   25.097, ll: -15430.912, grad:      0.411,      3.293,      1.190, step: 5.3188675849071294e-05\n",
      "iter   1601: alpha:      3.863, sigma: 0.738, c:   25.102, ll: -15430.907, grad:      0.322,      2.838,      0.591, step: 4.786917519959442e-05\n",
      "iter   1701: alpha:      3.863, sigma: 0.738, c:   25.107, ll: -15430.902, grad:      0.292,      3.306,      0.713, step: 5.3852109911321335e-05\n",
      "iter   1801: alpha:      3.864, sigma: 0.737, c:   25.112, ll: -15430.897, grad:      0.215,      2.735,      1.192, step: 4.84662579592655e-05\n",
      "iter   1901: alpha:      3.864, sigma: 0.737, c:   25.118, ll: -15430.892, grad:      0.184,      2.617,      1.181, step: 5.452381913267082e-05\n",
      "iter   2001: alpha:      3.864, sigma: 0.737, c:   25.123, ll: -15430.887, grad:      0.191,      3.119,      0.672, step: 4.907078826363354e-05\n",
      "iter   2101: alpha:      3.864, sigma: 0.737, c:   25.128, ll: -15430.881, grad:      0.179,      2.858,      1.005, step: 5.5203906731001324e-05\n",
      "iter   2201: alpha:      3.864, sigma: 0.737, c:   25.134, ll: -15430.876, grad:      0.171,      3.033,      1.067, step: 4.968285900756282e-05\n",
      "iter   2301: alpha:      3.864, sigma: 0.737, c:   25.139, ll: -15430.871, grad:      0.207,      3.861,      0.877, step: 4.4713981769322405e-05\n",
      "iter   2401: alpha:      3.864, sigma: 0.737, c:   25.144, ll: -15430.866, grad:      0.148,      2.935,      1.009, step: 5.0302564244615895e-05\n",
      "iter   2501: alpha:      3.864, sigma: 0.737, c:   25.149, ll: -15430.861, grad:      0.154,      3.119,      1.257, step: 5.6589636383484304e-05\n",
      "iter   2601: alpha:      3.864, sigma: 0.737, c:   25.155, ll: -15430.856, grad:      0.145,      2.944,      0.782, step: 5.092999920150582e-05\n",
      "iter   2701: alpha:      3.864, sigma: 0.737, c:   25.160, ll: -15430.851, grad:      0.179,      3.429,      0.628, step: 5.7295491375131e-05\n",
      "iter   2801: alpha:      3.864, sigma: 0.737, c:   25.165, ll: -15430.846, grad:      0.113,      2.155,      0.881, step: 6.445657536591224e-05\n",
      "iter   2901: alpha:      3.864, sigma: 0.737, c:   25.171, ll: -15430.840, grad:      0.157,      3.304,      1.108, step: 4.640812052117426e-05\n",
      "iter   3001: alpha:      3.863, sigma: 0.737, c:   25.176, ll: -15430.835, grad:      0.149,      3.063,      0.952, step: 5.220844513538421e-05\n",
      "iter   3101: alpha:      3.863, sigma: 0.737, c:   25.181, ll: -15430.830, grad:      0.128,      2.595,      0.934, step: 5.873372403027579e-05\n",
      "iter   3201: alpha:      3.863, sigma: 0.737, c:   25.186, ll: -15430.825, grad:      0.161,      3.178,      0.913, step: 5.2859652564164885e-05\n",
      "iter   3301: alpha:      3.863, sigma: 0.737, c:   25.191, ll: -15430.820, grad:      0.090,      2.118,      1.068, step: 5.946632269911736e-05\n",
      "iter   3401: alpha:      3.863, sigma: 0.737, c:   25.196, ll: -15430.815, grad:      0.187,      3.893,      1.194, step: 5.3518982646554626e-05\n",
      "iter   3501: alpha:      3.863, sigma: 0.737, c:   25.201, ll: -15430.810, grad:      0.168,      3.561,      1.225, step: 4.8166447385937466e-05\n",
      "iter   3601: alpha:      3.863, sigma: 0.737, c:   25.207, ll: -15430.805, grad:      0.108,      2.260,      1.010, step: 5.4186536698199926e-05\n",
      "iter   3701: alpha:      3.863, sigma: 0.737, c:   25.212, ll: -15430.800, grad:      0.114,      2.665,      1.116, step: 4.876723808702746e-05\n",
      "iter   3801: alpha:      3.862, sigma: 0.737, c:   25.217, ll: -15430.795, grad:      0.143,      3.153,      1.162, step: 5.486241729847952e-05\n",
      "iter   3901: alpha:      3.862, sigma: 0.737, c:   25.222, ll: -15430.790, grad:      0.131,      2.681,      1.048, step: 6.171940322847944e-05\n",
      "iter   4001: alpha:      3.862, sigma: 0.737, c:   25.227, ll: -15430.785, grad:      0.148,      2.916,      0.708, step: 5.5546728306267535e-05\n",
      "iter   4101: alpha:      3.862, sigma: 0.737, c:   25.232, ll: -15430.780, grad:      0.138,      2.855,      0.791, step: 4.999139434495658e-05\n",
      "iter   4201: alpha:      3.862, sigma: 0.737, c:   25.238, ll: -15430.775, grad:      0.189,      3.733,      1.080, step: 5.623957487589247e-05\n",
      "iter   4301: alpha:      3.862, sigma: 0.737, c:   25.243, ll: -15430.770, grad:      0.122,      2.721,      0.997, step: 5.061494801119042e-05\n",
      "iter   4401: alpha:      3.862, sigma: 0.737, c:   25.248, ll: -15430.765, grad:      0.142,      2.984,      1.039, step: 5.6941063473296175e-05\n",
      "iter   4501: alpha:      3.862, sigma: 0.737, c:   25.253, ll: -15430.760, grad:      0.113,      2.509,      1.226, step: 5.124627939956572e-05\n",
      "iter   4601: alpha:      3.861, sigma: 0.737, c:   25.258, ll: -15430.755, grad:      0.165,      3.307,      0.950, step: 5.765130189239349e-05\n",
      "iter   4701: alpha:      3.861, sigma: 0.737, c:   25.264, ll: -15430.750, grad:      0.167,      3.357,      1.173, step: 5.188548552332275e-05\n",
      "iter   4801: alpha:      3.861, sigma: 0.737, c:   25.269, ll: -15430.745, grad:      0.173,      3.336,      1.017, step: 5.837039927163675e-05\n",
      "iter   4901: alpha:      3.861, sigma: 0.737, c:   25.274, ll: -15430.740, grad:      0.168,      3.332,      0.994, step: 5.2532664605769674e-05\n",
      "iter   5001: alpha:      3.861, sigma: 0.737, c:   25.279, ll: -15430.735, grad:      0.172,      3.324,      0.628, step: 4.727877288862844e-05\n",
      "iter   5101: alpha:      3.861, sigma: 0.737, c:   25.285, ll: -15430.730, grad:      0.177,      3.793,      0.865, step: 5.318791609537467e-05\n",
      "iter   5201: alpha:      3.861, sigma: 0.737, c:   25.290, ll: -15430.724, grad:      0.197,      4.067,      0.841, step: 4.7868491430310274e-05\n"
     ]
    }
   ],
   "source": [
    "est_alpha, est_sigma, est_c = optim.optimize_hypers(\n",
    "    model.Z, model.alpha, model.sigma, model.c, momentum = 0.,\n",
    "    num_iters = 20000, print_every = 100, h = 1e-8)"
   ]
  },
  {
   "cell_type": "code",
   "execution_count": null,
   "metadata": {},
   "outputs": [],
   "source": [
    "est_alpha, est_sigma, est_c = optim.optimize_hypers(\n",
    "    model.Z, model.alpha, model.sigma, model.c, momentum = 0.25,\n",
    "    num_iters = 20000, print_every = 100, h = 1e-4)"
   ]
  },
  {
   "cell_type": "code",
   "execution_count": null,
   "metadata": {},
   "outputs": [],
   "source": []
  },
  {
   "cell_type": "code",
   "execution_count": null,
   "metadata": {},
   "outputs": [],
   "source": []
  },
  {
   "cell_type": "code",
   "execution_count": null,
   "metadata": {},
   "outputs": [],
   "source": []
  },
  {
   "cell_type": "code",
   "execution_count": null,
   "metadata": {},
   "outputs": [],
   "source": []
  },
  {
   "cell_type": "code",
   "execution_count": null,
   "metadata": {},
   "outputs": [],
   "source": []
  }
 ],
 "metadata": {
  "kernelspec": {
   "display_name": "Python 3",
   "language": "python",
   "name": "python3"
  },
  "language_info": {
   "codemirror_mode": {
    "name": "ipython",
    "version": 3
   },
   "file_extension": ".py",
   "mimetype": "text/x-python",
   "name": "python",
   "nbconvert_exporter": "python",
   "pygments_lexer": "ipython3",
   "version": "3.6.5"
  }
 },
 "nbformat": 4,
 "nbformat_minor": 2
}
