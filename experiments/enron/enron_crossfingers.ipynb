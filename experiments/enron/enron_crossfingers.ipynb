{
 "cells": [
  {
   "cell_type": "code",
   "execution_count": 1,
   "metadata": {},
   "outputs": [],
   "source": [
    "import sys\n",
    "sys.path.append('./../')"
   ]
  },
  {
   "cell_type": "code",
   "execution_count": 2,
   "metadata": {},
   "outputs": [],
   "source": [
    "import numpy as np\n",
    "import networkx as nx\n",
    "from scipy.special import gammaln\n",
    "import matplotlib.pyplot as plt\n",
    "import pdb\n",
    "import importlib"
   ]
  },
  {
   "cell_type": "code",
   "execution_count": 3,
   "metadata": {},
   "outputs": [],
   "source": [
    "import optim\n",
    "import sparsedense as spd"
   ]
  },
  {
   "cell_type": "code",
   "execution_count": 4,
   "metadata": {},
   "outputs": [
    {
     "data": {
      "text/plain": [
       "<module 'sparsedense' from './..\\\\sparsedense.py'>"
      ]
     },
     "execution_count": 4,
     "metadata": {},
     "output_type": "execute_result"
    }
   ],
   "source": [
    "importlib.reload(optim)\n",
    "importlib.reload(spd)"
   ]
  },
  {
   "cell_type": "code",
   "execution_count": 5,
   "metadata": {},
   "outputs": [],
   "source": [
    "links = np.genfromtxt('enron.tsv', delimiter='\\t', dtype=int)\n",
    "g = nx.Graph()\n",
    "g.add_edges_from(links)\n",
    "net = nx.adjacency_matrix(g).toarray().astype(int)\n",
    "for i in range(net.shape[0]):\n",
    "    net[i, i] = 1"
   ]
  },
  {
   "cell_type": "code",
   "execution_count": 6,
   "metadata": {},
   "outputs": [],
   "source": [
    "alpha0 = 3.\n",
    "sigma0 = .5\n",
    "c0 = 20.\n",
    "lamb0 = 800.\n",
    "\n",
    "model = spd.NetworkFull(net, links, alpha=alpha0, sigma=sigma0, c=c0, lamb=lamb0)"
   ]
  },
  {
   "cell_type": "code",
   "execution_count": 7,
   "metadata": {},
   "outputs": [],
   "source": [
    "model.clique_init()"
   ]
  },
  {
   "cell_type": "code",
   "execution_count": 8,
   "metadata": {},
   "outputs": [
    {
     "name": "stdout",
     "output_type": "stream",
     "text": [
      "(2772, 1172)\n"
     ]
    },
    {
     "data": {
      "image/png": "[encoded data removed]",
      "text/plain": [
       "<Figure size 432x288 with 1 Axes>"
      ]
     },
     "metadata": {},
     "output_type": "display_data"
    }
   ],
   "source": [
    "Z = model.Z\n",
    "print(Z.shape)\n",
    "plt.imshow(Z, aspect = 'auto')\n",
    "plt.show()"
   ]
  },
  {
   "cell_type": "code",
   "execution_count": null,
   "metadata": {},
   "outputs": [
    {
     "name": "stdout",
     "output_type": "stream",
     "text": [
      "iter      0: alpha:      3.000, sigma: 0.500, c:   20.000, ll: -40237.456, grad:    -44.885,   -915.715,     -3.222, step: 6.25e-05\n",
      "iter      1: alpha:      2.997, sigma: 0.443, c:   20.000, ll: -40215.589, grad:     31.440,    113.108,      3.019, step: 0.000125\n",
      "iter    101: alpha:      3.250, sigma: 0.428, c:   20.027, ll: -40210.606, grad:     17.916,     56.437,      2.425, step: 0.000125\n",
      "iter    201: alpha:      3.407, sigma: 0.418, c:   20.050, ll: -40208.687, grad:     11.598,     34.478,      1.751, step: 0.000125\n",
      "iter    301: alpha:      3.513, sigma: 0.413, c:   20.071, ll: -40207.789, grad:      7.101,     10.306,      1.600, step: 0.000125\n",
      "iter    401: alpha:      3.586, sigma: 0.408, c:   20.090, ll: -40207.363, grad:      5.285,     10.888,      1.257, step: 0.000125\n"
     ]
    }
   ],
   "source": [
    "est_alpha, est_sigma, est_c = optim.optimize_hypers(\n",
    "    model.Z, model.alpha, model.sigma, model.c, momentum = 0.,\n",
    "    num_iters = 2000, print_every = 100, h = 1e-8)"
   ]
  },
  {
   "cell_type": "code",
   "execution_count": null,
   "metadata": {},
   "outputs": [],
   "source": []
  },
  {
   "cell_type": "code",
   "execution_count": null,
   "metadata": {},
   "outputs": [],
   "source": []
  }
 ],
 "metadata": {
  "kernelspec": {
   "display_name": "Python 3",
   "language": "python",
   "name": "python3"
  },
  "language_info": {
   "codemirror_mode": {
    "name": "ipython",
    "version": 3
   },
   "file_extension": ".py",
   "mimetype": "text/x-python",
   "name": "python",
   "nbconvert_exporter": "python",
   "pygments_lexer": "ipython3",
   "version": "3.6.5"
  }
 },
 "nbformat": 4,
 "nbformat_minor": 2
}
