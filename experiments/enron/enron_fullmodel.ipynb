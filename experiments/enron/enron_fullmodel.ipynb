{
 "cells": [
  {
   "cell_type": "code",
   "execution_count": 2,
   "metadata": {},
   "outputs": [],
   "source": [
    "import sys\n",
    "sys.path.append('./../')"
   ]
  },
  {
   "cell_type": "code",
   "execution_count": 3,
   "metadata": {},
   "outputs": [],
   "source": [
    "import sparsedense as spd\n",
    "import helpertests as tst"
   ]
  },
  {
   "cell_type": "code",
   "execution_count": 4,
   "metadata": {},
   "outputs": [
    {
     "data": {
      "text/plain": [
       "<module 'helpertests' from './..\\\\helpertests.py'>"
      ]
     },
     "execution_count": 4,
     "metadata": {},
     "output_type": "execute_result"
    }
   ],
   "source": [
    "import importlib\n",
    "importlib.reload(spd)\n",
    "importlib.reload(tst)"
   ]
  },
  {
   "cell_type": "code",
   "execution_count": 5,
   "metadata": {},
   "outputs": [],
   "source": [
    "import numpy as np\n",
    "import networkx as nx\n",
    "import pickle"
   ]
  },
  {
   "cell_type": "code",
   "execution_count": 6,
   "metadata": {},
   "outputs": [],
   "source": [
    "links = np.genfromtxt('enron.tsv', delimiter='\\t', dtype=int)\n",
    "g = nx.Graph()\n",
    "g.add_edges_from(links)\n",
    "net = nx.adjacency_matrix(g).toarray().astype(int)\n",
    "for i in range(net.shape[0]):\n",
    "    net[i, i] = 1"
   ]
  },
  {
   "cell_type": "code",
   "execution_count": 7,
   "metadata": {},
   "outputs": [
    {
     "name": "stdout",
     "output_type": "stream",
     "text": [
      "- num nodes: 1172\n",
      "- num edges: 4293\n",
      "- edge node ratio: 3.66\n",
      "- density: 0.006256\n",
      "- mean degree: 7.33\n",
      "- mean maximal clique containing node: 3.10\n",
      "- clustering coefficient: 0.21\n",
      "- connected component sizes (top 5): [1166, 2, 2, 2]\n",
      "- mean distance between nodes (largest conn. comp.): 3.50\n"
     ]
    }
   ],
   "source": [
    "tst.test_stats(g)"
   ]
  },
  {
   "cell_type": "code",
   "execution_count": 8,
   "metadata": {},
   "outputs": [],
   "source": [
    "alpha0 = 7.\n",
    "sigma0 = .98\n",
    "c0 = 3.\n",
    "lamb0 = 100.\n",
    "\n",
    "# model = spd.NetworkFull(net, links, alpha=alpha0, sigma=sigma0, c=c0, lamb=lamb0)"
   ]
  },
  {
   "cell_type": "code",
   "execution_count": 9,
   "metadata": {},
   "outputs": [],
   "source": [
    "with open('enron_king.pkl', 'rb') as f:\n",
    "    model = pickle.load(f)"
   ]
  },
  {
   "cell_type": "code",
   "execution_count": 12,
   "metadata": {},
   "outputs": [
    {
     "name": "stdout",
     "output_type": "stream",
     "text": [
      "iter:     0, K:  8568, alpha:    8.757, sigma: 0.251, c:    6.143, lamb:  4310, lp:  -107846.087\n",
      "iter:    50, K:  8566, alpha:    8.843, sigma: 0.245, c:    6.366, lamb:  4266, lp:  -107811.473\n",
      "iter:   100, K:  8571, alpha:    8.918, sigma: 0.239, c:    6.582, lamb:  4373, lp:  -107818.582\n",
      "iter:   150, K:  8572, alpha:    8.983, sigma: 0.234, c:    6.789, lamb:  4306, lp:  -107802.825\n",
      "iter:   200, K:  8574, alpha:    9.038, sigma: 0.229, c:    6.988, lamb:  4312, lp:  -107798.972\n",
      "iter:   250, K:  8574, alpha:    9.085, sigma: 0.225, c:    7.180, lamb:  4256, lp:  -107796.901\n",
      "writing to file...\n",
      "done!\n",
      "iter:   300, K:  8576, alpha:    9.122, sigma: 0.220, c:    7.368, lamb:  4268, lp:  -107799.029\n",
      "iter:   350, K:  8578, alpha:    9.152, sigma: 0.217, c:    7.551, lamb:  4227, lp:  -107801.321\n",
      "iter:   400, K:  8579, alpha:    9.174, sigma: 0.213, c:    7.728, lamb:  4304, lp:  -107801.745\n",
      "iter:   450, K:  8579, alpha:    9.189, sigma: 0.209, c:    7.899, lamb:  4247, lp:  -107800.300\n",
      "iter:   500, K:  8578, alpha:    9.198, sigma: 0.207, c:    8.067, lamb:  4297, lp:  -107784.299\n",
      "writing to file...\n",
      "done!\n",
      "iter:   550, K:  8578, alpha:    9.200, sigma: 0.203, c:    8.232, lamb:  4315, lp:  -107783.016\n",
      "iter:   600, K:  8579, alpha:    9.197, sigma: 0.201, c:    8.393, lamb:  4270, lp:  -107772.609\n",
      "iter:   650, K:  8579, alpha:    9.189, sigma: 0.198, c:    8.552, lamb:  4297, lp:  -107771.442\n",
      "iter:   700, K:  8580, alpha:    9.175, sigma: 0.196, c:    8.708, lamb:  4269, lp:  -107772.348\n",
      "iter:   750, K:  8580, alpha:    9.157, sigma: 0.194, c:    8.861, lamb:  4304, lp:  -107771.286\n",
      "writing to file...\n",
      "done!\n",
      "iter:   800, K:  8580, alpha:    9.135, sigma: 0.192, c:    9.012, lamb:  4258, lp:  -107770.257\n",
      "iter:   850, K:  8580, alpha:    9.109, sigma: 0.190, c:    9.161, lamb:  4208, lp:  -107769.256\n",
      "iter:   900, K:  8581, alpha:    9.079, sigma: 0.188, c:    9.308, lamb:  4270, lp:  -107770.290\n",
      "iter:   950, K:  8581, alpha:    9.046, sigma: 0.187, c:    9.455, lamb:  4299, lp:  -107753.698\n",
      "iter:  1000, K:  8581, alpha:    9.009, sigma: 0.185, c:    9.597, lamb:  4326, lp:  -107740.996\n",
      "writing to file...\n",
      "done!\n",
      "iter:  1050, K:  8582, alpha:    8.970, sigma: 0.184, c:    9.738, lamb:  4361, lp:  -107742.092\n",
      "iter:  1100, K:  8584, alpha:    8.928, sigma: 0.183, c:    9.879, lamb:  4288, lp:  -107745.205\n",
      "iter:  1150, K:  8585, alpha:    8.885, sigma: 0.181, c:   10.018, lamb:  4258, lp:  -107746.318\n",
      "iter:  1200, K:  8584, alpha:    8.839, sigma: 0.180, c:   10.160, lamb:  4289, lp:  -107736.978\n",
      "iter:  1250, K:  8584, alpha:    8.791, sigma: 0.179, c:   10.298, lamb:  4367, lp:  -107736.094\n",
      "writing to file...\n",
      "done!\n",
      "iter:  1300, K:  8585, alpha:    8.742, sigma: 0.178, c:   10.436, lamb:  4368, lp:  -107737.223\n",
      "iter:  1350, K:  8586, alpha:    8.691, sigma: 0.177, c:   10.574, lamb:  4350, lp:  -107738.356\n",
      "iter:  1400, K:  8587, alpha:    8.639, sigma: 0.177, c:   10.713, lamb:  4214, lp:  -107739.491\n",
      "iter:  1450, K:  8587, alpha:    8.586, sigma: 0.176, c:   10.851, lamb:  4319, lp:  -107738.625\n",
      "iter:  1500, K:  8587, alpha:    8.532, sigma: 0.175, c:   10.987, lamb:  4277, lp:  -107723.349\n",
      "writing to file...\n",
      "done!\n",
      "iter:  1550, K:  8589, alpha:    8.477, sigma: 0.174, c:   11.124, lamb:  4305, lp:  -107726.510\n",
      "iter:  1600, K:  8589, alpha:    8.421, sigma: 0.174, c:   11.262, lamb:  4291, lp:  -107725.649\n",
      "iter:  1650, K:  8589, alpha:    8.365, sigma: 0.173, c:   11.402, lamb:  4307, lp:  -107724.782\n",
      "iter:  1700, K:  8591, alpha:    8.308, sigma: 0.173, c:   11.540, lamb:  4331, lp:  -107727.949\n",
      "iter:  1750, K:  8591, alpha:    8.252, sigma: 0.172, c:   11.677, lamb:  4413, lp:  -107727.105\n",
      "writing to file...\n",
      "done!\n",
      "iter:  1800, K:  8591, alpha:    8.196, sigma: 0.171, c:   11.814, lamb:  4294, lp:  -107714.470\n",
      "iter:  1850, K:  8591, alpha:    8.140, sigma: 0.171, c:   11.951, lamb:  4277, lp:  -107713.640\n",
      "iter:  1900, K:  8591, alpha:    8.084, sigma: 0.170, c:   12.089, lamb:  4235, lp:  -107709.510\n",
      "iter:  1950, K:  8592, alpha:    8.027, sigma: 0.170, c:   12.231, lamb:  4312, lp:  -107710.670\n",
      "iter:  2000, K:  8593, alpha:    7.971, sigma: 0.170, c:   12.372, lamb:  4328, lp:  -107711.839\n",
      "writing to file...\n",
      "done!\n",
      "iter:  2050, K:  8594, alpha:    7.916, sigma: 0.169, c:   12.513, lamb:  4348, lp:  -107713.015\n",
      "iter:  2100, K:  8595, alpha:    7.862, sigma: 0.169, c:   12.652, lamb:  4288, lp:  -107701.381\n",
      "iter:  2150, K:  8596, alpha:    7.806, sigma: 0.168, c:   12.796, lamb:  4277, lp:  -107702.553\n",
      "iter:  2200, K:  8596, alpha:    7.752, sigma: 0.168, c:   12.937, lamb:  4284, lp:  -107701.737\n",
      "iter:  2250, K:  8596, alpha:    7.699, sigma: 0.167, c:   13.080, lamb:  4250, lp:  -107700.922\n",
      "writing to file...\n",
      "done!\n",
      "iter:  2300, K:  8596, alpha:    7.646, sigma: 0.167, c:   13.223, lamb:  4245, lp:  -107700.111\n",
      "iter:  2350, K:  8597, alpha:    7.593, sigma: 0.167, c:   13.367, lamb:  4288, lp:  -107701.301\n",
      "iter:  2400, K:  8597, alpha:    7.542, sigma: 0.166, c:   13.510, lamb:  4290, lp:  -107700.506\n",
      "iter:  2450, K:  8597, alpha:    7.491, sigma: 0.166, c:   13.654, lamb:  4278, lp:  -107699.713\n",
      "iter:  2500, K:  8599, alpha:    7.441, sigma: 0.165, c:   13.800, lamb:  4249, lp:  -107702.919\n",
      "writing to file...\n",
      "done!\n",
      "iter:  2550, K:  8599, alpha:    7.390, sigma: 0.165, c:   13.953, lamb:  4304, lp:  -107702.090\n",
      "iter:  2600, K:  8599, alpha:    7.341, sigma: 0.165, c:   14.102, lamb:  4378, lp:  -107701.287\n",
      "iter:  2650, K:  8601, alpha:    7.293, sigma: 0.164, c:   14.252, lamb:  4242, lp:  -107704.494\n",
      "iter:  2700, K:  8603, alpha:    7.246, sigma: 0.163, c:   14.400, lamb:  4272, lp:  -107707.718\n",
      "iter:  2750, K:  8605, alpha:    7.198, sigma: 0.164, c:   14.551, lamb:  4327, lp:  -107710.936\n",
      "writing to file...\n",
      "done!\n",
      "iter:  2800, K:  8606, alpha:    7.152, sigma: 0.163, c:   14.703, lamb:  4271, lp:  -107712.146\n",
      "iter:  2850, K:  8608, alpha:    7.107, sigma: 0.162, c:   14.852, lamb:  4269, lp:  -107715.378\n",
      "iter:  2900, K:  8609, alpha:    7.063, sigma: 0.162, c:   15.006, lamb:  4251, lp:  -107703.689\n",
      "iter:  2950, K:  8609, alpha:    7.019, sigma: 0.161, c:   15.156, lamb:  4251, lp:  -107702.922\n",
      "iter:  3000, K:  8612, alpha:    6.977, sigma: 0.161, c:   15.309, lamb:  4361, lp:  -107708.159\n",
      "writing to file...\n",
      "done!\n",
      "iter:  3050, K:  8612, alpha:    6.936, sigma: 0.160, c:   15.459, lamb:  4304, lp:  -107707.410\n",
      "iter:  3100, K:  8610, alpha:    6.894, sigma: 0.160, c:   15.612, lamb:  4360, lp:  -107677.547\n",
      "iter:  3150, K:  8610, alpha:    6.853, sigma: 0.160, c:   15.766, lamb:  4265, lp:  -107676.786\n",
      "iter:  3200, K:  8611, alpha:    6.812, sigma: 0.159, c:   15.924, lamb:  4245, lp:  -107678.017\n",
      "iter:  3250, K:  8612, alpha:    6.772, sigma: 0.159, c:   16.082, lamb:  4361, lp:  -107679.254\n",
      "writing to file...\n",
      "done!\n",
      "iter:  3300, K:  8613, alpha:    6.733, sigma: 0.158, c:   16.236, lamb:  4324, lp:  -107680.520\n",
      "iter:  3350, K:  8613, alpha:    6.695, sigma: 0.158, c:   16.394, lamb:  4242, lp:  -107679.771\n",
      "iter:  3400, K:  8615, alpha:    6.658, sigma: 0.157, c:   16.551, lamb:  4278, lp:  -107676.952\n",
      "iter:  3450, K:  8615, alpha:    6.621, sigma: 0.157, c:   16.710, lamb:  4267, lp:  -107676.208\n",
      "iter:  3500, K:  8615, alpha:    6.585, sigma: 0.156, c:   16.868, lamb:  4364, lp:  -107675.477\n",
      "writing to file...\n",
      "done!\n",
      "iter:  3550, K:  8616, alpha:    6.550, sigma: 0.156, c:   17.029, lamb:  4334, lp:  -107676.733\n",
      "iter:  3600, K:  8617, alpha:    6.517, sigma: 0.155, c:   17.181, lamb:  4260, lp:  -107678.035\n",
      "iter:  3650, K:  8617, alpha:    6.483, sigma: 0.155, c:   17.339, lamb:  4270, lp:  -107677.321\n",
      "iter:  3700, K:  8617, alpha:    6.451, sigma: 0.155, c:   17.494, lamb:  4287, lp:  -107676.621\n",
      "iter:  3750, K:  8618, alpha:    6.419, sigma: 0.154, c:   17.648, lamb:  4312, lp:  -107677.926\n",
      "writing to file...\n",
      "done!\n",
      "iter:  3800, K:  8618, alpha:    6.387, sigma: 0.153, c:   17.807, lamb:  4218, lp:  -107677.220\n",
      "iter:  3850, K:  8618, alpha:    6.355, sigma: 0.153, c:   17.972, lamb:  4298, lp:  -107676.492\n",
      "iter:  3900, K:  8619, alpha:    6.324, sigma: 0.152, c:   18.134, lamb:  4272, lp:  -107677.780\n",
      "iter:  3950, K:  8619, alpha:    6.292, sigma: 0.152, c:   18.303, lamb:  4318, lp:  -107677.045\n",
      "iter:  4000, K:  8620, alpha:    6.261, sigma: 0.151, c:   18.471, lamb:  4287, lp:  -107678.314\n",
      "writing to file...\n",
      "done!\n",
      "iter:  4050, K:  8622, alpha:    6.229, sigma: 0.150, c:   18.643, lamb:  4246, lp:  -107681.571\n",
      "iter:  4100, K:  8622, alpha:    6.197, sigma: 0.150, c:   18.820, lamb:  4330, lp:  -107680.817\n",
      "iter:  4150, K:  8623, alpha:    6.167, sigma: 0.150, c:   18.992, lamb:  4326, lp:  -107682.091\n",
      "iter:  4200, K:  8623, alpha:    6.138, sigma: 0.149, c:   19.161, lamb:  4281, lp:  -107681.375\n",
      "iter:  4250, K:  8624, alpha:    6.108, sigma: 0.148, c:   19.340, lamb:  4285, lp:  -107682.629\n",
      "writing to file...\n",
      "done!\n",
      "iter:  4300, K:  8625, alpha:    6.078, sigma: 0.147, c:   19.520, lamb:  4355, lp:  -107683.879\n",
      "iter:  4350, K:  8626, alpha:    6.047, sigma: 0.147, c:   19.707, lamb:  4270, lp:  -107685.110\n",
      "iter:  4400, K:  8627, alpha:    6.017, sigma: 0.146, c:   19.895, lamb:  4349, lp:  -107679.038\n",
      "iter:  4450, K:  8628, alpha:    5.988, sigma: 0.146, c:   20.078, lamb:  4306, lp:  -107680.290\n",
      "iter:  4500, K:  8628, alpha:    5.959, sigma: 0.145, c:   20.264, lamb:  4301, lp:  -107679.544\n",
      "writing to file...\n",
      "done!\n",
      "iter:  4550, K:  8629, alpha:    5.930, sigma: 0.145, c:   20.451, lamb:  4328, lp:  -107680.790\n",
      "iter:  4600, K:  8630, alpha:    5.900, sigma: 0.144, c:   20.647, lamb:  4287, lp:  -107682.011\n",
      "iter:  4650, K:  8630, alpha:    5.870, sigma: 0.144, c:   20.850, lamb:  4320, lp:  -107675.512\n",
      "iter:  4700, K:  8632, alpha:    5.842, sigma: 0.142, c:   21.049, lamb:  4369, lp:  -107678.721\n",
      "iter:  4750, K:  8632, alpha:    5.813, sigma: 0.142, c:   21.246, lamb:  4394, lp:  -107677.956\n",
      "writing to file...\n",
      "done!\n",
      "iter:  4800, K:  8633, alpha:    5.785, sigma: 0.141, c:   21.443, lamb:  4284, lp:  -107679.188\n",
      "iter:  4850, K:  8634, alpha:    5.757, sigma: 0.140, c:   21.642, lamb:  4313, lp:  -107680.423\n",
      "iter:  4900, K:  8635, alpha:    5.729, sigma: 0.140, c:   21.851, lamb:  4314, lp:  -107681.623\n",
      "iter:  4950, K:  8636, alpha:    5.701, sigma: 0.139, c:   22.056, lamb:  4257, lp:  -107682.846\n",
      "iter:  5000, K:  8638, alpha:    5.674, sigma: 0.138, c:   22.267, lamb:  4239, lp:  -107686.044\n",
      "writing to file...\n",
      "done!\n",
      "iter:  5050, K:  8638, alpha:    5.646, sigma: 0.138, c:   22.479, lamb:  4341, lp:  -107680.059\n"
     ]
    },
    {
     "ename": "KeyboardInterrupt",
     "evalue": "",
     "output_type": "error",
     "traceback": [
      "\u001b[1;31m---------------------------------------------------------------------------\u001b[0m",
      "\u001b[1;31mKeyboardInterrupt\u001b[0m                         Traceback (most recent call last)",
      "\u001b[1;32m<ipython-input-12-83010fed6edb>\u001b[0m in \u001b[0;36m<module>\u001b[1;34m()\u001b[0m\n\u001b[0;32m     16\u001b[0m     \u001b[0mdo_gibbs\u001b[0m \u001b[1;33m=\u001b[0m \u001b[1;32mFalse\u001b[0m\u001b[1;33m,\u001b[0m\u001b[1;33m\u001b[0m\u001b[0m\n\u001b[0;32m     17\u001b[0m     \u001b[0mwrite_Z\u001b[0m\u001b[1;33m=\u001b[0m\u001b[1;32mTrue\u001b[0m\u001b[1;33m,\u001b[0m\u001b[1;33m\u001b[0m\u001b[0m\n\u001b[1;32m---> 18\u001b[1;33m     filename='enron.pkl')   \n\u001b[0m",
      "\u001b[1;32mC:\\Github\\sparsedense3\\sparsedense.py\u001b[0m in \u001b[0;36msample\u001b[1;34m(self, num_iters, num_sm, num_hyper, save_every, write_every, sample_hypers, optim_hypers, hyper_start, do_gibbs, burnin, verbose, filename, true_Z, write_Z)\u001b[0m\n\u001b[0;32m    168\u001b[0m                     self.alpha, self.sigma, self.c = opt.optimize_hypers2(\n\u001b[0;32m    169\u001b[0m                         \u001b[0mself\u001b[0m\u001b[1;33m.\u001b[0m\u001b[0mZ\u001b[0m\u001b[1;33m,\u001b[0m \u001b[0mself\u001b[0m\u001b[1;33m.\u001b[0m\u001b[0malpha\u001b[0m\u001b[1;33m,\u001b[0m \u001b[0mself\u001b[0m\u001b[1;33m.\u001b[0m\u001b[0msigma\u001b[0m\u001b[1;33m,\u001b[0m \u001b[0mself\u001b[0m\u001b[1;33m.\u001b[0m\u001b[0mc\u001b[0m\u001b[1;33m,\u001b[0m \u001b[0mmomentum\u001b[0m \u001b[1;33m=\u001b[0m \u001b[0moptim_momentum\u001b[0m\u001b[1;33m,\u001b[0m\u001b[1;33m\u001b[0m\u001b[0m\n\u001b[1;32m--> 170\u001b[1;33m                         num_iters = num_hyper, verbose=False, h = 1e-8)\n\u001b[0m\u001b[0;32m    171\u001b[0m \u001b[1;33m\u001b[0m\u001b[0m\n\u001b[0;32m    172\u001b[0m \u001b[1;33m\u001b[0m\u001b[0m\n",
      "\u001b[1;32mC:\\Github\\sparsedense3\\optim.py\u001b[0m in \u001b[0;36moptimize_hypers\u001b[1;34m(Z, alpha, sigma, c, num_iters, print_every, init_stepsize, momentum_free_iters, momentum, optimize_alpha, optimize_sigma, optimize_c, h, verbose)\u001b[0m\n\u001b[0;32m    100\u001b[0m         \u001b[1;31m# gradients again\u001b[0m\u001b[1;33m\u001b[0m\u001b[1;33m\u001b[0m\u001b[0m\n\u001b[0;32m    101\u001b[0m         \u001b[0mll\u001b[0m \u001b[1;33m=\u001b[0m \u001b[0mloglik\u001b[0m\u001b[1;33m(\u001b[0m\u001b[0mmk\u001b[0m\u001b[1;33m,\u001b[0m \u001b[0mZ\u001b[0m\u001b[1;33m,\u001b[0m \u001b[0malpha\u001b[0m\u001b[1;33m,\u001b[0m \u001b[0msigma\u001b[0m\u001b[1;33m,\u001b[0m \u001b[0mc\u001b[0m\u001b[1;33m)\u001b[0m\u001b[1;33m\u001b[0m\u001b[0m\n\u001b[1;32m--> 102\u001b[1;33m         \u001b[0malpha_grad\u001b[0m\u001b[1;33m,\u001b[0m \u001b[0msigma_grad\u001b[0m\u001b[1;33m,\u001b[0m \u001b[0mc_grad\u001b[0m \u001b[1;33m=\u001b[0m \u001b[0mloglik_grad\u001b[0m\u001b[1;33m(\u001b[0m\u001b[0mmk\u001b[0m\u001b[1;33m,\u001b[0m \u001b[0mZ\u001b[0m\u001b[1;33m,\u001b[0m \u001b[0malpha\u001b[0m\u001b[1;33m,\u001b[0m \u001b[0msigma\u001b[0m\u001b[1;33m,\u001b[0m \u001b[0mc\u001b[0m\u001b[1;33m,\u001b[0m \u001b[0mh\u001b[0m\u001b[1;33m)\u001b[0m\u001b[1;33m\u001b[0m\u001b[0m\n\u001b[0m\u001b[0;32m    103\u001b[0m         \u001b[0mstep\u001b[0m \u001b[1;33m=\u001b[0m \u001b[0mbacktrack_search\u001b[0m\u001b[1;33m(\u001b[0m\u001b[0mmk\u001b[0m\u001b[1;33m,\u001b[0m \u001b[0mZ\u001b[0m\u001b[1;33m,\u001b[0m \u001b[0malpha\u001b[0m\u001b[1;33m,\u001b[0m \u001b[0msigma\u001b[0m\u001b[1;33m,\u001b[0m \u001b[0mc\u001b[0m\u001b[1;33m,\u001b[0m \u001b[0mll\u001b[0m\u001b[1;33m,\u001b[0m \u001b[0malpha_grad\u001b[0m\u001b[1;33m,\u001b[0m \u001b[0msigma_grad\u001b[0m\u001b[1;33m,\u001b[0m \u001b[0mc_grad\u001b[0m\u001b[1;33m,\u001b[0m \u001b[0mmax\u001b[0m\u001b[1;33m(\u001b[0m\u001b[1;36m8\u001b[0m \u001b[1;33m*\u001b[0m \u001b[0mstep\u001b[0m\u001b[1;33m,\u001b[0m \u001b[1;36m1e-7\u001b[0m\u001b[1;33m)\u001b[0m\u001b[1;33m)\u001b[0m\u001b[1;33m\u001b[0m\u001b[0m\n\u001b[0;32m    104\u001b[0m \u001b[1;33m\u001b[0m\u001b[0m\n",
      "\u001b[1;32mC:\\Github\\sparsedense3\\optim.py\u001b[0m in \u001b[0;36mloglik_grad\u001b[1;34m(mk, Z, alpha, sigma, c, h)\u001b[0m\n\u001b[0;32m     45\u001b[0m     \u001b[0mconst\u001b[0m \u001b[1;33m=\u001b[0m \u001b[0mnp\u001b[0m\u001b[1;33m.\u001b[0m\u001b[0msum\u001b[0m\u001b[1;33m(\u001b[0m\u001b[0mnp\u001b[0m\u001b[1;33m.\u001b[0m\u001b[0marray\u001b[0m\u001b[1;33m(\u001b[0m\u001b[1;33m[\u001b[0m\u001b[0mpoiss_param\u001b[0m\u001b[1;33m(\u001b[0m\u001b[1;36m1.\u001b[0m\u001b[1;33m,\u001b[0m \u001b[0msigma\u001b[0m\u001b[1;33m,\u001b[0m \u001b[0mc\u001b[0m\u001b[1;33m,\u001b[0m \u001b[0mn\u001b[0m\u001b[1;33m)\u001b[0m \u001b[1;32mfor\u001b[0m \u001b[0mn\u001b[0m \u001b[1;32min\u001b[0m \u001b[0mrange\u001b[0m\u001b[1;33m(\u001b[0m\u001b[0mN\u001b[0m\u001b[1;33m)\u001b[0m\u001b[1;33m]\u001b[0m\u001b[1;33m)\u001b[0m\u001b[1;33m)\u001b[0m\u001b[1;33m\u001b[0m\u001b[0m\n\u001b[0;32m     46\u001b[0m     \u001b[0malpha_grad\u001b[0m \u001b[1;33m=\u001b[0m \u001b[0mK\u001b[0m\u001b[1;33m/\u001b[0m\u001b[0malpha\u001b[0m \u001b[1;33m-\u001b[0m \u001b[0mconst\u001b[0m\u001b[1;33m\u001b[0m\u001b[0m\n\u001b[1;32m---> 47\u001b[1;33m     \u001b[0msigma_grad\u001b[0m \u001b[1;33m=\u001b[0m \u001b[1;36m0.5\u001b[0m \u001b[1;33m*\u001b[0m \u001b[1;33m(\u001b[0m\u001b[0mloglik\u001b[0m\u001b[1;33m(\u001b[0m\u001b[0mmk\u001b[0m\u001b[1;33m,\u001b[0m \u001b[0mZ\u001b[0m\u001b[1;33m,\u001b[0m \u001b[0malpha\u001b[0m\u001b[1;33m,\u001b[0m \u001b[0msigma\u001b[0m\u001b[1;33m+\u001b[0m\u001b[0mh\u001b[0m\u001b[1;33m,\u001b[0m \u001b[0mc\u001b[0m\u001b[1;33m)\u001b[0m \u001b[1;33m-\u001b[0m \u001b[0mloglik\u001b[0m\u001b[1;33m(\u001b[0m\u001b[0mmk\u001b[0m\u001b[1;33m,\u001b[0m \u001b[0mZ\u001b[0m\u001b[1;33m,\u001b[0m \u001b[0malpha\u001b[0m\u001b[1;33m,\u001b[0m \u001b[0msigma\u001b[0m\u001b[1;33m-\u001b[0m\u001b[0mh\u001b[0m\u001b[1;33m,\u001b[0m \u001b[0mc\u001b[0m\u001b[1;33m)\u001b[0m\u001b[1;33m)\u001b[0m \u001b[1;33m/\u001b[0m \u001b[0mh\u001b[0m\u001b[1;33m\u001b[0m\u001b[0m\n\u001b[0m\u001b[0;32m     48\u001b[0m     \u001b[0mc_grad\u001b[0m \u001b[1;33m=\u001b[0m \u001b[1;36m0.5\u001b[0m \u001b[1;33m*\u001b[0m \u001b[1;33m(\u001b[0m\u001b[0mloglik\u001b[0m\u001b[1;33m(\u001b[0m\u001b[0mmk\u001b[0m\u001b[1;33m,\u001b[0m \u001b[0mZ\u001b[0m\u001b[1;33m,\u001b[0m \u001b[0malpha\u001b[0m\u001b[1;33m,\u001b[0m \u001b[0msigma\u001b[0m\u001b[1;33m,\u001b[0m \u001b[0mc\u001b[0m\u001b[1;33m+\u001b[0m\u001b[0mh\u001b[0m\u001b[1;33m)\u001b[0m \u001b[1;33m-\u001b[0m \u001b[0mloglik\u001b[0m\u001b[1;33m(\u001b[0m\u001b[0mmk\u001b[0m\u001b[1;33m,\u001b[0m \u001b[0mZ\u001b[0m\u001b[1;33m,\u001b[0m \u001b[0malpha\u001b[0m\u001b[1;33m,\u001b[0m \u001b[0msigma\u001b[0m\u001b[1;33m,\u001b[0m \u001b[0mc\u001b[0m\u001b[1;33m-\u001b[0m\u001b[0mh\u001b[0m\u001b[1;33m)\u001b[0m\u001b[1;33m)\u001b[0m \u001b[1;33m/\u001b[0m \u001b[0mh\u001b[0m\u001b[1;33m\u001b[0m\u001b[0m\n\u001b[0;32m     49\u001b[0m \u001b[1;33m\u001b[0m\u001b[0m\n",
      "\u001b[1;32mC:\\Github\\sparsedense3\\optim.py\u001b[0m in \u001b[0;36mloglik\u001b[1;34m(mk, Z, alpha, sigma, c)\u001b[0m\n\u001b[0;32m     33\u001b[0m \u001b[1;32mdef\u001b[0m \u001b[0mloglik\u001b[0m\u001b[1;33m(\u001b[0m\u001b[0mmk\u001b[0m\u001b[1;33m,\u001b[0m \u001b[0mZ\u001b[0m\u001b[1;33m,\u001b[0m \u001b[0malpha\u001b[0m\u001b[1;33m,\u001b[0m \u001b[0msigma\u001b[0m\u001b[1;33m,\u001b[0m \u001b[0mc\u001b[0m\u001b[1;33m)\u001b[0m\u001b[1;33m:\u001b[0m\u001b[1;33m\u001b[0m\u001b[0m\n\u001b[0;32m     34\u001b[0m     \u001b[0mN\u001b[0m\u001b[1;33m,\u001b[0m \u001b[0mK\u001b[0m \u001b[1;33m=\u001b[0m \u001b[0mZ\u001b[0m\u001b[1;33m.\u001b[0m\u001b[0mshape\u001b[0m\u001b[1;33m\u001b[0m\u001b[0m\n\u001b[1;32m---> 35\u001b[1;33m     \u001b[0mpoiss_params\u001b[0m \u001b[1;33m=\u001b[0m \u001b[0mnp\u001b[0m\u001b[1;33m.\u001b[0m\u001b[0marray\u001b[0m\u001b[1;33m(\u001b[0m\u001b[1;33m[\u001b[0m\u001b[0mpoiss_param\u001b[0m\u001b[1;33m(\u001b[0m\u001b[0malpha\u001b[0m\u001b[1;33m,\u001b[0m \u001b[0msigma\u001b[0m\u001b[1;33m,\u001b[0m \u001b[0mc\u001b[0m\u001b[1;33m,\u001b[0m \u001b[0mn\u001b[0m\u001b[1;33m)\u001b[0m \u001b[1;32mfor\u001b[0m \u001b[0mn\u001b[0m \u001b[1;32min\u001b[0m \u001b[0mrange\u001b[0m\u001b[1;33m(\u001b[0m\u001b[0mN\u001b[0m\u001b[1;33m)\u001b[0m\u001b[1;33m]\u001b[0m\u001b[1;33m)\u001b[0m\u001b[1;33m\u001b[0m\u001b[0m\n\u001b[0m\u001b[0;32m     36\u001b[0m     \u001b[0mll\u001b[0m \u001b[1;33m=\u001b[0m \u001b[0mK\u001b[0m \u001b[1;33m*\u001b[0m \u001b[0mnp\u001b[0m\u001b[1;33m.\u001b[0m\u001b[0mlog\u001b[0m\u001b[1;33m(\u001b[0m\u001b[0malpha\u001b[0m\u001b[1;33m)\u001b[0m \u001b[1;33m-\u001b[0m \u001b[0mnp\u001b[0m\u001b[1;33m.\u001b[0m\u001b[0msum\u001b[0m\u001b[1;33m(\u001b[0m\u001b[0mpoiss_params\u001b[0m\u001b[1;33m)\u001b[0m\u001b[1;33m\u001b[0m\u001b[0m\n\u001b[0;32m     37\u001b[0m     \u001b[1;32mfor\u001b[0m \u001b[0mk\u001b[0m \u001b[1;32min\u001b[0m \u001b[0mrange\u001b[0m\u001b[1;33m(\u001b[0m\u001b[0mK\u001b[0m\u001b[1;33m)\u001b[0m\u001b[1;33m:\u001b[0m\u001b[1;33m\u001b[0m\u001b[0m\n",
      "\u001b[1;32mC:\\Github\\sparsedense3\\optim.py\u001b[0m in \u001b[0;36m<listcomp>\u001b[1;34m(.0)\u001b[0m\n\u001b[0;32m     33\u001b[0m \u001b[1;32mdef\u001b[0m \u001b[0mloglik\u001b[0m\u001b[1;33m(\u001b[0m\u001b[0mmk\u001b[0m\u001b[1;33m,\u001b[0m \u001b[0mZ\u001b[0m\u001b[1;33m,\u001b[0m \u001b[0malpha\u001b[0m\u001b[1;33m,\u001b[0m \u001b[0msigma\u001b[0m\u001b[1;33m,\u001b[0m \u001b[0mc\u001b[0m\u001b[1;33m)\u001b[0m\u001b[1;33m:\u001b[0m\u001b[1;33m\u001b[0m\u001b[0m\n\u001b[0;32m     34\u001b[0m     \u001b[0mN\u001b[0m\u001b[1;33m,\u001b[0m \u001b[0mK\u001b[0m \u001b[1;33m=\u001b[0m \u001b[0mZ\u001b[0m\u001b[1;33m.\u001b[0m\u001b[0mshape\u001b[0m\u001b[1;33m\u001b[0m\u001b[0m\n\u001b[1;32m---> 35\u001b[1;33m     \u001b[0mpoiss_params\u001b[0m \u001b[1;33m=\u001b[0m \u001b[0mnp\u001b[0m\u001b[1;33m.\u001b[0m\u001b[0marray\u001b[0m\u001b[1;33m(\u001b[0m\u001b[1;33m[\u001b[0m\u001b[0mpoiss_param\u001b[0m\u001b[1;33m(\u001b[0m\u001b[0malpha\u001b[0m\u001b[1;33m,\u001b[0m \u001b[0msigma\u001b[0m\u001b[1;33m,\u001b[0m \u001b[0mc\u001b[0m\u001b[1;33m,\u001b[0m \u001b[0mn\u001b[0m\u001b[1;33m)\u001b[0m \u001b[1;32mfor\u001b[0m \u001b[0mn\u001b[0m \u001b[1;32min\u001b[0m \u001b[0mrange\u001b[0m\u001b[1;33m(\u001b[0m\u001b[0mN\u001b[0m\u001b[1;33m)\u001b[0m\u001b[1;33m]\u001b[0m\u001b[1;33m)\u001b[0m\u001b[1;33m\u001b[0m\u001b[0m\n\u001b[0m\u001b[0;32m     36\u001b[0m     \u001b[0mll\u001b[0m \u001b[1;33m=\u001b[0m \u001b[0mK\u001b[0m \u001b[1;33m*\u001b[0m \u001b[0mnp\u001b[0m\u001b[1;33m.\u001b[0m\u001b[0mlog\u001b[0m\u001b[1;33m(\u001b[0m\u001b[0malpha\u001b[0m\u001b[1;33m)\u001b[0m \u001b[1;33m-\u001b[0m \u001b[0mnp\u001b[0m\u001b[1;33m.\u001b[0m\u001b[0msum\u001b[0m\u001b[1;33m(\u001b[0m\u001b[0mpoiss_params\u001b[0m\u001b[1;33m)\u001b[0m\u001b[1;33m\u001b[0m\u001b[0m\n\u001b[0;32m     37\u001b[0m     \u001b[1;32mfor\u001b[0m \u001b[0mk\u001b[0m \u001b[1;32min\u001b[0m \u001b[0mrange\u001b[0m\u001b[1;33m(\u001b[0m\u001b[0mK\u001b[0m\u001b[1;33m)\u001b[0m\u001b[1;33m:\u001b[0m\u001b[1;33m\u001b[0m\u001b[0m\n",
      "\u001b[1;31mKeyboardInterrupt\u001b[0m: "
     ]
    }
   ],
   "source": [
    "save_every = 50\n",
    "write_every = 250\n",
    "\n",
    "niter = 25000\n",
    "\n",
    "model.sample(\n",
    "    num_iters= niter,\n",
    "    save_every = save_every,  \n",
    "    write_every = write_every,\n",
    "    verbose = True,\n",
    "    sample_hypers = False,\n",
    "    optim_hypers = True,\n",
    "    hyper_start = 0,\n",
    "    num_sm = 50,\n",
    "    num_hyper = 5,\n",
    "    do_gibbs = False,\n",
    "    write_Z=True,\n",
    "    filename='enron.pkl')   "
   ]
  },
  {
   "cell_type": "code",
   "execution_count": 34,
   "metadata": {},
   "outputs": [],
   "source": [
    "# with open('enron_king.pkl', 'wb') as f:\n",
    "#     pickle.dump(model, f)"
   ]
  },
  {
   "cell_type": "code",
   "execution_count": 41,
   "metadata": {},
   "outputs": [],
   "source": [
    "model.c = 400."
   ]
  },
  {
   "cell_type": "code",
   "execution_count": null,
   "metadata": {},
   "outputs": [
    {
     "name": "stdout",
     "output_type": "stream",
     "text": [
      "iter:     0, K:  8693, alpha:    0.865, sigma: 0.000, c:  400.000, lamb:  4396, lp:  -107701.458\n",
      "iter:    10, K:  8695, alpha:    0.938, sigma: 0.000, c:  399.830, lamb:  4305, lp:  -107701.448\n",
      "writing to file...\n",
      "done!\n",
      "iter:    20, K:  8695, alpha:    0.938, sigma: 0.000, c:  399.657, lamb:  4411, lp:  -107698.423\n",
      "writing to file...\n",
      "done!\n",
      "iter:    30, K:  8698, alpha:    0.938, sigma: 0.000, c:  399.485, lamb:  4291, lp:  -107704.026\n",
      "writing to file...\n",
      "done!\n",
      "iter:    40, K:  8700, alpha:    0.938, sigma: 0.000, c:  399.300, lamb:  4350, lp:  -107707.691\n",
      "writing to file...\n",
      "done!\n",
      "iter:    50, K:  8702, alpha:    0.939, sigma: 0.000, c:  399.120, lamb:  4398, lp:  -107711.360\n",
      "writing to file...\n",
      "done!\n",
      "iter:    60, K:  8702, alpha:    0.939, sigma: 0.000, c:  398.946, lamb:  4386, lp:  -107711.189\n",
      "writing to file...\n",
      "done!\n",
      "iter:    70, K:  8703, alpha:    0.939, sigma: 0.000, c:  398.780, lamb:  4279, lp:  -107712.949\n",
      "writing to file...\n",
      "done!\n",
      "iter:    80, K:  8703, alpha:    0.939, sigma: 0.000, c:  398.613, lamb:  4397, lp:  -107712.784\n",
      "writing to file...\n",
      "done!\n",
      "iter:    90, K:  8706, alpha:    0.940, sigma: 0.000, c:  398.448, lamb:  4263, lp:  -107706.089\n",
      "writing to file...\n",
      "done!\n",
      "> c:\\github\\sparsedense3\\sparsedense.py(545)splitmerge()\n",
      "-> num_ones = int(np.sum(Z_prop))\n"
     ]
    }
   ],
   "source": [
    "save_every = 10\n",
    "niter = 1000\n",
    "write_every = 10\n",
    "\n",
    "model.sample(\n",
    "    num_iters= niter,\n",
    "    save_every = save_every,  \n",
    "    write_every = write_every,\n",
    "    verbose = True,\n",
    "    sample_hypers = False,\n",
    "    optim_hypers = True,\n",
    "    hyper_start = 0,\n",
    "    num_sm = 500,\n",
    "    num_hyper = 10,\n",
    "    do_gibbs = False,\n",
    "    write_Z=True,\n",
    "    filename='enron.pkl')   "
   ]
  },
  {
   "cell_type": "code",
   "execution_count": 11,
   "metadata": {},
   "outputs": [],
   "source": [
    "# with open('enron_cheat.pkl', 'wb') as f:\n",
    "#     pickle.dump(model, f)"
   ]
  }
 ],
 "metadata": {
  "kernelspec": {
   "display_name": "Python 3",
   "language": "python",
   "name": "python3"
  },
  "language_info": {
   "codemirror_mode": {
    "name": "ipython",
    "version": 3
   },
   "file_extension": ".py",
   "mimetype": "text/x-python",
   "name": "python",
   "nbconvert_exporter": "python",
   "pygments_lexer": "ipython3",
   "version": "3.6.5"
  }
 },
 "nbformat": 4,
 "nbformat_minor": 2
}
