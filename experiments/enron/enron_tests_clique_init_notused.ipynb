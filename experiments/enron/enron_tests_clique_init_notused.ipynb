{
 "cells": [
  {
   "cell_type": "code",
   "execution_count": 12,
   "metadata": {},
   "outputs": [],
   "source": [
    "import sys\n",
    "sys.path.append('../../sparsedense/')"
   ]
  },
  {
   "cell_type": "code",
   "execution_count": 13,
   "metadata": {},
   "outputs": [],
   "source": [
    "import numpy as np\n",
    "import networkx as nx\n",
    "import matplotlib.pyplot as plt\n",
    "import pickle\n",
    "import importlib\n",
    "from statsmodels.nonparametric.kde import KDEUnivariate\n",
    "from collections import Counter\n",
    "import pandas as pd"
   ]
  },
  {
   "cell_type": "code",
   "execution_count": 14,
   "metadata": {},
   "outputs": [],
   "source": [
    "import optim as opt\n",
    "import helpertests as tst\n",
    "import sparsedense as spd"
   ]
  },
  {
   "cell_type": "code",
   "execution_count": 15,
   "metadata": {},
   "outputs": [],
   "source": [
    "test = 'enron'"
   ]
  },
  {
   "cell_type": "code",
   "execution_count": 16,
   "metadata": {},
   "outputs": [],
   "source": [
    "links = np.genfromtxt('{}.tsv'.format(test), delimiter='\\t', dtype=int)\n",
    "g = nx.Graph()\n",
    "g.add_edges_from(links)\n",
    "net = nx.adjacency_matrix(g).toarray().astype(int)\n",
    "for i in range(net.shape[0]):\n",
    "    net[i, i] = 1\n",
    "    "
   ]
  },
  {
   "cell_type": "code",
   "execution_count": 17,
   "metadata": {},
   "outputs": [],
   "source": [
    "# with open('{}_clique_init.pkl'.format(test, suffix), 'rb') as f:\n",
    "#     runs = pickle.load(f)"
   ]
  },
  {
   "cell_type": "code",
   "execution_count": 26,
   "metadata": {},
   "outputs": [
    {
     "data": {
      "text/plain": [
       "(2.8250965584052055, 0.3216353225668911, 50.037607173268064, 2773)"
      ]
     },
     "execution_count": 26,
     "metadata": {},
     "output_type": "execute_result"
    }
   ],
   "source": [
    "alpha, sigma, c, num_cliques = runs['alphas'][-1], runs['sigmas'][-1], runs['cs'][-1], runs['Ks'][-1]\n",
    "alpha, sigma, c, num_cliques"
   ]
  },
  {
   "cell_type": "code",
   "execution_count": 7,
   "metadata": {},
   "outputs": [],
   "source": [
    "def gen_rcc_samples(nreps, alpha, sigma, c, num_cliques):\n",
    "    nreps = 25\n",
    "    for k in range(nreps):\n",
    "        Z = opt.sample_from_ibp(num_cliques, alpha=alpha, sigma=sigma, c=c)\n",
    "        net = Z.transpose() @ Z\n",
    "        K, N = Z.shape\n",
    "        links = []\n",
    "        for i in range(N - 1):\n",
    "            for j in range(i + 1, N):\n",
    "                if net[i, j] >= 1:\n",
    "                    links.append([i, j])\n",
    "        np.savetxt('rcc_runs_clique_init/{}.tsv'.format(k), np.array(links), delimiter='\\t', fmt='%d')"
   ]
  },
  {
   "cell_type": "code",
   "execution_count": 8,
   "metadata": {},
   "outputs": [],
   "source": [
    "# nreps = 25\n",
    "# gen_rcc_samples(nreps, alpha, sigma, c, num_cliques)"
   ]
  },
  {
   "cell_type": "code",
   "execution_count": 22,
   "metadata": {},
   "outputs": [],
   "source": [
    "def test_samples(path, n=25, mc_size=500, verbose=True, offset=0):\n",
    "    \n",
    "    num_nodes, num_edges, edge_node, density, deg, max_clique_node, clust_coeff, conn_comp_largest, short_paths, triang_node = \\\n",
    "        [], [], [], [], [], [], [], [], [], []\n",
    "\n",
    "    for i in range(1, n):\n",
    "        links = np.genfromtxt(path + '{}.tsv'.format(i+offset), delimiter='\\t', dtype=int)\n",
    "        g = nx.Graph()\n",
    "        g.add_edges_from(links - 1)\n",
    "\n",
    "        num_nodes_i, num_edges_i, edge_node_ratio_i, density_i, deg_i, max_clique_node_i, clust_coeff_i, conn_comp_i, short_paths_i, triang_node_i = \\\n",
    "            tst.test_stats(g, mc_size=mc_size, verbose=False, return_results=True)\n",
    "\n",
    "        num_nodes.append(num_nodes_i)\n",
    "        num_edges.append(num_edges_i)\n",
    "        edge_node.append(edge_node_ratio_i)\n",
    "        density.append(density_i)\n",
    "        deg.append(deg_i)\n",
    "        max_clique_node.append(max_clique_node_i)\n",
    "        clust_coeff.append(clust_coeff_i)\n",
    "        conn_comp_largest.append(conn_comp_i / num_nodes_i)\n",
    "        short_paths.append(short_paths_i)\n",
    "        triang_node.append(triang_node_i)\n",
    "\n",
    "    if verbose:\n",
    "        print(\"- num nodes: {:f}, {:f}\".format(np.mean(num_nodes), np.std(num_nodes)))\n",
    "        print(\"- num edges: {:f}, {:f}\".format(np.mean(num_edges), np.std(num_edges)))\n",
    "        print(\"- edge node ratio: {:2.2f}, {:f}\".format(np.mean(edge_node), np.std(edge_node)))\n",
    "        print(\"- triang node ratio: {:f}, {:f}\".format(np.mean(triang_node), np.std(triang_node)))\n",
    "        print(\"- density: {:2.6f}, {:f}\".format(np.mean(density), np.std(density)))\n",
    "        print(\"- mean degree: {:2.2f}, {:f}\".format(np.mean(deg), np.std(deg)))\n",
    "        print(\"- mean maximal clique containing node: {:2.2f}, {:f}\".format(np.mean(max_clique_node), np.std(max_clique_node)))\n",
    "        print(\"- clustering coefficient: {:2.2f}, {:f}\".format(np.mean(clust_coeff), np.std(clust_coeff)))\n",
    "        print(\"- connected component sizes (largest): {}, {:f}\".format(np.mean(conn_comp_largest), np.std(conn_comp_largest)))\n",
    "        print(\"- mean distance between nodes (largest conn. comp.): {:2.2f}, {:f}\".format(np.mean(short_paths), np.std(short_paths)))  "
   ]
  },
  {
   "cell_type": "code",
   "execution_count": 23,
   "metadata": {},
   "outputs": [
    {
     "name": "stdout",
     "output_type": "stream",
     "text": [
      "- num nodes: 1172\n",
      "- num edges: 4293\n",
      "- edge node ratio: 3.66\n",
      "- triang node ratio: 8.29\n",
      "- density: 0.006256\n",
      "- mean degree: 7.33\n",
      "- clustering coefficient: 0.23\n",
      "- mean maximal clique containing node: 3.22\n",
      "- connected component sizes (top 5): [1166, 2, 2, 2]\n",
      "- mean distance between nodes (largest conn. comp.): 3.47\n"
     ]
    }
   ],
   "source": [
    "tst.test_stats(g)"
   ]
  },
  {
   "cell_type": "code",
   "execution_count": 24,
   "metadata": {},
   "outputs": [
    {
     "name": "stdout",
     "output_type": "stream",
     "text": [
      "- num nodes: 1139.041667, 37.584881\n",
      "- num edges: 9478.125000, 1002.417341\n",
      "- edge node ratio: 8.32, 0.778312\n",
      "- triang node ratio: 104.675150, 27.593268\n",
      "- density: 0.014621, 0.001356\n",
      "- mean degree: 16.63, 1.556624\n",
      "- mean maximal clique containing node: 5.78, 0.456343\n",
      "- clustering coefficient: 0.58, 0.026178\n",
      "- connected component sizes (largest): 0.9929751960361939, 0.004076\n",
      "- mean distance between nodes (largest conn. comp.): 2.74, 0.078138\n"
     ]
    }
   ],
   "source": [
    "test_samples('rcc_runs_clique_init/')"
   ]
  },
  {
   "cell_type": "code",
   "execution_count": 32,
   "metadata": {},
   "outputs": [
    {
     "name": "stdout",
     "output_type": "stream",
     "text": [
      "- num nodes: 1181.958333, 51.632902\n",
      "- num edges: 4531.625000, 555.018754\n",
      "- edge node ratio: 3.82, 0.341685\n",
      "- density: 0.006472, 0.000443\n",
      "- mean degree: 7.65, 0.683370\n",
      "- mean maximal clique containing node: 2.58, 0.089446\n",
      "- clustering coefficient: 0.05, 0.009877\n",
      "- connected component sizes (largest): 0.9855017520039464, 0.005060\n",
      "- mean distance between nodes (largest conn. comp.): 3.42, 0.093297\n"
     ]
    }
   ],
   "source": [
    "test_samples('bnpgraph_runs/enron_', offset=1)"
   ]
  },
  {
   "cell_type": "code",
   "execution_count": 33,
   "metadata": {},
   "outputs": [],
   "source": [
    "def fit_kde(x, grid):\n",
    "    resol = len(grid)\n",
    "    d = np.zeros(resol)\n",
    "    kde = KDEUnivariate(x)\n",
    "    kde.fit()\n",
    "    d = kde.evaluate(grid)    \n",
    "    return d\n",
    "\n",
    "def fit_count(x, grid):\n",
    "    cnt = Counter(x)\n",
    "    d = np.array([cnt[y] for y in grid]) / len(x)\n",
    "    return d\n",
    "\n",
    "def degree_clique_density_runs(path, deg_grid, clique_grid, n = 25, offset=0):\n",
    "    deg_dens = np.zeros(len(deg_grid))\n",
    "    clique_dens = np.zeros(len(clique_grid))\n",
    "    \n",
    "    for k in range(n):\n",
    "        links = np.genfromtxt(path + '{}.tsv'.format(k + offset), delimiter='\\t', dtype=int)\n",
    "        g = nx.Graph()\n",
    "        g.add_edges_from(links - 1)\n",
    "\n",
    "\n",
    "        degs = np.array([nx.degree(g, i) for i in g.nodes()], dtype=float)\n",
    "        clique = np.array([nx.node_clique_number(g, i) for i in g.nodes()], dtype=float)\n",
    "        \n",
    "        deg_dens += fit_kde(degs, deg_grid) / n  \n",
    "        clique_dens += fit_count(clique, clique_grid) / n  \n",
    "        \n",
    "    return deg_dens, clique_dens\n",
    "\n",
    "def degree_clique_density_graph(g, deg_grid, clique_grid):\n",
    "    degs = np.array([nx.degree(g, i) for i in g.nodes()], dtype=float)\n",
    "    clique = np.array([nx.node_clique_number(g, i) for i in g.nodes()], dtype=float)\n",
    "\n",
    "    deg_dens = fit_kde(degs, deg_grid)\n",
    "    clique_dens = fit_count(clique, clique_grid) \n",
    "        \n",
    "    return deg_dens, clique_dens"
   ]
  },
  {
   "cell_type": "code",
   "execution_count": 37,
   "metadata": {},
   "outputs": [
    {
     "ename": "OSError",
     "evalue": "bnpgraph_runs/1.tsv not found.",
     "output_type": "error",
     "traceback": [
      "\u001b[1;31m---------------------------------------------------------------------------\u001b[0m",
      "\u001b[1;31mOSError\u001b[0m                                   Traceback (most recent call last)",
      "\u001b[1;32m<ipython-input-37-f70002471430>\u001b[0m in \u001b[0;36m<module>\u001b[1;34m()\u001b[0m\n\u001b[0;32m      3\u001b[0m \u001b[1;33m\u001b[0m\u001b[0m\n\u001b[0;32m      4\u001b[0m \u001b[0mdeg_dens_rcc\u001b[0m\u001b[1;33m,\u001b[0m \u001b[0mclique_dens_rcc\u001b[0m \u001b[1;33m=\u001b[0m \u001b[0mdegree_clique_density_runs\u001b[0m\u001b[1;33m(\u001b[0m\u001b[1;34m'rcc_runs_clique_init/'\u001b[0m\u001b[1;33m,\u001b[0m \u001b[0mdeg_grid\u001b[0m\u001b[1;33m,\u001b[0m \u001b[0mclique_grid\u001b[0m\u001b[1;33m)\u001b[0m\u001b[1;33m\u001b[0m\u001b[0m\n\u001b[1;32m----> 5\u001b[1;33m \u001b[0mdeg_dens_bnp\u001b[0m\u001b[1;33m,\u001b[0m \u001b[0mclique_dens_bnp\u001b[0m \u001b[1;33m=\u001b[0m \u001b[0mdegree_clique_density_runs\u001b[0m\u001b[1;33m(\u001b[0m\u001b[1;34m'bnpgraph_runs/'\u001b[0m\u001b[1;33m,\u001b[0m \u001b[0mdeg_grid\u001b[0m\u001b[1;33m,\u001b[0m \u001b[0mclique_grid\u001b[0m\u001b[1;33m,\u001b[0m \u001b[0moffset\u001b[0m\u001b[1;33m=\u001b[0m\u001b[1;36m1\u001b[0m\u001b[1;33m)\u001b[0m\u001b[1;33m\u001b[0m\u001b[0m\n\u001b[0m",
      "\u001b[1;32m<ipython-input-33-bf043e117760>\u001b[0m in \u001b[0;36mdegree_clique_density_runs\u001b[1;34m(path, deg_grid, clique_grid, n, offset)\u001b[0m\n\u001b[0;32m     17\u001b[0m \u001b[1;33m\u001b[0m\u001b[0m\n\u001b[0;32m     18\u001b[0m     \u001b[1;32mfor\u001b[0m \u001b[0mk\u001b[0m \u001b[1;32min\u001b[0m \u001b[0mrange\u001b[0m\u001b[1;33m(\u001b[0m\u001b[0mn\u001b[0m\u001b[1;33m)\u001b[0m\u001b[1;33m:\u001b[0m\u001b[1;33m\u001b[0m\u001b[0m\n\u001b[1;32m---> 19\u001b[1;33m         \u001b[0mlinks\u001b[0m \u001b[1;33m=\u001b[0m \u001b[0mnp\u001b[0m\u001b[1;33m.\u001b[0m\u001b[0mgenfromtxt\u001b[0m\u001b[1;33m(\u001b[0m\u001b[0mpath\u001b[0m \u001b[1;33m+\u001b[0m \u001b[1;34m'{}.tsv'\u001b[0m\u001b[1;33m.\u001b[0m\u001b[0mformat\u001b[0m\u001b[1;33m(\u001b[0m\u001b[0mk\u001b[0m \u001b[1;33m+\u001b[0m \u001b[0moffset\u001b[0m\u001b[1;33m)\u001b[0m\u001b[1;33m,\u001b[0m \u001b[0mdelimiter\u001b[0m\u001b[1;33m=\u001b[0m\u001b[1;34m'\\t'\u001b[0m\u001b[1;33m,\u001b[0m \u001b[0mdtype\u001b[0m\u001b[1;33m=\u001b[0m\u001b[0mint\u001b[0m\u001b[1;33m)\u001b[0m\u001b[1;33m\u001b[0m\u001b[0m\n\u001b[0m\u001b[0;32m     20\u001b[0m         \u001b[0mg\u001b[0m \u001b[1;33m=\u001b[0m \u001b[0mnx\u001b[0m\u001b[1;33m.\u001b[0m\u001b[0mGraph\u001b[0m\u001b[1;33m(\u001b[0m\u001b[1;33m)\u001b[0m\u001b[1;33m\u001b[0m\u001b[0m\n\u001b[0;32m     21\u001b[0m         \u001b[0mg\u001b[0m\u001b[1;33m.\u001b[0m\u001b[0madd_edges_from\u001b[0m\u001b[1;33m(\u001b[0m\u001b[0mlinks\u001b[0m \u001b[1;33m-\u001b[0m \u001b[1;36m1\u001b[0m\u001b[1;33m)\u001b[0m\u001b[1;33m\u001b[0m\u001b[0m\n",
      "\u001b[1;32m~\\AppData\\Local\\Continuum\\anaconda3\\lib\\site-packages\\numpy\\lib\\npyio.py\u001b[0m in \u001b[0;36mgenfromtxt\u001b[1;34m(fname, dtype, comments, delimiter, skip_header, skip_footer, converters, missing_values, filling_values, usecols, names, excludelist, deletechars, replace_space, autostrip, case_sensitive, defaultfmt, unpack, usemask, loose, invalid_raise, max_rows, encoding)\u001b[0m\n\u001b[0;32m   1687\u001b[0m             \u001b[0mfname\u001b[0m \u001b[1;33m=\u001b[0m \u001b[0mstr\u001b[0m\u001b[1;33m(\u001b[0m\u001b[0mfname\u001b[0m\u001b[1;33m)\u001b[0m\u001b[1;33m\u001b[0m\u001b[0m\n\u001b[0;32m   1688\u001b[0m         \u001b[1;32mif\u001b[0m \u001b[0misinstance\u001b[0m\u001b[1;33m(\u001b[0m\u001b[0mfname\u001b[0m\u001b[1;33m,\u001b[0m \u001b[0mbasestring\u001b[0m\u001b[1;33m)\u001b[0m\u001b[1;33m:\u001b[0m\u001b[1;33m\u001b[0m\u001b[0m\n\u001b[1;32m-> 1689\u001b[1;33m             \u001b[0mfhd\u001b[0m \u001b[1;33m=\u001b[0m \u001b[0miter\u001b[0m\u001b[1;33m(\u001b[0m\u001b[0mnp\u001b[0m\u001b[1;33m.\u001b[0m\u001b[0mlib\u001b[0m\u001b[1;33m.\u001b[0m\u001b[0m_datasource\u001b[0m\u001b[1;33m.\u001b[0m\u001b[0mopen\u001b[0m\u001b[1;33m(\u001b[0m\u001b[0mfname\u001b[0m\u001b[1;33m,\u001b[0m \u001b[1;34m'rt'\u001b[0m\u001b[1;33m,\u001b[0m \u001b[0mencoding\u001b[0m\u001b[1;33m=\u001b[0m\u001b[0mencoding\u001b[0m\u001b[1;33m)\u001b[0m\u001b[1;33m)\u001b[0m\u001b[1;33m\u001b[0m\u001b[0m\n\u001b[0m\u001b[0;32m   1690\u001b[0m             \u001b[0mown_fhd\u001b[0m \u001b[1;33m=\u001b[0m \u001b[1;32mTrue\u001b[0m\u001b[1;33m\u001b[0m\u001b[0m\n\u001b[0;32m   1691\u001b[0m         \u001b[1;32melse\u001b[0m\u001b[1;33m:\u001b[0m\u001b[1;33m\u001b[0m\u001b[0m\n",
      "\u001b[1;32m~\\AppData\\Local\\Continuum\\anaconda3\\lib\\site-packages\\numpy\\lib\\_datasource.py\u001b[0m in \u001b[0;36mopen\u001b[1;34m(path, mode, destpath, encoding, newline)\u001b[0m\n\u001b[0;32m    258\u001b[0m \u001b[1;33m\u001b[0m\u001b[0m\n\u001b[0;32m    259\u001b[0m     \u001b[0mds\u001b[0m \u001b[1;33m=\u001b[0m \u001b[0mDataSource\u001b[0m\u001b[1;33m(\u001b[0m\u001b[0mdestpath\u001b[0m\u001b[1;33m)\u001b[0m\u001b[1;33m\u001b[0m\u001b[0m\n\u001b[1;32m--> 260\u001b[1;33m     \u001b[1;32mreturn\u001b[0m \u001b[0mds\u001b[0m\u001b[1;33m.\u001b[0m\u001b[0mopen\u001b[0m\u001b[1;33m(\u001b[0m\u001b[0mpath\u001b[0m\u001b[1;33m,\u001b[0m \u001b[0mmode\u001b[0m\u001b[1;33m,\u001b[0m \u001b[0mencoding\u001b[0m\u001b[1;33m=\u001b[0m\u001b[0mencoding\u001b[0m\u001b[1;33m,\u001b[0m \u001b[0mnewline\u001b[0m\u001b[1;33m=\u001b[0m\u001b[0mnewline\u001b[0m\u001b[1;33m)\u001b[0m\u001b[1;33m\u001b[0m\u001b[0m\n\u001b[0m\u001b[0;32m    261\u001b[0m \u001b[1;33m\u001b[0m\u001b[0m\n\u001b[0;32m    262\u001b[0m \u001b[1;33m\u001b[0m\u001b[0m\n",
      "\u001b[1;32m~\\AppData\\Local\\Continuum\\anaconda3\\lib\\site-packages\\numpy\\lib\\_datasource.py\u001b[0m in \u001b[0;36mopen\u001b[1;34m(self, path, mode, encoding, newline)\u001b[0m\n\u001b[0;32m    614\u001b[0m                                       encoding=encoding, newline=newline)\n\u001b[0;32m    615\u001b[0m         \u001b[1;32melse\u001b[0m\u001b[1;33m:\u001b[0m\u001b[1;33m\u001b[0m\u001b[0m\n\u001b[1;32m--> 616\u001b[1;33m             \u001b[1;32mraise\u001b[0m \u001b[0mIOError\u001b[0m\u001b[1;33m(\u001b[0m\u001b[1;34m\"%s not found.\"\u001b[0m \u001b[1;33m%\u001b[0m \u001b[0mpath\u001b[0m\u001b[1;33m)\u001b[0m\u001b[1;33m\u001b[0m\u001b[0m\n\u001b[0m\u001b[0;32m    617\u001b[0m \u001b[1;33m\u001b[0m\u001b[0m\n\u001b[0;32m    618\u001b[0m \u001b[1;33m\u001b[0m\u001b[0m\n",
      "\u001b[1;31mOSError\u001b[0m: bnpgraph_runs/1.tsv not found."
     ]
    }
   ],
   "source": [
    "deg_grid = np.linspace(1, 45, 20)\n",
    "clique_grid = np.arange(2, 20)\n",
    "\n",
    "deg_dens_rcc, clique_dens_rcc = degree_clique_density_runs('rcc_runs_clique_init/', deg_grid, clique_grid)\n",
    "deg_dens_bnp, clique_dens_bnp = degree_clique_density_runs('bnpgraph_runs/', deg_grid, clique_grid, offset=1)"
   ]
  },
  {
   "cell_type": "code",
   "execution_count": null,
   "metadata": {},
   "outputs": [],
   "source": [
    "deg_dens_orig, clique_dens_orig = degree_clique_density_graph(g, deg_grid, clique_grid)"
   ]
  },
  {
   "cell_type": "code",
   "execution_count": null,
   "metadata": {},
   "outputs": [],
   "source": [
    "deg_df = pd.DataFrame({\n",
    "    'Truth': deg_dens_orig, \n",
    "    'RCC': deg_dens_rcc, \n",
    "    'BNPGraph': deg_dens_bnp}, index=deg_grid)\n",
    "maxclique_df = pd.DataFrame({\n",
    "    'Truth': clique_dens_orig, \n",
    "    'RCC': clique_dens_rcc,\n",
    "    'BNPGraph': clique_dens_bnp}, index=clique_grid)"
   ]
  },
  {
   "cell_type": "code",
   "execution_count": null,
   "metadata": {},
   "outputs": [],
   "source": [
    "style = ['b--','r-','c-.']\n",
    "deg_df.plot(style=style, markersize=5, linewidth=2, figsize = (6, 4))\n",
    "plt.legend(fontsize=14) # using a size in points\n",
    "plt.xlim(1, 45)\n",
    "plt.xlabel(\"Degree\", fontsize=14)\n",
    "# plt.ylabel(\"Density\")\n",
    "# plt.title(\"Degree distribution\")\n",
    "plt.savefig('enron_clique_init_degree_dist.png', format=\"PNG\")\n",
    "plt.show()"
   ]
  },
  {
   "cell_type": "code",
   "execution_count": null,
   "metadata": {},
   "outputs": [],
   "source": [
    "style = ['b--','r-','c-.']\n",
    "maxclique_df.plot(style=style, markersize=5, linewidth=2, figsize = (6, 4))\n",
    "plt.legend(fontsize=14) # using a size in points\n",
    "plt.xlim(2, 15)\n",
    "plt.xlabel(\"Maximal clique size per node\", fontsize=14)\n",
    "# plt.ylabel(\"Density\")\n",
    "# plt.title(\"Degree distribution\")\n",
    "plt.savefig('enron_clique_init_maximal_clique_dist.png', format=\"PNG\")\n",
    "plt.show()"
   ]
  },
  {
   "cell_type": "code",
   "execution_count": null,
   "metadata": {},
   "outputs": [],
   "source": []
  }
 ],
 "metadata": {
  "kernelspec": {
   "display_name": "Python 3",
   "language": "python",
   "name": "python3"
  },
  "language_info": {
   "codemirror_mode": {
    "name": "ipython",
    "version": 3
   },
   "file_extension": ".py",
   "mimetype": "text/x-python",
   "name": "python",
   "nbconvert_exporter": "python",
   "pygments_lexer": "ipython3",
   "version": "3.6.5"
  }
 },
 "nbformat": 4,
 "nbformat_minor": 2
}
